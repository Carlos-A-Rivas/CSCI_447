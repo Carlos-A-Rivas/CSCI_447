{
 "cells": [
  {
   "cell_type": "code",
   "execution_count": 1,
   "metadata": {},
   "outputs": [],
   "source": [
    "import os\n",
    "import numpy as np\n",
    "import random\n",
    "import csv\n",
    "from tqdm import tqdm\n",
    "import matplotlib.pyplot as plt\n",
    "import itertools\n",
    "from dataset import dataset\n",
    "from neural_network import neural_net\n",
    "from additional_functions import process_all\n",
    "from additional_functions import save_arrays_to_csv\n",
    "from additional_functions import load_arrays_from_csv\n",
    "from additional_functions import make_plots_2"
   ]
  },
  {
   "cell_type": "markdown",
   "metadata": {},
   "source": [
    "# Neural Network Instantiation"
   ]
  },
  {
   "cell_type": "code",
   "execution_count": 2,
   "metadata": {},
   "outputs": [],
   "source": [
    "abalone_data, cancer_data, fire_data, glass_data, machine_data, soybean_data = process_all('carlthedog3', True)"
   ]
  },
  {
   "cell_type": "code",
   "execution_count": 3,
   "metadata": {},
   "outputs": [],
   "source": [
    "# Classification Sets\n",
    "cancer_net_0 = neural_net(cancer_data, \"classification\", hidden_layer_count=0, epochs=10,momentum=.5,learning_rate=.01,batch_size=16)\n",
    "cancer_net_1 = neural_net(cancer_data, \"classification\", hidden_layer_count=1, network_shape=[9,1,2],epochs=50,momentum=.7,learning_rate=.1,batch_size=16)\n",
    "cancer_net_2 = neural_net(cancer_data, \"classification\", hidden_layer_count=2, network_shape=[9,1,5,2],epochs=50,momentum=.9,learning_rate=.01,batch_size=16)\n",
    "\n",
    "glass_net_0 = neural_net(glass_data, \"classification\", hidden_layer_count=0, epochs=100,momentum=.5,learning_rate=.001,batch_size=16)\n",
    "glass_net_1 = neural_net(glass_data, \"classification\", hidden_layer_count=1, network_shape=[9,1,6],epochs=500,momentum=.95,learning_rate=.01,batch_size=32)\n",
    "glass_net_2 = neural_net(glass_data, \"classification\", hidden_layer_count=2, network_shape=[9,1,9,6],epochs=500,momentum=.95,learning_rate=.01,batch_size=32)\n",
    "\n",
    "soybean_net_0 = neural_net(soybean_data, \"classification\", hidden_layer_count=0, epochs=10,momentum=.99,learning_rate=.01,batch_size=16)\n",
    "soybean_net_1 = neural_net(soybean_data, \"classification\", hidden_layer_count=1, network_shape=[35,1,4],epochs=500,momentum=.99,learning_rate=.01,batch_size=16)\n",
    "soybean_net_2 = neural_net(soybean_data, \"classification\", hidden_layer_count=2, network_shape=[35,1,9,4],epochs=500,momentum=.95,learning_rate=.1,batch_size=256)\n",
    "\n",
    "\n",
    "# Regression Sets\n",
    "abalone_net_0 = neural_net(abalone_data, \"regression\", hidden_layer_count=0, epochs=200,momentum=.9,learning_rate=.01,batch_size=32)\n",
    "abalone_net_1 = neural_net(abalone_data, \"regression\", hidden_layer_count=1, network_shape=[8,1,1],epochs=500,momentum=.95,learning_rate=.01,batch_size=16)\n",
    "abalone_net_2 = neural_net(abalone_data, \"regression\", hidden_layer_count=2, network_shape=[8,1,9,1],epochs=500,momentum=.99,learning_rate=.001,batch_size=16)\n",
    "\n",
    "fire_net_0 = neural_net(fire_data, \"regression\", hidden_layer_count=0, epochs=200,momentum=.9,learning_rate=.01,batch_size=16)\n",
    "fire_net_1 = neural_net(fire_data, \"regression\", hidden_layer_count=1, network_shape=[12,1,1],epochs=200,momentum=.95,learning_rate=.01,batch_size=16)\n",
    "fire_net_2 = neural_net(fire_data, \"regression\", hidden_layer_count=2, network_shape=[12,1,1,1],epochs=500,momentum=.95,learning_rate=.001,batch_size=16)\n",
    "\n",
    "machine_net_0 = neural_net(machine_data, \"regression\", hidden_layer_count=0, epochs=500,momentum=.95,learning_rate=.01,batch_size=16)\n",
    "machine_net_1 = neural_net(machine_data, \"regression\", hidden_layer_count=1, network_shape=[9,1,1],epochs=500,momentum=.99,learning_rate=.01,batch_size=16)\n",
    "machine_net_2 = neural_net(machine_data, \"regression\", hidden_layer_count=2, network_shape=[9,1,7,1],epochs=500,momentum=.99,learning_rate=.01,batch_size=16)"
   ]
  },
  {
   "cell_type": "markdown",
   "metadata": {},
   "source": [
    "# Abalone Tuning + Final Scores"
   ]
  },
  {
   "cell_type": "code",
   "execution_count": 4,
   "metadata": {},
   "outputs": [
    {
     "name": "stderr",
     "output_type": "stream",
     "text": [
      "                                                                     "
     ]
    },
    {
     "name": "stdout",
     "output_type": "stream",
     "text": [
      "Average Performance: 0.006521224609496107\n"
     ]
    },
    {
     "name": "stderr",
     "output_type": "stream",
     "text": [
      "\r"
     ]
    }
   ],
   "source": [
    "#abalone_net_0_parameters = abalone_net_0.tune()\n",
    "abalone_0_score = abalone_net_0.train_test(tuning_flag=False)\n",
    "print(f\"Average Performance: {np.mean(abalone_0_score)}\")"
   ]
  },
  {
   "cell_type": "code",
   "execution_count": 5,
   "metadata": {},
   "outputs": [
    {
     "name": "stderr",
     "output_type": "stream",
     "text": [
      "                                                                     "
     ]
    },
    {
     "name": "stdout",
     "output_type": "stream",
     "text": [
      "Average Performance: 0.006559091413981334\n"
     ]
    },
    {
     "name": "stderr",
     "output_type": "stream",
     "text": [
      "\r"
     ]
    }
   ],
   "source": [
    "#abalone_net_1_parameters = abalone_net_1.tune()\n",
    "abalone_1_score = abalone_net_1.train_test(tuning_flag=False)\n",
    "print(f\"Average Performance: {np.mean(abalone_1_score)}\")"
   ]
  },
  {
   "cell_type": "code",
   "execution_count": 6,
   "metadata": {},
   "outputs": [
    {
     "name": "stderr",
     "output_type": "stream",
     "text": [
      "                                                                     "
     ]
    },
    {
     "name": "stdout",
     "output_type": "stream",
     "text": [
      "Average Performance: 0.006931437623464018\n"
     ]
    },
    {
     "name": "stderr",
     "output_type": "stream",
     "text": [
      "\r"
     ]
    }
   ],
   "source": [
    "#abalone_net_2_parameters = abalone_net_2.tune()\n",
    "abalone_2_score = abalone_net_2.train_test(tuning_flag=False)\n",
    "print(f\"Average Performance: {np.mean(abalone_2_score)}\")"
   ]
  },
  {
   "cell_type": "markdown",
   "metadata": {},
   "source": [
    "# Fire Tuning + Final Scores"
   ]
  },
  {
   "cell_type": "code",
   "execution_count": 7,
   "metadata": {},
   "outputs": [
    {
     "name": "stderr",
     "output_type": "stream",
     "text": [
      "                                                                     "
     ]
    },
    {
     "name": "stdout",
     "output_type": "stream",
     "text": [
      "Average Performance: 0.005721274142668384\n"
     ]
    },
    {
     "name": "stderr",
     "output_type": "stream",
     "text": [
      "\r"
     ]
    }
   ],
   "source": [
    "#fire_net_0_parameters = fire_net_0.tune()\n",
    "fire_0_score = fire_net_0.train_test(tuning_flag=False)\n",
    "print(f\"Average Performance: {np.mean(fire_0_score)}\")"
   ]
  },
  {
   "cell_type": "code",
   "execution_count": 8,
   "metadata": {},
   "outputs": [
    {
     "name": "stderr",
     "output_type": "stream",
     "text": [
      "                                                                     "
     ]
    },
    {
     "name": "stdout",
     "output_type": "stream",
     "text": [
      "Average Performance: 0.0037049092062057245\n"
     ]
    },
    {
     "name": "stderr",
     "output_type": "stream",
     "text": [
      "\r"
     ]
    }
   ],
   "source": [
    "#fire_net_1_parameters = fire_net_1.tune()\n",
    "fire_1_score = fire_net_1.train_test(tuning_flag=False)\n",
    "print(f\"Average Performance: {np.mean(fire_1_score)}\")"
   ]
  },
  {
   "cell_type": "code",
   "execution_count": 9,
   "metadata": {},
   "outputs": [
    {
     "name": "stderr",
     "output_type": "stream",
     "text": [
      "                                                                     "
     ]
    },
    {
     "name": "stdout",
     "output_type": "stream",
     "text": [
      "Average Performance: 0.0037254296840037344\n"
     ]
    },
    {
     "name": "stderr",
     "output_type": "stream",
     "text": [
      "\r"
     ]
    }
   ],
   "source": [
    "#fire_net_2_parameters = fire_net_2.tune()\n",
    "fire_2_score = fire_net_2.train_test(tuning_flag=False)\n",
    "print(f\"Average Performance: {np.mean(fire_2_score)}\")"
   ]
  },
  {
   "cell_type": "markdown",
   "metadata": {},
   "source": [
    "# Machine Tuning + Final Scores"
   ]
  },
  {
   "cell_type": "code",
   "execution_count": 10,
   "metadata": {},
   "outputs": [
    {
     "name": "stderr",
     "output_type": "stream",
     "text": [
      "                                                                     "
     ]
    },
    {
     "name": "stdout",
     "output_type": "stream",
     "text": [
      "Average Performance: 0.0010733058271575635\n"
     ]
    },
    {
     "name": "stderr",
     "output_type": "stream",
     "text": [
      "\r"
     ]
    }
   ],
   "source": [
    "#machine_net_0_parameters = machine_net_0.tune()\n",
    "machine_0_score = machine_net_0.train_test(tuning_flag=False)\n",
    "print(f\"Average Performance: {np.mean(machine_0_score)}\")"
   ]
  },
  {
   "cell_type": "code",
   "execution_count": 11,
   "metadata": {},
   "outputs": [
    {
     "name": "stderr",
     "output_type": "stream",
     "text": [
      "                                                                     "
     ]
    },
    {
     "name": "stdout",
     "output_type": "stream",
     "text": [
      "Average Performance: 0.006593045274298735\n"
     ]
    },
    {
     "name": "stderr",
     "output_type": "stream",
     "text": [
      "\r"
     ]
    }
   ],
   "source": [
    "#machine_net_1_parameters = machine_net_1.tune()\n",
    "machine_1_score = machine_net_1.train_test(tuning_flag=False)\n",
    "print(f\"Average Performance: {np.mean(machine_1_score)}\")"
   ]
  },
  {
   "cell_type": "code",
   "execution_count": 12,
   "metadata": {},
   "outputs": [
    {
     "name": "stderr",
     "output_type": "stream",
     "text": [
      "                                                                     "
     ]
    },
    {
     "name": "stdout",
     "output_type": "stream",
     "text": [
      "Average Performance: 0.004282514017486736\n"
     ]
    },
    {
     "name": "stderr",
     "output_type": "stream",
     "text": [
      "\r"
     ]
    }
   ],
   "source": [
    "#machine_net_2_parameters = machine_net_2.tune()\n",
    "machine_2_score = machine_net_2.train_test(tuning_flag=False)\n",
    "print(f\"Average Performance: {np.mean(machine_2_score)}\")"
   ]
  },
  {
   "cell_type": "markdown",
   "metadata": {},
   "source": [
    "# Cancer Tuning + Final Scores"
   ]
  },
  {
   "cell_type": "code",
   "execution_count": 13,
   "metadata": {},
   "outputs": [
    {
     "name": "stderr",
     "output_type": "stream",
     "text": [
      "                                                                     "
     ]
    },
    {
     "name": "stdout",
     "output_type": "stream",
     "text": [
      "Average Performance: 0.42910906298003065\n"
     ]
    },
    {
     "name": "stderr",
     "output_type": "stream",
     "text": [
      "\r"
     ]
    }
   ],
   "source": [
    "#cancer_net_0_parameters = cancer_net_0.tune()\n",
    "cancer_0_score = cancer_net_0.train_test(tuning_flag=False)\n",
    "print(f\"Average Performance: {np.mean(cancer_0_score)}\")"
   ]
  },
  {
   "cell_type": "code",
   "execution_count": 14,
   "metadata": {},
   "outputs": [
    {
     "name": "stderr",
     "output_type": "stream",
     "text": [
      "                                                                     "
     ]
    },
    {
     "name": "stdout",
     "output_type": "stream",
     "text": [
      "Average Performance: 0.9650281618023552\n"
     ]
    },
    {
     "name": "stderr",
     "output_type": "stream",
     "text": [
      "\r"
     ]
    }
   ],
   "source": [
    "#cancer_net_1_parameters = cancer_net_1.tune()\n",
    "cancer_1_score = cancer_net_1.train_test(tuning_flag=False)\n",
    "print(f\"Average Performance: {np.mean(cancer_1_score)}\")"
   ]
  },
  {
   "cell_type": "code",
   "execution_count": 15,
   "metadata": {},
   "outputs": [
    {
     "name": "stderr",
     "output_type": "stream",
     "text": [
      "                                                                     "
     ]
    },
    {
     "name": "stdout",
     "output_type": "stream",
     "text": [
      "Average Performance: 0.9682027649769583\n"
     ]
    },
    {
     "name": "stderr",
     "output_type": "stream",
     "text": [
      "\r"
     ]
    }
   ],
   "source": [
    "#cancer_net_2_parameters = cancer_net_2.tune()\n",
    "cancer_2_score = cancer_net_2.train_test(tuning_flag=False)\n",
    "print(f\"Average Performance: {np.mean(cancer_2_score)}\")"
   ]
  },
  {
   "cell_type": "markdown",
   "metadata": {},
   "source": [
    "# Glass Tuning + Final Scores"
   ]
  },
  {
   "cell_type": "code",
   "execution_count": 16,
   "metadata": {},
   "outputs": [
    {
     "name": "stderr",
     "output_type": "stream",
     "text": [
      "                                                                     "
     ]
    },
    {
     "name": "stdout",
     "output_type": "stream",
     "text": [
      "Average Performance: 0.010263157894736842\n"
     ]
    },
    {
     "name": "stderr",
     "output_type": "stream",
     "text": [
      "\r"
     ]
    }
   ],
   "source": [
    "#glass_net_0_parameters = glass_net_0.tune()\n",
    "glass_0_score = glass_net_0.train_test(tuning_flag=False)\n",
    "print(f\"Average Performance: {np.mean(glass_0_score)}\")"
   ]
  },
  {
   "cell_type": "code",
   "execution_count": 29,
   "metadata": {},
   "outputs": [
    {
     "name": "stderr",
     "output_type": "stream",
     "text": [
      "                                                                     "
     ]
    },
    {
     "name": "stdout",
     "output_type": "stream",
     "text": [
      "Average Performance: 0.58\n"
     ]
    },
    {
     "name": "stderr",
     "output_type": "stream",
     "text": [
      "\r"
     ]
    }
   ],
   "source": [
    "#glass_net_1_parameters = glass_net_1.tune()\n",
    "glass_1_score = glass_net_1.train_test(tuning_flag=False)\n",
    "print(f\"Average Performance: {np.mean(glass_1_score)}\")"
   ]
  },
  {
   "cell_type": "code",
   "execution_count": 30,
   "metadata": {},
   "outputs": [
    {
     "name": "stderr",
     "output_type": "stream",
     "text": [
      "                                                                     "
     ]
    },
    {
     "name": "stdout",
     "output_type": "stream",
     "text": [
      "Average Performance: 0.59\n"
     ]
    },
    {
     "name": "stderr",
     "output_type": "stream",
     "text": [
      "\r"
     ]
    }
   ],
   "source": [
    "#glass_net_2_parameters = glass_net_2.tune()\n",
    "glass_2_score = glass_net_2.train_test(tuning_flag=False)\n",
    "print(f\"Average Performance: {np.mean(glass_2_score)}\")"
   ]
  },
  {
   "cell_type": "markdown",
   "metadata": {},
   "source": [
    "# Soybean Tuning + Final Scores"
   ]
  },
  {
   "cell_type": "code",
   "execution_count": 19,
   "metadata": {},
   "outputs": [
    {
     "name": "stderr",
     "output_type": "stream",
     "text": [
      "                                                            "
     ]
    },
    {
     "name": "stdout",
     "output_type": "stream",
     "text": [
      "Average Performance: 0.125\n"
     ]
    },
    {
     "name": "stderr",
     "output_type": "stream",
     "text": [
      "\r"
     ]
    }
   ],
   "source": [
    "#soybean_net_0_parameters = soybean_net_0.tune()\n",
    "soybean_0_score = soybean_net_0.train_test(tuning_flag=False)\n",
    "print(f\"Average Performance: {np.mean(soybean_0_score)}\")"
   ]
  },
  {
   "cell_type": "code",
   "execution_count": 20,
   "metadata": {},
   "outputs": [
    {
     "name": "stderr",
     "output_type": "stream",
     "text": [
      "                                                                     "
     ]
    },
    {
     "name": "stdout",
     "output_type": "stream",
     "text": [
      "Average Performance: 0.765\n"
     ]
    },
    {
     "name": "stderr",
     "output_type": "stream",
     "text": [
      "\r"
     ]
    }
   ],
   "source": [
    "#soybean_net_1_parameters = soybean_net_1.tune()\n",
    "soybean_1_score = soybean_net_1.train_test(tuning_flag=False)\n",
    "print(f\"Average Performance: {np.mean(soybean_1_score)}\")"
   ]
  },
  {
   "cell_type": "code",
   "execution_count": 27,
   "metadata": {},
   "outputs": [
    {
     "name": "stderr",
     "output_type": "stream",
     "text": [
      "                                                                     "
     ]
    },
    {
     "name": "stdout",
     "output_type": "stream",
     "text": [
      "Average Performance: 0.8800000000000001\n"
     ]
    },
    {
     "name": "stderr",
     "output_type": "stream",
     "text": [
      "\r"
     ]
    }
   ],
   "source": [
    "#soybean_net_2_parameters = soybean_net_2.tune()\n",
    "soybean_2_score = soybean_net_2.train_test(tuning_flag=False)\n",
    "print(f\"Average Performance: {np.mean(soybean_2_score)}\")"
   ]
  },
  {
   "cell_type": "markdown",
   "metadata": {},
   "source": [
    "# Plotting Metrics"
   ]
  },
  {
   "cell_type": "code",
   "execution_count": 31,
   "metadata": {},
   "outputs": [
    {
     "name": "stdout",
     "output_type": "stream",
     "text": [
      "[array([0.38095238, 0.55555556, 0.34920635, 0.65079365, 0.44444444,\n",
      "       0.3968254 , 0.44444444, 0.36507937, 0.36507937, 0.33870968]), array([0.96825397, 1.        , 0.98412698, 0.95238095, 0.93650794,\n",
      "       0.98412698, 0.95238095, 0.95238095, 0.95238095, 0.96774194]), array([0.98412698, 1.        , 0.98412698, 0.98412698, 0.96825397,\n",
      "       0.98412698, 0.9047619 , 0.95238095, 0.95238095, 0.96774194]), array([0.        , 0.05      , 0.        , 0.        , 0.        ,\n",
      "       0.        , 0.        , 0.        , 0.05263158, 0.        ]), array([0.4       , 0.4       , 0.73684211, 0.52631579, 0.68421053,\n",
      "       0.57894737, 0.63157895, 0.63157895, 0.68421053, 0.52631579]), array([0.35      , 0.55      , 0.73684211, 0.42105263, 0.68421053,\n",
      "       0.63157895, 0.57894737, 0.68421053, 0.73684211, 0.52631579]), array([0.  , 0.  , 0.5 , 0.  , 0.  , 0.25, 0.  , 0.  , 0.5 , 0.  ]), array([0.8 , 0.6 , 1.  , 0.75, 0.5 , 0.75, 0.75, 1.  , 0.75, 0.75]), array([0.8 , 1.  , 0.75, 0.75, 1.  , 1.  , 0.75, 1.  , 1.  , 0.75]), array([0.00657865, 0.00659412, 0.0061436 , 0.0061214 , 0.00619871,\n",
      "       0.00663585, 0.00744256, 0.00718159, 0.00647329, 0.00584247]), array([0.0063753 , 0.00648061, 0.00603837, 0.00643132, 0.00561898,\n",
      "       0.00680678, 0.00723367, 0.00677295, 0.00822617, 0.00560676]), array([0.00741792, 0.00658281, 0.00642295, 0.006421  , 0.00839611,\n",
      "       0.00695446, 0.00689378, 0.007282  , 0.00734888, 0.00559445]), array([0.00096168, 0.00163281, 0.00274735, 0.00207637, 0.02384933,\n",
      "       0.02192856, 0.00147109, 0.00053176, 0.00075318, 0.0012606 ]), array([0.00083203, 0.00084589, 0.00092532, 0.00158793, 0.00988606,\n",
      "       0.02110275, 0.00033438, 0.00029353, 0.00052174, 0.00071945]), array([0.00082686, 0.00083217, 0.00101692, 0.00149037, 0.01004598,\n",
      "       0.02119203, 0.0003396 , 0.00032548, 0.00053829, 0.0006466 ]), array([0.0005702 , 0.00144085, 0.00079803, 0.00095807, 0.00078767,\n",
      "       0.00094297, 0.00067045, 0.00350574, 0.00034562, 0.00071347]), array([0.00314452, 0.00098228, 0.00690348, 0.00030552, 0.00035152,\n",
      "       0.00048622, 0.00150926, 0.05037759, 0.00029334, 0.00157674]), array([0.0001303 , 0.00586903, 0.00048531, 0.000956  , 0.00085677,\n",
      "       0.00011774, 0.03182206, 0.00228908, 0.00012078, 0.00017808])]\n"
     ]
    },
    {
     "data": {
      "image/png": "[encoded data removed]",
      "text/plain": [
       "<Figure size 800x500 with 1 Axes>"
      ]
     },
     "metadata": {},
     "output_type": "display_data"
    },
    {
     "data": {
      "image/png": "[encoded data removed]",
      "text/plain": [
       "<Figure size 800x500 with 1 Axes>"
      ]
     },
     "metadata": {},
     "output_type": "display_data"
    }
   ],
   "source": [
    "classification_arrays = [cancer_0_score,cancer_1_score,cancer_2_score,\n",
    "                         glass_0_score,glass_1_score,glass_2_score,\n",
    "                         soybean_0_score,soybean_1_score,soybean_2_score]\n",
    "regression_arrays = [abalone_0_score,abalone_1_score,abalone_2_score,\n",
    "                     fire_0_score,fire_1_score,fire_2_score,\n",
    "                     machine_0_score,machine_1_score,machine_2_score]\n",
    "arrays_to_save = []\n",
    "arrays_to_save.extend(classification_arrays)\n",
    "arrays_to_save.extend(regression_arrays)\n",
    "print(arrays_to_save)\n",
    "save_arrays_to_csv(arrays_to_save, 'results.csv')\n",
    "loaded_arrays = load_arrays_from_csv('results.csv')\n",
    "#loaded_arrays[1] = cancer_1_score\n",
    "classification_arrays = loaded_arrays[:9]\n",
    "regression_arrays = loaded_arrays[9:]\n",
    "#loaded_arrays = classification_arrays\n",
    "#loaded_arrays.extend(regression_arrays)\n",
    "classification_dataset_names = ['Cancer', 'Glass', 'Soybean']\n",
    "regression_dataset_names = ['Abalone', 'Fire', 'Machine']\n",
    "\n",
    "make_plots_2(loaded_arrays, classification_dataset_names, regression_dataset_names, (8, 5), 0, '/home/carlthedog3/CSCI_447/Project_3/Code/Figures/')"
   ]
  }
 ],
 "metadata": {
  "kernelspec": {
   "display_name": "Python 3",
   "language": "python",
   "name": "python3"
  },
  "language_info": {
   "codemirror_mode": {
    "name": "ipython",
    "version": 3
   },
   "file_extension": ".py",
   "mimetype": "text/x-python",
   "name": "python",
   "nbconvert_exporter": "python",
   "pygments_lexer": "ipython3",
   "version": "3.10.12"
  }
 },
 "nbformat": 4,
 "nbformat_minor": 2
}
