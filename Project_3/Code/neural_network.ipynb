{
 "cells": [
  {
   "cell_type": "code",
   "execution_count": 55,
   "metadata": {},
   "outputs": [],
   "source": [
    "import os\n",
    "import numpy as np\n",
    "import random\n",
    "import csv\n",
    "from tqdm import tqdm\n",
    "import matplotlib.pyplot as plt\n",
    "import itertools\n",
    "from dataset import dataset\n",
    "from additional_functions import process_all\n",
    "#from additional_functions import save_arrays_to_csv\n",
    "#from additional_functions import load_arrays_from_csv\n",
    "from additional_functions import make_plots_2"
   ]
  },
  {
   "cell_type": "code",
   "execution_count": 2,
   "metadata": {},
   "outputs": [],
   "source": [
    "class neural_net:\n",
    "    def __init__(self, data: dataset, prediction_type_flag: str, hidden_layer_count=0, network_shape=[], hidden_node_count=1, epochs=100, momentum=.9, learning_rate=.01, batch_size=10, suppress_plots=True):\n",
    "        self.suppress_plots = suppress_plots\n",
    "        self.epochs = epochs\n",
    "        self.momentum = momentum\n",
    "        self.learning_rate = learning_rate\n",
    "        self.batch_size = batch_size\n",
    "        self.hidden_layer_count = hidden_layer_count\n",
    "        if hidden_layer_count == 0:\n",
    "            hidden_node_count = 0\n",
    "        else:\n",
    "            hidden_node_count = [hidden_node_count] * hidden_layer_count\n",
    "        self.tune_set = data.tune_set\n",
    "        self.validate_set = data.validate_set\n",
    "        self.prediction_type = prediction_type_flag\n",
    "\n",
    "        if self.prediction_type == \"classification\":\n",
    "            self.class_count = len(np.unique(self.tune_set[:,-1]))\n",
    "        else:\n",
    "            self.class_count = 0\n",
    "\n",
    "        input_size = self.tune_set.shape[1] - 1\n",
    "        self.input_size = input_size\n",
    "        if network_shape == []:\n",
    "            self.network_shape = [input_size] + (hidden_node_count if hidden_node_count else []) + ([self.class_count] if (self.prediction_type == \"classification\") else [1])\n",
    "        else:\n",
    "            self.network_shape = network_shape\n",
    "        self.biases = []\n",
    "        self.weights = []\n",
    "        self.bias_velocity = []\n",
    "        self.weight_velocity = []\n",
    "\n",
    "    def init_weights_biases_momentum(self):\n",
    "        '''\n",
    "        Initializes weights based on the network shape list\n",
    "        '''\n",
    "        self.biases = [np.random.randn(next_size, 1) for next_size in self.network_shape[1:]]\n",
    "        self.weights = [np.random.randn(next_size, cur_size) for cur_size, next_size in zip(self.network_shape[:-1], self.network_shape[1:])]\n",
    "        self.bias_velocity = [np.zeros(bias.shape) for bias in self.biases]\n",
    "        self.weight_velocity = [np.zeros(weight.shape) for weight in self.weights]\n",
    "        #print(self.biases)\n",
    "\n",
    "\n",
    "    def for_prop(self, input: np):\n",
    "        '''\n",
    "        Feeds forward a single example through the network\n",
    "        '''\n",
    "        output = input\n",
    "        for bias, weight in zip(self.biases[:-1], self.weights[:-1]):\n",
    "            output = self.sigmoid(np.dot(weight, output) + bias)\n",
    "        # Not sure right now if output will be correct for regression, but life goes on.\n",
    "        # The following lines choose the output activation function based on prediction type\n",
    "        bias, weight = self.biases[-1], self.weights[-1]\n",
    "        # MIGHT NEED TO RESHAPE THE DOT PRODUCT ON THE LINE BELOW\n",
    "        output = (np.dot(weight, output) + bias)\n",
    "        if self.prediction_type == \"classification\":\n",
    "            output = self.softmax(output)\n",
    "        return output\n",
    "    \n",
    "    def get_training_data(self, i: int):\n",
    "        '''\n",
    "        method needs to take the set of fold i-(i-1) and and compile those into its own array.\n",
    "        Then format the data as follows: each example = (attributes, label)\n",
    "        i is used to indicate which training set you want returned\n",
    "        '''\n",
    "        desired_data = np.concatenate([self.validate_set[j] for j in range(10) if j != i])\n",
    "        training_data = [(example[:-1], example[-1]) for example in desired_data]\n",
    "        return training_data\n",
    "    \n",
    "    def get_testing_data(self, i: int):\n",
    "        '''\n",
    "        method needs to take the set of fold i-(i-1) and and compile those into its own array.\n",
    "        Then format the data as follows: each example = (attributes, label)\n",
    "        i is used to indicate which training set you want returned\n",
    "        '''\n",
    "        desired_data = self.validate_set[i]\n",
    "        testing_data = [(example[:-1], example[-1]) for example in desired_data]\n",
    "        return testing_data\n",
    "    \n",
    "    def get_tuning_data(self):\n",
    "        '''\n",
    "        method needs to take the set of fold i-(i-1) and and compile those into its own array.\n",
    "        Then format the data as follows: each example = (attributes, label)\n",
    "        i is used to indicate which training set you want returned\n",
    "        '''\n",
    "        desired_data = self.tune_set\n",
    "        tuning_data = [(example[:-1], example[-1]) for example in desired_data]\n",
    "        return tuning_data\n",
    "\n",
    "    def grad_desc(self, training_data, epochs, momentum, learning_rate, batch_size):\n",
    "        '''\n",
    "        Takes in a traing set from get_training_data. The format is a list of tuples, where each tuple\n",
    "        represents an example. Within each tuple the first value is the feature vector and the second\n",
    "        value is the label.\n",
    "        '''\n",
    "        example_count = len(training_data)\n",
    "        for epoch in range(epochs):\n",
    "            random.shuffle(training_data)\n",
    "            mini_batches = [training_data[k:k+batch_size] for k in range(0, example_count, batch_size)]\n",
    "            for mini_batch in mini_batches:\n",
    "                self.update_weights(mini_batch, momentum, learning_rate)\n",
    "\n",
    "    def update_weights(self, mini_batch, momentum, learning_rate):\n",
    "        '''\n",
    "        NEEDS COMMENTING/PARSING\n",
    "        '''\n",
    "        bias_gradient = [np.zeros(bias.shape) for bias in self.biases]\n",
    "        weight_gradient = [np.zeros(weight.shape) for weight in self.weights]\n",
    "\n",
    "        # Compute gradients for the mini-batch\n",
    "        for feature, label in mini_batch:\n",
    "            #print(type(label))\n",
    "            if not np.isnan(label):\n",
    "                delta_bias_gradient, delta_weight_gradient = self.epoch(feature, label)\n",
    "                bias_gradient = [gradient + delta for gradient, delta in zip(bias_gradient, delta_bias_gradient)]\n",
    "                weight_gradient = [gradient + delta for gradient, delta in zip(weight_gradient, delta_weight_gradient)]\n",
    "        \n",
    "        # Update velocities and apply updates with momentum\n",
    "        self.bias_velocity = [momentum * velocity - (learning_rate / len(mini_batch)) * gradient for velocity, gradient in zip(self.bias_velocity, bias_gradient)]\n",
    "        self.weight_velocity = [momentum * velocity - (learning_rate / len(mini_batch)) * gradient for velocity, gradient in zip(self.weight_velocity, weight_gradient)]\n",
    "\n",
    "        # Update weights and biases\n",
    "        self.biases = [bias + velocity for bias, velocity in zip(self.biases, self.bias_velocity)]\n",
    "        self.weights = [bias + velocity for bias, velocity in zip(self.weights, self.weight_velocity)]\n",
    "\n",
    "    def epoch(self, feature, label):\n",
    "        '''\n",
    "        NEEDS COMMENTING/PARSING\n",
    "        '''\n",
    "        #print(f\"\\n\\nLABEL: {label}\\n\\n\")\n",
    "        bias_gradient = [np.zeros(bias.shape) for bias in self.biases]\n",
    "        weight_gradient = [np.zeros(weight.shape) for weight in self.weights]\n",
    "        # feedforward\n",
    "        activation = feature\n",
    "        activations = [feature] # list to store all the activations, layer by layer\n",
    "        weighted_inputs = [] # list to store all the z vectors, layer by layer\n",
    "        #print(f\"Biases: {self.biases[-1]}\")\n",
    "        #print(f\"Weights: {self.weights[-1]}\")\n",
    "        for bias, weight in zip(self.biases[:-1], self.weights[:-1]):\n",
    "            #print(f\"Activation:\\n{activation.shape}\\n\\nWeight:\\n{weight.shape}\\n\\nBias:\\n{bias.shape}\\n\\n\\n\")\n",
    "            weighted_input = np.dot(weight, activation.reshape(-1,1)) + bias\n",
    "            #print(f\"Weighted Input:\\n{weighted_input.shape}\")\n",
    "            activation = self.sigmoid(weighted_input)\n",
    "            weighted_inputs.append(weighted_input)\n",
    "            activations.append(activation)\n",
    "        # The output layer uses different activation functions\n",
    "        bias, weight = self.biases[-1], self.weights[-1]\n",
    "        #print(f\"Activation:\\n{activation}\\n\\nWeight:\\n{weight.shape}\\n\\nBias:\\n{bias.shape}\\n\\n\\n\")\n",
    "        #print(f\"Dot Product Shape:\\n{np.dot(weight, activation).reshape(-1,1)}\\n\\n\")\n",
    "        weighted_input = np.dot(weight, activation.reshape(-1,1)) + bias\n",
    "        #weighted_input = np.dot(weight, activation)\n",
    "        #print(f\"Weighted Input (Should be two scalars):\\n{(weighted_input.shape)}\")\n",
    "        activation = weighted_input\n",
    "        if self.prediction_type == \"classification\":\n",
    "            activation = self.softmax(weighted_input)\n",
    "        weighted_inputs.append(weighted_input)\n",
    "        activations.append(activation)\n",
    "        #print(f\"Activations:\\n{activations}\\n\\nWeighted Inputs:\\n{weighted_inputs}\")\n",
    "    \n",
    "\n",
    "\n",
    "        # backward pass\n",
    "        # NEED TO ONE-HOT ENCODE THE LABELS FOR CLASSIFICATION SETS TO MAKE THE DELTA LINE WORK\n",
    "        # PROLLY WON'T NEED LOSS PRIME METHOD\n",
    "        if self.prediction_type == \"classification\":\n",
    "            one_hot_label = [0] * self.class_count\n",
    "            one_hot_label[int(label)] = 1\n",
    "            one_hot_label = np.array(one_hot_label).reshape(-1, 1)\n",
    "        else:\n",
    "            one_hot_label = label\n",
    "        #print(f\"Activations[-1]:\\n{activations[-1]}\\nOne-Hot Label:\\n{one_hot_label}\")\n",
    "        delta = (activations[-1] - one_hot_label)# * self.softmax(weighted_inputs[-1])\n",
    "        bias_gradient[-1] = delta\n",
    "        #print(f\"Delta:\\n{delta}\\n\\nActivations:\\n{activations[-2].reshape(1,-1)}\\n\\n\")\n",
    "        weight_gradient[-1] = np.dot(delta, activations[-2].reshape(1,-1))# # CHECK THIS LINE FOR COMPREHENSION\n",
    "\n",
    "        for layer_idx in range(2, len(self.network_shape)):\n",
    "            weighted_input = weighted_inputs[-layer_idx]\n",
    "            activation_prime = self.sigmoid_prime(weighted_input)\n",
    "            delta = np.dot(self.weights[-layer_idx+1].transpose(), delta) * activation_prime\n",
    "            # add logic to convert scalar if delta is 1x1\n",
    "            if delta.shape == (1,1):\n",
    "                bias_gradient[-layer_idx] = delta.reshape(-1)\n",
    "                weight_gradient[-layer_idx] = (delta.reshape(-1) * activations[-layer_idx-1].transpose())\n",
    "            else:\n",
    "                bias_gradient[-layer_idx] = delta\n",
    "                weight_gradient[-layer_idx] = np.dot(delta, activations[-layer_idx-1].reshape(1,-1))\n",
    "        #print(\"GOT TO THE END\")\n",
    "        return (bias_gradient, weight_gradient)\n",
    "\n",
    "    def tune(self):\n",
    "        # CONSIDER REMOVING THE TQDM ON EPOCHS\n",
    "        hidden_node_vals = [1, 3, 5, 7, 9]\n",
    "        epoch_vals = [10, 50, 100, 200, 500]\n",
    "        momentum_vals = [0.5, 0.7, 0.9, 0.95, 0.99]\n",
    "        learning_rate_vals = [0.0001, 0.001, 0.01, 0.1, 1.0]\n",
    "        batch_size_vals = [16, 32, 64, 128, 256]\n",
    "\n",
    "        hidden_node_scores = []\n",
    "        epoch_scores = []\n",
    "        momentum_scores = []\n",
    "        learning_rate_scores = []\n",
    "        batch_size_scores = []\n",
    "\n",
    "        # Hidden node Count Tuning\n",
    "        if (self.hidden_layer_count > 0):\n",
    "            hidden_node_combinations = list(itertools.product(hidden_node_vals, repeat=self.hidden_layer_count))\n",
    "            for combination in tqdm(hidden_node_combinations, desc=\"Tuning Hidden Node Count\", leave=False):\n",
    "                self.network_shape = [self.input_size] + (list(combination)) + ([self.class_count] if (self.prediction_type == \"classification\") else [1])\n",
    "                hidden_node_score = self.train_test(tuning_flag=True, epochs=self.epochs, momentum=self.momentum, learning_rate=self.learning_rate, batch_size=self.batch_size)\n",
    "                hidden_node_scores.append(np.mean(hidden_node_score))\n",
    "            hidden_node_scores = np.array(hidden_node_scores)\n",
    "            if self.prediction_type == \"classification\":\n",
    "                self.network_shape = [self.input_size] + (list(hidden_node_combinations[np.argmax(hidden_node_scores)])) + ([self.class_count] if (self.prediction_type == \"classification\") else [1])\n",
    "            else:\n",
    "                self.network_shape = [self.input_size] + (list(hidden_node_combinations[np.argmin(hidden_node_scores)])) + ([self.class_count] if (self.prediction_type == \"classification\") else [1])          \n",
    "            print(f\"Tuned Network Shape: {self.network_shape}\")\n",
    "\n",
    "        # Epoch tuning\n",
    "        for epochs in tqdm(epoch_vals, desc=\"Tuning Epochs\", leave=False):\n",
    "            epoch_score = self.train_test(tuning_flag=True, epochs=epochs, momentum=self.momentum, learning_rate=self.learning_rate, batch_size=self.batch_size)\n",
    "            epoch_scores.append(np.mean(epoch_score))\n",
    "        epoch_scores = np.array(epoch_scores)\n",
    "        if self.prediction_type == \"classification\":\n",
    "            self.epochs = epoch_vals[np.argmax(epoch_scores)]\n",
    "        else:\n",
    "            self.epochs = epoch_vals[np.argmin(epoch_scores)]\n",
    "        print(f\"Tuned Epoch Value: {self.epochs}\")\n",
    "\n",
    "        # Momentum Tuning\n",
    "        for momentum in tqdm(momentum_vals, desc=\"Tuning Momentum\", leave=False):\n",
    "            momentum_score = self.train_test(tuning_flag=True, epochs=self.epochs, momentum=momentum, learning_rate=self.learning_rate, batch_size=self.batch_size)\n",
    "            momentum_scores.append(np.mean(momentum_score))\n",
    "        momentum_scores = np.array(momentum_scores)\n",
    "        if self.prediction_type == \"classification\":\n",
    "            self.momentum = momentum_vals[np.argmax(momentum_scores)]\n",
    "        else:\n",
    "            self.momentum = momentum_vals[np.argmin(momentum_scores)]\n",
    "        print(f\"Tuned Momentum Value: {self.momentum}\")\n",
    "\n",
    "        # Learning rate tuning\n",
    "        for learning_rate in tqdm(learning_rate_vals, desc=\"Tuning Learning Rate\", leave=False):\n",
    "            learning_rate_score = self.train_test(tuning_flag=True, epochs=self.epochs, momentum=self.momentum, learning_rate=learning_rate, batch_size=self.batch_size)\n",
    "            learning_rate_scores.append(np.mean(learning_rate_score))\n",
    "        learning_rate_scores = np.array(learning_rate_scores)\n",
    "        if self.prediction_type == \"classification\":\n",
    "            self.learning_rate = learning_rate_vals[np.argmax(learning_rate_scores)]\n",
    "        else:\n",
    "            self.learning_rate = learning_rate_vals[np.argmin(learning_rate_scores)]\n",
    "        print(f\"Tuned Learning Rate: {self.learning_rate}\")\n",
    "\n",
    "        # Batch size tuning\n",
    "        for batch_size in tqdm(batch_size_vals, desc=\"Tuning Batch Size\", leave=False):\n",
    "            batch_size_score = self.train_test(tuning_flag=True, epochs=self.epochs, momentum=self.momentum, learning_rate=self.learning_rate, batch_size=batch_size)\n",
    "            batch_size_scores.append(np.mean(batch_size_score))\n",
    "        batch_size_scores = np.array(batch_size_scores)\n",
    "        if self.prediction_type == \"classification\":\n",
    "            self.batch_size = batch_size_vals[np.argmax(batch_size_scores)]\n",
    "        else:\n",
    "            self.batch_size = batch_size_vals[np.argmin(batch_size_scores)]\n",
    "        print(f\"Tuned Batch Size: {self.batch_size}\")\n",
    "\n",
    "        return [self.network_shape, self.epochs, self.momentum, self.learning_rate, self.batch_size]\n",
    "    \n",
    "    def train_test(self, tuning_flag: bool, epochs=100, momentum=.9, learning_rate=.01, batch_size=10):\n",
    "        scores = []\n",
    "        if tuning_flag:\n",
    "            for i in range(10):\n",
    "                self.init_weights_biases_momentum()\n",
    "                self.grad_desc(self.get_training_data(i), epochs, momentum, learning_rate, batch_size)\n",
    "                score = self.loss(self.get_tuning_data())\n",
    "                scores.append(score)\n",
    "        else:\n",
    "            for i in tqdm(range(10), desc=\"Evaluating Test Data\", leave=False):\n",
    "                self.init_weights_biases_momentum()\n",
    "                self.grad_desc(self.get_training_data(i), self.epochs, self.momentum, self.learning_rate, self.batch_size)\n",
    "                score = self.loss(self.get_testing_data(0))\n",
    "                scores.append(score)\n",
    "        return np.array(scores)\n",
    "    \n",
    "    def loss(self, test_data):\n",
    "        if self.prediction_type == \"classification\":\n",
    "            results = [(np.argmax(self.for_prop(example)), label) for (example, label) in test_data if not np.isnan(label)]\n",
    "            correct_results = sum(int(example == label) for (example, label) in results)\n",
    "            total_examples = len(results)\n",
    "            return correct_results / total_examples\n",
    "        else:\n",
    "            results = [(self.for_prop(x), y) for (x, y) in test_data if not np.isnan(y)]\n",
    "            # Ensure predictions and labels are both 1D arrays of the same length\n",
    "            predictions = np.array([prediction.flatten()[0] if prediction.size == 1 else np.argmax(prediction) for (prediction, label) in results], dtype=float)\n",
    "            labels = np.array([label for (prediction, label) in results], dtype=float)\n",
    "\n",
    "            # Calculate MSE\n",
    "            mse = np.mean((predictions - labels) ** 2)\n",
    "            return mse\n",
    "            \n",
    "\n",
    "            '''\n",
    "            results = [(self.for_prop(x), y) for (x, y) in test_data if not np.isnan(y)]\n",
    "            predictions = np.array([prediction.flatten() for (prediction, label) in results], dtype=float).reshape(-1)\n",
    "            labels = np.array([label for (prediction, label) in results], dtype=float).reshape(-1)\n",
    "            mse = np.mean((predictions - labels) ** 2)\n",
    "            return mse\n",
    "            '''\n",
    "        \n",
    "    '''\n",
    "    def evaluate(self, test_data):\n",
    "        \"\"\"Return the accuracy of the network on the test data, excluding any NaN labels.\"\"\"\n",
    "        test_results = [(np.argmax(self.feedforward(x)), y) for (x, y) in test_data if not np.isnan(y) and len(x) == 2]\n",
    "        correct_predictions = sum(int(x == y) for (x, y) in test_results)\n",
    "        total_examples = len(test_results)\n",
    "        return correct_predictions / total_examples if total_examples > 0 else 0\n",
    "    '''\n",
    "\n",
    "    '''\n",
    "    def loss_prime(self):\n",
    "        return\n",
    "    '''\n",
    "    def sigmoid(self, input: np):\n",
    "        return 1.0/(1.0+np.exp(-input))\n",
    "    def sigmoid_prime(self, input: np):\n",
    "        return self.sigmoid(input)*(1-self.sigmoid(input))\n",
    "    def softmax(self, input):\n",
    "        exp = np.exp(input - np.max(input))\n",
    "        return exp / np.sum(exp)\n",
    "    '''\n",
    "    # Since loss output is in a slightly different format for neural nets, we might need an final loss method to output final performance\n",
    "    def final_loss(self):\n",
    "        return\n",
    "    '''\n",
    "    # THIS PROLLY NEEDS EDITING\n",
    "    def plot_loss(self, metrics: list, parameter: str, increment):\n",
    "        '''\n",
    "        This function plots the loss performance for each epoch. This allows us to visualize at how many epochs\n",
    "        performance drops off.\n",
    "        '''\n",
    "        # Extract # of epochs and loss metrics\n",
    "        metrics = np.array(metrics)\n",
    "        epochs = np.arange(1, metrics.shape[0] + 1) * increment\n",
    "        loss1 = metrics[:, 0]\n",
    "        loss2 = metrics[:, 1]\n",
    "\n",
    "        # Create loss plot\n",
    "        plt.figure(figsize=(10, 6))\n",
    "        plt.plot(epochs, loss1, label='Loss Metric 1', marker='o')\n",
    "        plt.plot(epochs, loss2, label='Loss Metric 2', marker='o')\n",
    "        plt.xlabel(f'{parameter} Value')\n",
    "        plt.ylabel('Loss')\n",
    "        plt.title(f'Loss Metrics vs. {parameter} value')\n",
    "        plt.legend()\n",
    "        plt.grid(True)\n",
    "        plt.show()\n",
    "        plt.close()\n",
    "    "
   ]
  },
  {
   "cell_type": "markdown",
   "metadata": {},
   "source": [
    "# Neural Network Instantiation"
   ]
  },
  {
   "cell_type": "code",
   "execution_count": 30,
   "metadata": {},
   "outputs": [],
   "source": [
    "abalone_data, cancer_data, fire_data, glass_data, machine_data, soybean_data = process_all('carlthedog3', True)"
   ]
  },
  {
   "cell_type": "code",
   "execution_count": 33,
   "metadata": {},
   "outputs": [],
   "source": [
    "# Classification Sets\n",
    "cancer_net_0 = neural_net(cancer_data, \"classification\", hidden_layer_count=0, epochs=10,momentum=.5,learning_rate=.01,batch_size=16)\n",
    "cancer_net_1 = neural_net(cancer_data, \"classification\", hidden_layer_count=1, network_shape=[9,1,2],epochs=50,momentum=.7,learning_rate=.1,batch_size=16)\n",
    "cancer_net_2 = neural_net(cancer_data, \"classification\", hidden_layer_count=2, network_shape=[9,1,5,2],epochs=50,momentum=.9,learning_rate=.01,batch_size=16)\n",
    "\n",
    "glass_net_0 = neural_net(glass_data, \"classification\", hidden_layer_count=0, epochs=100,momentum=.5,learning_rate=.001,batch_size=16)\n",
    "glass_net_1 = neural_net(glass_data, \"classification\", hidden_layer_count=1, network_shape=[9,1,6],epochs=500,momentum=.95,learning_rate=.01,batch_size=32)\n",
    "glass_net_2 = neural_net(glass_data, \"classification\", hidden_layer_count=2, network_shape=[9,1,9,6],epochs=500,momentum=.95,learning_rate=.01,batch_size=32)\n",
    "\n",
    "soybean_net_0 = neural_net(soybean_data, \"classification\", hidden_layer_count=0, epochs=10,momentum=.5,learning_rate=.0001,batch_size=16)\n",
    "soybean_net_1 = neural_net(soybean_data, \"classification\", hidden_layer_count=1, network_shape=[35,1,4],epochs=10,momentum=.5,learning_rate=.0001,batch_size=16)\n",
    "soybean_net_2 = neural_net(soybean_data, \"classification\", hidden_layer_count=2, network_shape=[35,1,1,4],epochs=10,momentum=.5,learning_rate=.0001,batch_size=16)\n",
    "\n",
    "\n",
    "# Regression Sets\n",
    "abalone_net_0 = neural_net(abalone_data, \"regression\", hidden_layer_count=0)\n",
    "abalone_net_1 = neural_net(abalone_data, \"regression\", hidden_layer_count=1)\n",
    "abalone_net_2 = neural_net(abalone_data, \"regression\", hidden_layer_count=2)\n",
    "\n",
    "fire_net_0 = neural_net(fire_data, \"regression\", hidden_layer_count=0, epochs=200,momentum=.9,learning_rate=.01,batch_size=16)\n",
    "fire_net_1 = neural_net(fire_data, \"regression\", hidden_layer_count=1)\n",
    "fire_net_2 = neural_net(fire_data, \"regression\", hidden_layer_count=2)\n",
    "\n",
    "machine_net_0 = neural_net(machine_data, \"regression\", hidden_layer_count=0)\n",
    "machine_net_1 = neural_net(machine_data, \"regression\", hidden_layer_count=1)\n",
    "machine_net_2 = neural_net(machine_data, \"regression\", hidden_layer_count=2)"
   ]
  },
  {
   "cell_type": "markdown",
   "metadata": {},
   "source": [
    "# Abalone Tuning + Final Scores"
   ]
  },
  {
   "cell_type": "code",
   "execution_count": 5,
   "metadata": {},
   "outputs": [
    {
     "name": "stderr",
     "output_type": "stream",
     "text": [
      "                                                            \r"
     ]
    },
    {
     "name": "stdout",
     "output_type": "stream",
     "text": [
      "Tuned Epoch Value: 200\n"
     ]
    },
    {
     "name": "stderr",
     "output_type": "stream",
     "text": [
      "                                                              \r"
     ]
    },
    {
     "name": "stdout",
     "output_type": "stream",
     "text": [
      "Tuned Momentum Value: 0.9\n"
     ]
    },
    {
     "name": "stderr",
     "output_type": "stream",
     "text": [
      "                                                                   \r"
     ]
    },
    {
     "name": "stdout",
     "output_type": "stream",
     "text": [
      "Tuned Learning Rate: 0.01\n"
     ]
    },
    {
     "name": "stderr",
     "output_type": "stream",
     "text": [
      "                                                                \r"
     ]
    },
    {
     "name": "stdout",
     "output_type": "stream",
     "text": [
      "Tuned Batch Size: 32\n"
     ]
    },
    {
     "name": "stderr",
     "output_type": "stream",
     "text": [
      "                                                                     "
     ]
    },
    {
     "name": "stdout",
     "output_type": "stream",
     "text": [
      "Average Performance: 0.007549628473888485\n"
     ]
    },
    {
     "name": "stderr",
     "output_type": "stream",
     "text": [
      "\r"
     ]
    }
   ],
   "source": [
    "abalone_net_0_parameters = abalone_net_0.tune()\n",
    "abalone_0_score = abalone_net_0.train_test(tuning_flag=False)\n",
    "print(f\"Average Performance: {np.mean(abalone_0_score)}\")"
   ]
  },
  {
   "cell_type": "code",
   "execution_count": 6,
   "metadata": {},
   "outputs": [
    {
     "name": "stderr",
     "output_type": "stream",
     "text": [
      "                                                                       \r"
     ]
    },
    {
     "name": "stdout",
     "output_type": "stream",
     "text": [
      "Tuned Network Shape: [8, 1, 1]\n"
     ]
    },
    {
     "name": "stderr",
     "output_type": "stream",
     "text": [
      "                                                             \r"
     ]
    },
    {
     "name": "stdout",
     "output_type": "stream",
     "text": [
      "Tuned Epoch Value: 500\n"
     ]
    },
    {
     "name": "stderr",
     "output_type": "stream",
     "text": [
      "                                                               \r"
     ]
    },
    {
     "name": "stdout",
     "output_type": "stream",
     "text": [
      "Tuned Momentum Value: 0.95\n"
     ]
    },
    {
     "name": "stderr",
     "output_type": "stream",
     "text": [
      "                                                                    \r"
     ]
    },
    {
     "name": "stdout",
     "output_type": "stream",
     "text": [
      "Tuned Learning Rate: 0.01\n"
     ]
    },
    {
     "name": "stderr",
     "output_type": "stream",
     "text": [
      "                                                                 \r"
     ]
    },
    {
     "name": "stdout",
     "output_type": "stream",
     "text": [
      "Tuned Batch Size: 16\n"
     ]
    },
    {
     "name": "stderr",
     "output_type": "stream",
     "text": [
      "                                                                     "
     ]
    },
    {
     "name": "stdout",
     "output_type": "stream",
     "text": [
      "Average Performance: 0.007635285562636963\n"
     ]
    },
    {
     "name": "stderr",
     "output_type": "stream",
     "text": [
      "\r"
     ]
    }
   ],
   "source": [
    "abalone_net_1_parameters = abalone_net_1.tune()\n",
    "abalone_1_score = abalone_net_1.train_test(tuning_flag=False)\n",
    "print(f\"Average Performance: {np.mean(abalone_1_score)}\")"
   ]
  },
  {
   "cell_type": "code",
   "execution_count": 7,
   "metadata": {},
   "outputs": [
    {
     "name": "stderr",
     "output_type": "stream",
     "text": [
      "                                                                         \r"
     ]
    },
    {
     "name": "stdout",
     "output_type": "stream",
     "text": [
      "Tuned Network Shape: [8, 1, 9, 1]\n"
     ]
    },
    {
     "name": "stderr",
     "output_type": "stream",
     "text": [
      "                                                             \r"
     ]
    },
    {
     "name": "stdout",
     "output_type": "stream",
     "text": [
      "Tuned Epoch Value: 500\n"
     ]
    },
    {
     "name": "stderr",
     "output_type": "stream",
     "text": [
      "                                                               \r"
     ]
    },
    {
     "name": "stdout",
     "output_type": "stream",
     "text": [
      "Tuned Momentum Value: 0.99\n"
     ]
    },
    {
     "name": "stderr",
     "output_type": "stream",
     "text": [
      "                                                                    \r"
     ]
    },
    {
     "name": "stdout",
     "output_type": "stream",
     "text": [
      "Tuned Learning Rate: 0.001\n"
     ]
    },
    {
     "name": "stderr",
     "output_type": "stream",
     "text": [
      "                                                                 \r"
     ]
    },
    {
     "name": "stdout",
     "output_type": "stream",
     "text": [
      "Tuned Batch Size: 16\n"
     ]
    },
    {
     "name": "stderr",
     "output_type": "stream",
     "text": [
      "                                                                     "
     ]
    },
    {
     "name": "stdout",
     "output_type": "stream",
     "text": [
      "Average Performance: 0.008235329509969613\n"
     ]
    },
    {
     "name": "stderr",
     "output_type": "stream",
     "text": [
      "\r"
     ]
    }
   ],
   "source": [
    "abalone_net_2_parameters = abalone_net_2.tune()\n",
    "abalone_2_score = abalone_net_2.train_test(tuning_flag=False)\n",
    "print(f\"Average Performance: {np.mean(abalone_2_score)}\")"
   ]
  },
  {
   "cell_type": "code",
   "execution_count": 35,
   "metadata": {},
   "outputs": [
    {
     "name": "stdout",
     "output_type": "stream",
     "text": [
      "200\n"
     ]
    }
   ],
   "source": [
    "print(fire_net_0.epochs)"
   ]
  },
  {
   "cell_type": "markdown",
   "metadata": {},
   "source": [
    "# Fire Tuning + Final Scores"
   ]
  },
  {
   "cell_type": "code",
   "execution_count": 38,
   "metadata": {},
   "outputs": [
    {
     "name": "stderr",
     "output_type": "stream",
     "text": [
      "                                                                     "
     ]
    },
    {
     "name": "stdout",
     "output_type": "stream",
     "text": [
      "Average Performance: 0.0012189988232309203\n"
     ]
    },
    {
     "name": "stderr",
     "output_type": "stream",
     "text": [
      "\r"
     ]
    }
   ],
   "source": [
    "#fire_net_0_parameters = fire_net_0.tune()\n",
    "fire_0_score = fire_net_0.train_test(tuning_flag=False)\n",
    "print(f\"Average Performance: {np.mean(fire_0_score)}\")"
   ]
  },
  {
   "cell_type": "code",
   "execution_count": 9,
   "metadata": {},
   "outputs": [
    {
     "name": "stderr",
     "output_type": "stream",
     "text": [
      "                                                                       \r"
     ]
    },
    {
     "name": "stdout",
     "output_type": "stream",
     "text": [
      "Tuned Network Shape: [12, 1, 1]\n"
     ]
    },
    {
     "name": "stderr",
     "output_type": "stream",
     "text": [
      "                                                            \r"
     ]
    },
    {
     "name": "stdout",
     "output_type": "stream",
     "text": [
      "Tuned Epoch Value: 200\n"
     ]
    },
    {
     "name": "stderr",
     "output_type": "stream",
     "text": [
      "                                                              \r"
     ]
    },
    {
     "name": "stdout",
     "output_type": "stream",
     "text": [
      "Tuned Momentum Value: 0.95\n"
     ]
    },
    {
     "name": "stderr",
     "output_type": "stream",
     "text": [
      "                                                                   \r"
     ]
    },
    {
     "name": "stdout",
     "output_type": "stream",
     "text": [
      "Tuned Learning Rate: 0.01\n"
     ]
    },
    {
     "name": "stderr",
     "output_type": "stream",
     "text": [
      "                                                                \r"
     ]
    },
    {
     "name": "stdout",
     "output_type": "stream",
     "text": [
      "Tuned Batch Size: 16\n"
     ]
    },
    {
     "name": "stderr",
     "output_type": "stream",
     "text": [
      "                                                                     "
     ]
    },
    {
     "name": "stdout",
     "output_type": "stream",
     "text": [
      "Average Performance: 0.0007869425793197965\n"
     ]
    },
    {
     "name": "stderr",
     "output_type": "stream",
     "text": [
      "\r"
     ]
    }
   ],
   "source": [
    "fire_net_1_parameters = fire_net_1.tune()\n",
    "fire_1_score = fire_net_1.train_test(tuning_flag=False)\n",
    "print(f\"Average Performance: {np.mean(fire_1_score)}\")"
   ]
  },
  {
   "cell_type": "code",
   "execution_count": 10,
   "metadata": {},
   "outputs": [
    {
     "name": "stderr",
     "output_type": "stream",
     "text": [
      "                                                                         \r"
     ]
    },
    {
     "name": "stdout",
     "output_type": "stream",
     "text": [
      "Tuned Network Shape: [12, 1, 1, 1]\n"
     ]
    },
    {
     "name": "stderr",
     "output_type": "stream",
     "text": [
      "                                                            \r"
     ]
    },
    {
     "name": "stdout",
     "output_type": "stream",
     "text": [
      "Tuned Epoch Value: 500\n"
     ]
    },
    {
     "name": "stderr",
     "output_type": "stream",
     "text": [
      "                                                              \r"
     ]
    },
    {
     "name": "stdout",
     "output_type": "stream",
     "text": [
      "Tuned Momentum Value: 0.95\n"
     ]
    },
    {
     "name": "stderr",
     "output_type": "stream",
     "text": [
      "                                                                   \r"
     ]
    },
    {
     "name": "stdout",
     "output_type": "stream",
     "text": [
      "Tuned Learning Rate: 0.001\n"
     ]
    },
    {
     "name": "stderr",
     "output_type": "stream",
     "text": [
      "                                                                \r"
     ]
    },
    {
     "name": "stdout",
     "output_type": "stream",
     "text": [
      "Tuned Batch Size: 16\n"
     ]
    },
    {
     "name": "stderr",
     "output_type": "stream",
     "text": [
      "                                                                     "
     ]
    },
    {
     "name": "stdout",
     "output_type": "stream",
     "text": [
      "Average Performance: 0.0008416397521391139\n"
     ]
    },
    {
     "name": "stderr",
     "output_type": "stream",
     "text": [
      "\r"
     ]
    }
   ],
   "source": [
    "fire_net_2_parameters = fire_net_2.tune()\n",
    "fire_2_score = fire_net_2.train_test(tuning_flag=False)\n",
    "print(f\"Average Performance: {np.mean(fire_2_score)}\")"
   ]
  },
  {
   "cell_type": "markdown",
   "metadata": {},
   "source": [
    "# Machine Tuning + Final Scores"
   ]
  },
  {
   "cell_type": "code",
   "execution_count": 11,
   "metadata": {},
   "outputs": [
    {
     "name": "stderr",
     "output_type": "stream",
     "text": [
      "                                                            \r"
     ]
    },
    {
     "name": "stdout",
     "output_type": "stream",
     "text": [
      "Tuned Epoch Value: 500\n"
     ]
    },
    {
     "name": "stderr",
     "output_type": "stream",
     "text": [
      "                                                              \r"
     ]
    },
    {
     "name": "stdout",
     "output_type": "stream",
     "text": [
      "Tuned Momentum Value: 0.95\n"
     ]
    },
    {
     "name": "stderr",
     "output_type": "stream",
     "text": [
      "                                                                   \r"
     ]
    },
    {
     "name": "stdout",
     "output_type": "stream",
     "text": [
      "Tuned Learning Rate: 0.01\n"
     ]
    },
    {
     "name": "stderr",
     "output_type": "stream",
     "text": [
      "                                                                \r"
     ]
    },
    {
     "name": "stdout",
     "output_type": "stream",
     "text": [
      "Tuned Batch Size: 16\n"
     ]
    },
    {
     "name": "stderr",
     "output_type": "stream",
     "text": [
      "                                                                     "
     ]
    },
    {
     "name": "stdout",
     "output_type": "stream",
     "text": [
      "Average Performance: 0.000571620609126088\n"
     ]
    },
    {
     "name": "stderr",
     "output_type": "stream",
     "text": [
      "\r"
     ]
    }
   ],
   "source": [
    "machine_net_0_parameters = machine_net_0.tune()\n",
    "machine_0_score = machine_net_0.train_test(tuning_flag=False)\n",
    "print(f\"Average Performance: {np.mean(machine_0_score)}\")"
   ]
  },
  {
   "cell_type": "code",
   "execution_count": 12,
   "metadata": {},
   "outputs": [
    {
     "name": "stderr",
     "output_type": "stream",
     "text": [
      "                                                                       \r"
     ]
    },
    {
     "name": "stdout",
     "output_type": "stream",
     "text": [
      "Tuned Network Shape: [9, 1, 1]\n"
     ]
    },
    {
     "name": "stderr",
     "output_type": "stream",
     "text": [
      "                                                            \r"
     ]
    },
    {
     "name": "stdout",
     "output_type": "stream",
     "text": [
      "Tuned Epoch Value: 500\n"
     ]
    },
    {
     "name": "stderr",
     "output_type": "stream",
     "text": [
      "                                                              \r"
     ]
    },
    {
     "name": "stdout",
     "output_type": "stream",
     "text": [
      "Tuned Momentum Value: 0.99\n"
     ]
    },
    {
     "name": "stderr",
     "output_type": "stream",
     "text": [
      "                                                                   \r"
     ]
    },
    {
     "name": "stdout",
     "output_type": "stream",
     "text": [
      "Tuned Learning Rate: 0.01\n"
     ]
    },
    {
     "name": "stderr",
     "output_type": "stream",
     "text": [
      "                                                                \r"
     ]
    },
    {
     "name": "stdout",
     "output_type": "stream",
     "text": [
      "Tuned Batch Size: 16\n"
     ]
    },
    {
     "name": "stderr",
     "output_type": "stream",
     "text": [
      "                                                                     "
     ]
    },
    {
     "name": "stdout",
     "output_type": "stream",
     "text": [
      "Average Performance: 0.0024953930841213295\n"
     ]
    },
    {
     "name": "stderr",
     "output_type": "stream",
     "text": [
      "\r"
     ]
    }
   ],
   "source": [
    "machine_net_1_parameters = machine_net_1.tune()\n",
    "machine_1_score = machine_net_1.train_test(tuning_flag=False)\n",
    "print(f\"Average Performance: {np.mean(machine_1_score)}\")"
   ]
  },
  {
   "cell_type": "code",
   "execution_count": 13,
   "metadata": {},
   "outputs": [
    {
     "name": "stderr",
     "output_type": "stream",
     "text": [
      "                                                                         \r"
     ]
    },
    {
     "name": "stdout",
     "output_type": "stream",
     "text": [
      "Tuned Network Shape: [9, 1, 7, 1]\n"
     ]
    },
    {
     "name": "stderr",
     "output_type": "stream",
     "text": [
      "                                                            \r"
     ]
    },
    {
     "name": "stdout",
     "output_type": "stream",
     "text": [
      "Tuned Epoch Value: 500\n"
     ]
    },
    {
     "name": "stderr",
     "output_type": "stream",
     "text": [
      "                                                              \r"
     ]
    },
    {
     "name": "stdout",
     "output_type": "stream",
     "text": [
      "Tuned Momentum Value: 0.99\n"
     ]
    },
    {
     "name": "stderr",
     "output_type": "stream",
     "text": [
      "Tuning Learning Rate:  80%|████████  | 4/5 [01:37<00:24, 24.17s/it]/tmp/ipykernel_13779/3972172321.py:320: RuntimeWarning: overflow encountered in exp\n",
      "  return 1.0/(1.0+np.exp(-input))\n",
      "                                                                   \r"
     ]
    },
    {
     "name": "stdout",
     "output_type": "stream",
     "text": [
      "Tuned Learning Rate: 0.01\n"
     ]
    },
    {
     "name": "stderr",
     "output_type": "stream",
     "text": [
      "                                                                \r"
     ]
    },
    {
     "name": "stdout",
     "output_type": "stream",
     "text": [
      "Tuned Batch Size: 16\n"
     ]
    },
    {
     "name": "stderr",
     "output_type": "stream",
     "text": [
      "                                                                     "
     ]
    },
    {
     "name": "stdout",
     "output_type": "stream",
     "text": [
      "Average Performance: 0.002178622759248759\n"
     ]
    },
    {
     "name": "stderr",
     "output_type": "stream",
     "text": [
      "\r"
     ]
    }
   ],
   "source": [
    "machine_net_2_parameters = machine_net_2.tune()\n",
    "machine_2_score = machine_net_2.train_test(tuning_flag=False)\n",
    "print(f\"Average Performance: {np.mean(machine_2_score)}\")"
   ]
  },
  {
   "cell_type": "markdown",
   "metadata": {},
   "source": [
    "# Cancer Tuning + Final Scores"
   ]
  },
  {
   "cell_type": "code",
   "execution_count": 14,
   "metadata": {},
   "outputs": [
    {
     "name": "stderr",
     "output_type": "stream",
     "text": [
      "                                                                     "
     ]
    },
    {
     "name": "stdout",
     "output_type": "stream",
     "text": [
      "Average Performance: 0.4888888888888888\n"
     ]
    },
    {
     "name": "stderr",
     "output_type": "stream",
     "text": [
      "\r"
     ]
    }
   ],
   "source": [
    "#cancer_net_0_parameters = cancer_net_0.tune()\n",
    "cancer_0_score = cancer_net_0.train_test(tuning_flag=False)\n",
    "print(f\"Average Performance: {np.mean(cancer_0_score)}\")"
   ]
  },
  {
   "cell_type": "code",
   "execution_count": 15,
   "metadata": {},
   "outputs": [
    {
     "name": "stderr",
     "output_type": "stream",
     "text": [
      "                                                                     "
     ]
    },
    {
     "name": "stdout",
     "output_type": "stream",
     "text": [
      "Average Performance: 0.9777777777777776\n"
     ]
    },
    {
     "name": "stderr",
     "output_type": "stream",
     "text": [
      "\r"
     ]
    }
   ],
   "source": [
    "#cancer_net_1_parameters = cancer_net_1.tune()\n",
    "cancer_1_score = cancer_net_1.train_test(tuning_flag=False)\n",
    "print(f\"Average Performance: {np.mean(cancer_1_score)}\")"
   ]
  },
  {
   "cell_type": "code",
   "execution_count": 16,
   "metadata": {},
   "outputs": [
    {
     "name": "stderr",
     "output_type": "stream",
     "text": [
      "                                                                     "
     ]
    },
    {
     "name": "stdout",
     "output_type": "stream",
     "text": [
      "Average Performance: 0.9698412698412697\n"
     ]
    },
    {
     "name": "stderr",
     "output_type": "stream",
     "text": [
      "\r"
     ]
    }
   ],
   "source": [
    "#cancer_net_2_parameters = cancer_net_2.tune()\n",
    "cancer_2_score = cancer_net_2.train_test(tuning_flag=False)\n",
    "print(f\"Average Performance: {np.mean(cancer_2_score)}\")"
   ]
  },
  {
   "cell_type": "markdown",
   "metadata": {},
   "source": [
    "# Glass Tuning + Final Scores"
   ]
  },
  {
   "cell_type": "code",
   "execution_count": 17,
   "metadata": {},
   "outputs": [
    {
     "name": "stderr",
     "output_type": "stream",
     "text": [
      "                                                                     "
     ]
    },
    {
     "name": "stdout",
     "output_type": "stream",
     "text": [
      "Average Performance: 0.06999999999999999\n"
     ]
    },
    {
     "name": "stderr",
     "output_type": "stream",
     "text": [
      "\r"
     ]
    }
   ],
   "source": [
    "#glass_net_0_parameters = glass_net_0.tune()\n",
    "glass_0_score = glass_net_0.train_test(tuning_flag=False)\n",
    "print(f\"Average Performance: {np.mean(glass_0_score)}\")"
   ]
  },
  {
   "cell_type": "code",
   "execution_count": 18,
   "metadata": {},
   "outputs": [
    {
     "name": "stderr",
     "output_type": "stream",
     "text": [
      "                                                                     "
     ]
    },
    {
     "name": "stdout",
     "output_type": "stream",
     "text": [
      "Average Performance: 0.485\n"
     ]
    },
    {
     "name": "stderr",
     "output_type": "stream",
     "text": [
      "\r"
     ]
    }
   ],
   "source": [
    "#glass_net_1_parameters = glass_net_1.tune()\n",
    "glass_1_score = glass_net_1.train_test(tuning_flag=False)\n",
    "print(f\"Average Performance: {np.mean(glass_1_score)}\")"
   ]
  },
  {
   "cell_type": "code",
   "execution_count": 19,
   "metadata": {},
   "outputs": [
    {
     "name": "stderr",
     "output_type": "stream",
     "text": [
      "                                                                     "
     ]
    },
    {
     "name": "stdout",
     "output_type": "stream",
     "text": [
      "Average Performance: 0.5399999999999999\n"
     ]
    },
    {
     "name": "stderr",
     "output_type": "stream",
     "text": [
      "\r"
     ]
    }
   ],
   "source": [
    "#glass_net_2_parameters = glass_net_2.tune()\n",
    "glass_2_score = glass_net_2.train_test(tuning_flag=False)\n",
    "print(f\"Average Performance: {np.mean(glass_2_score)}\")"
   ]
  },
  {
   "cell_type": "markdown",
   "metadata": {},
   "source": [
    "# Soybean Tuning + Final Scores"
   ]
  },
  {
   "cell_type": "code",
   "execution_count": 20,
   "metadata": {},
   "outputs": [
    {
     "name": "stderr",
     "output_type": "stream",
     "text": [
      "                                                            "
     ]
    },
    {
     "name": "stdout",
     "output_type": "stream",
     "text": [
      "Average Performance: 0.2\n"
     ]
    },
    {
     "name": "stderr",
     "output_type": "stream",
     "text": [
      "\r"
     ]
    }
   ],
   "source": [
    "#soybean_net_0_parameters = soybean_net_0.tune()\n",
    "soybean_0_score = soybean_net_0.train_test(tuning_flag=False)\n",
    "print(f\"Average Performance: {np.mean(soybean_0_score)}\")"
   ]
  },
  {
   "cell_type": "code",
   "execution_count": 21,
   "metadata": {},
   "outputs": [
    {
     "name": "stderr",
     "output_type": "stream",
     "text": [
      "                                                                     "
     ]
    },
    {
     "name": "stdout",
     "output_type": "stream",
     "text": [
      "Average Performance: 0.2\n"
     ]
    },
    {
     "name": "stderr",
     "output_type": "stream",
     "text": [
      "\r"
     ]
    }
   ],
   "source": [
    "#soybean_net_1_parameters = soybean_net_1.tune()\n",
    "soybean_1_score = soybean_net_1.train_test(tuning_flag=False)\n",
    "print(f\"Average Performance: {np.mean(soybean_1_score)}\")"
   ]
  },
  {
   "cell_type": "code",
   "execution_count": 22,
   "metadata": {},
   "outputs": [
    {
     "name": "stderr",
     "output_type": "stream",
     "text": [
      "                                                                    "
     ]
    },
    {
     "name": "stdout",
     "output_type": "stream",
     "text": [
      "Average Performance: 0.2\n"
     ]
    },
    {
     "name": "stderr",
     "output_type": "stream",
     "text": [
      "\r"
     ]
    }
   ],
   "source": [
    "#soybean_net_2_parameters = soybean_net_2.tune()\n",
    "soybean_2_score = soybean_net_2.train_test(tuning_flag=False)\n",
    "print(f\"Average Performance: {np.mean(soybean_2_score)}\")"
   ]
  },
  {
   "cell_type": "code",
   "execution_count": 56,
   "metadata": {},
   "outputs": [],
   "source": [
    "def save_arrays_to_csv(arrays: list, filename: str):\n",
    "    \"\"\"\n",
    "    Save 18 numpy arrays to a single CSV file. This is used to save final performance data after\n",
    "    running all algorithms, so that the data can be visualized later without having to re-run\n",
    "    the entire program.\n",
    "    \"\"\"\n",
    "    if len(arrays) != 18:\n",
    "        raise ValueError(\"The input must contain 18 numpy arrays.\")\n",
    "    with open(filename, mode='w', newline='') as file:\n",
    "        writer = csv.writer(file)\n",
    "        for idx, array in enumerate(arrays):\n",
    "            # Write the array identifier\n",
    "            writer.writerow([f\"Array {idx+1}\"])\n",
    "            # Write each value in the array as a row\n",
    "            for value in array:\n",
    "                writer.writerow([value])  # Each value needs to be in a list to be written as a row\n",
    "            # Add an empty row after each array for readability\n",
    "            writer.writerow([])\n",
    "\n",
    "def load_arrays_from_csv(filename):\n",
    "    \"\"\"\n",
    "    Load arrays from a CSV file and return them in the same format they were saved.\n",
    "    \"\"\"\n",
    "    arrays = []\n",
    "    with open(filename, mode='r') as file:\n",
    "        reader = csv.reader(file)\n",
    "        current_array = []\n",
    "        for row in reader:\n",
    "            if len(row) == 0:  # Empty row indicates the end of an array\n",
    "                if current_array:  # If current_array has values, append it to arrays\n",
    "                    arrays.append(current_array)\n",
    "                    current_array = []\n",
    "            elif row[0].startswith(\"Array\"):  # Array identifier, skip it\n",
    "                continue\n",
    "            else:\n",
    "                # Add the scalar value from the row to current_array\n",
    "                current_array.append(float(row[0]))\n",
    "                \n",
    "        # Append the last array if the file doesn't end with an empty row\n",
    "        if current_array:\n",
    "            arrays.append(current_array)\n",
    "    \n",
    "    return arrays"
   ]
  },
  {
   "cell_type": "markdown",
   "metadata": {},
   "source": [
    "# Plotting Metrics"
   ]
  },
  {
   "cell_type": "code",
   "execution_count": 57,
   "metadata": {},
   "outputs": [
    {
     "data": {
      "image/png": "[encoded data removed]",
      "text/plain": [
       "<Figure size 800x500 with 1 Axes>"
      ]
     },
     "metadata": {},
     "output_type": "display_data"
    },
    {
     "data": {
      "image/png": "[encoded data removed]",
      "text/plain": [
       "<Figure size 800x500 with 1 Axes>"
      ]
     },
     "metadata": {},
     "output_type": "display_data"
    }
   ],
   "source": [
    "classification_arrays = [cancer_0_score,cancer_1_score,cancer_2_score,\n",
    "                         glass_0_score,glass_1_score,glass_2_score,\n",
    "                         soybean_0_score,soybean_1_score,soybean_2_score]\n",
    "regression_arrays = [abalone_0_score,abalone_1_score,abalone_2_score,\n",
    "                     fire_0_score,fire_1_score,fire_2_score,\n",
    "                     machine_0_score,machine_1_score,machine_2_score]\n",
    "arrays_to_save = []\n",
    "arrays_to_save.extend(classification_arrays)\n",
    "arrays_to_save.extend(regression_arrays)\n",
    "#print(arrays_to_save)\n",
    "save_arrays_to_csv(arrays_to_save, 'results.csv')\n",
    "loaded_arrays = load_arrays_from_csv('results.csv')\n",
    "classification_arrays = loaded_arrays[:9]\n",
    "regression_arrays = loaded_arrays[9:]\n",
    "#loaded_arrays = classification_arrays\n",
    "#loaded_arrays.extend(regression_arrays)\n",
    "classification_dataset_names = ['Cancer', 'Glass', 'Soybean']\n",
    "regression_dataset_names = ['Abalone', 'Fire', 'Machine']\n",
    "\n",
    "make_plots_2(loaded_arrays, classification_dataset_names, regression_dataset_names, (8, 5), 0, '/home/carlthedog3/CSCI_447/Project_3/Code/Figures/')"
   ]
  },
  {
   "cell_type": "code",
   "execution_count": null,
   "metadata": {},
   "outputs": [],
   "source": []
  }
 ],
 "metadata": {
  "kernelspec": {
   "display_name": "Python 3",
   "language": "python",
   "name": "python3"
  },
  "language_info": {
   "codemirror_mode": {
    "name": "ipython",
    "version": 3
   },
   "file_extension": ".py",
   "mimetype": "text/x-python",
   "name": "python",
   "nbconvert_exporter": "python",
   "pygments_lexer": "ipython3",
   "version": "3.10.12"
  }
 },
 "nbformat": 4,
 "nbformat_minor": 2
}
