{
 "cells": [
  {
   "cell_type": "code",
   "execution_count": 4,
   "metadata": {},
   "outputs": [],
   "source": [
    "import os\n",
    "import numpy as np\n",
    "import random\n",
    "import csv\n",
    "from tqdm import tqdm\n",
    "import matplotlib.pyplot as plt\n",
    "import itertools\n",
    "from dataset import dataset\n",
    "from neural_network import neural_net\n",
    "from additional_functions import process_all\n",
    "from additional_functions import save_arrays_to_csv\n",
    "from additional_functions import load_arrays_from_csv\n",
    "from additional_functions import make_plots_2"
   ]
  },
  {
   "cell_type": "markdown",
   "metadata": {},
   "source": [
    "# Neural Network Instantiation"
   ]
  },
  {
   "cell_type": "code",
   "execution_count": 5,
   "metadata": {},
   "outputs": [],
   "source": [
    "abalone_data, cancer_data, fire_data, glass_data, machine_data, soybean_data = process_all('carlthedog3', True)"
   ]
  },
  {
   "cell_type": "code",
   "execution_count": 6,
   "metadata": {},
   "outputs": [],
   "source": [
    "# Classification Sets\n",
    "cancer_net_0 = neural_net(cancer_data, \"classification\", hidden_layer_count=0, epochs=10,momentum=.5,learning_rate=.01,batch_size=16)\n",
    "cancer_net_1 = neural_net(cancer_data, \"classification\", hidden_layer_count=1, network_shape=[9,1,2],epochs=50,momentum=.7,learning_rate=.1,batch_size=16)\n",
    "cancer_net_2 = neural_net(cancer_data, \"classification\", hidden_layer_count=2, network_shape=[9,1,5,2],epochs=50,momentum=.9,learning_rate=.01,batch_size=16)\n",
    "\n",
    "glass_net_0 = neural_net(glass_data, \"classification\", hidden_layer_count=0, epochs=100,momentum=.5,learning_rate=.001,batch_size=16)\n",
    "glass_net_1 = neural_net(glass_data, \"classification\", hidden_layer_count=1, network_shape=[9,1,6],epochs=500,momentum=.95,learning_rate=.01,batch_size=32)\n",
    "glass_net_2 = neural_net(glass_data, \"classification\", hidden_layer_count=2, network_shape=[9,1,9,6],epochs=500,momentum=.95,learning_rate=.01,batch_size=32)\n",
    "\n",
    "soybean_net_0 = neural_net(soybean_data, \"classification\", hidden_layer_count=0, epochs=10,momentum=.99,learning_rate=.01,batch_size=16)\n",
    "soybean_net_1 = neural_net(soybean_data, \"classification\", hidden_layer_count=1, network_shape=[35,1,4],epochs=500,momentum=.99,learning_rate=.01,batch_size=16)\n",
    "soybean_net_2 = neural_net(soybean_data, \"classification\", hidden_layer_count=2, network_shape=[35,1,9,4],epochs=500,momentum=.95,learning_rate=.1,batch_size=256)\n",
    "\n",
    "\n",
    "# Regression Sets\n",
    "abalone_net_0 = neural_net(abalone_data, \"regression\", hidden_layer_count=0, epochs=200,momentum=.9,learning_rate=.01,batch_size=32)\n",
    "abalone_net_1 = neural_net(abalone_data, \"regression\", hidden_layer_count=1, network_shape=[8,1,1],epochs=500,momentum=.95,learning_rate=.01,batch_size=16)\n",
    "abalone_net_2 = neural_net(abalone_data, \"regression\", hidden_layer_count=2, network_shape=[8,1,9,1],epochs=500,momentum=.99,learning_rate=.001,batch_size=16)\n",
    "\n",
    "fire_net_0 = neural_net(fire_data, \"regression\", hidden_layer_count=0, epochs=200,momentum=.9,learning_rate=.01,batch_size=16)\n",
    "fire_net_1 = neural_net(fire_data, \"regression\", hidden_layer_count=1, network_shape=[12,1,1],epochs=200,momentum=.95,learning_rate=.01,batch_size=16)\n",
    "fire_net_2 = neural_net(fire_data, \"regression\", hidden_layer_count=2, network_shape=[12,1,1,1],epochs=500,momentum=.95,learning_rate=.001,batch_size=16)\n",
    "\n",
    "machine_net_0 = neural_net(machine_data, \"regression\", hidden_layer_count=0, epochs=500,momentum=.95,learning_rate=.01,batch_size=16)\n",
    "machine_net_1 = neural_net(machine_data, \"regression\", hidden_layer_count=1, network_shape=[9,1,1],epochs=500,momentum=.99,learning_rate=.01,batch_size=16)\n",
    "machine_net_2 = neural_net(machine_data, \"regression\", hidden_layer_count=2, network_shape=[9,1,7,1],epochs=500,momentum=.99,learning_rate=.01,batch_size=16)"
   ]
  },
  {
   "cell_type": "markdown",
   "metadata": {},
   "source": [
    "# Abalone Tuning + Final Scores"
   ]
  },
  {
   "cell_type": "code",
   "execution_count": 7,
   "metadata": {},
   "outputs": [
    {
     "name": "stderr",
     "output_type": "stream",
     "text": [
      "                                                            \r"
     ]
    },
    {
     "ename": "KeyboardInterrupt",
     "evalue": "",
     "output_type": "error",
     "traceback": [
      "\u001b[0;31m---------------------------------------------------------------------------\u001b[0m",
      "\u001b[0;31mKeyboardInterrupt\u001b[0m                         Traceback (most recent call last)",
      "Cell \u001b[0;32mIn[7], line 2\u001b[0m\n\u001b[1;32m      1\u001b[0m \u001b[38;5;66;03m#abalone_net_0_parameters = abalone_net_0.tune()\u001b[39;00m\n\u001b[0;32m----> 2\u001b[0m abalone_0_score \u001b[38;5;241m=\u001b[39m \u001b[43mabalone_net_0\u001b[49m\u001b[38;5;241;43m.\u001b[39;49m\u001b[43mtrain_test\u001b[49m\u001b[43m(\u001b[49m\u001b[43mtuning_flag\u001b[49m\u001b[38;5;241;43m=\u001b[39;49m\u001b[38;5;28;43;01mFalse\u001b[39;49;00m\u001b[43m)\u001b[49m\n\u001b[1;32m      3\u001b[0m \u001b[38;5;28mprint\u001b[39m(\u001b[38;5;124mf\u001b[39m\u001b[38;5;124m\"\u001b[39m\u001b[38;5;124mAverage Performance: \u001b[39m\u001b[38;5;132;01m{\u001b[39;00mnp\u001b[38;5;241m.\u001b[39mmean(abalone_0_score)\u001b[38;5;132;01m}\u001b[39;00m\u001b[38;5;124m\"\u001b[39m)\n",
      "File \u001b[0;32m~/CSCI_447/Project_3/Code/neural_network.py:294\u001b[0m, in \u001b[0;36mneural_net.train_test\u001b[0;34m(self, tuning_flag, epochs, momentum, learning_rate, batch_size)\u001b[0m\n\u001b[1;32m    292\u001b[0m \u001b[38;5;28;01mfor\u001b[39;00m i \u001b[38;5;129;01min\u001b[39;00m tqdm(\u001b[38;5;28mrange\u001b[39m(\u001b[38;5;241m10\u001b[39m), desc\u001b[38;5;241m=\u001b[39m\u001b[38;5;124m\"\u001b[39m\u001b[38;5;124mEvaluating Test Data\u001b[39m\u001b[38;5;124m\"\u001b[39m, leave\u001b[38;5;241m=\u001b[39m\u001b[38;5;28;01mFalse\u001b[39;00m):\n\u001b[1;32m    293\u001b[0m     \u001b[38;5;28mself\u001b[39m\u001b[38;5;241m.\u001b[39minit_weights_biases_momentum()\n\u001b[0;32m--> 294\u001b[0m     \u001b[38;5;28;43mself\u001b[39;49m\u001b[38;5;241;43m.\u001b[39;49m\u001b[43mgrad_desc\u001b[49m\u001b[43m(\u001b[49m\u001b[38;5;28;43mself\u001b[39;49m\u001b[38;5;241;43m.\u001b[39;49m\u001b[43mget_training_data\u001b[49m\u001b[43m(\u001b[49m\u001b[43mi\u001b[49m\u001b[43m)\u001b[49m\u001b[43m,\u001b[49m\u001b[43m \u001b[49m\u001b[38;5;28;43mself\u001b[39;49m\u001b[38;5;241;43m.\u001b[39;49m\u001b[43mepochs\u001b[49m\u001b[43m,\u001b[49m\u001b[43m \u001b[49m\u001b[38;5;28;43mself\u001b[39;49m\u001b[38;5;241;43m.\u001b[39;49m\u001b[43mmomentum\u001b[49m\u001b[43m,\u001b[49m\u001b[43m \u001b[49m\u001b[38;5;28;43mself\u001b[39;49m\u001b[38;5;241;43m.\u001b[39;49m\u001b[43mlearning_rate\u001b[49m\u001b[43m,\u001b[49m\u001b[43m \u001b[49m\u001b[38;5;28;43mself\u001b[39;49m\u001b[38;5;241;43m.\u001b[39;49m\u001b[43mbatch_size\u001b[49m\u001b[43m)\u001b[49m\n\u001b[1;32m    295\u001b[0m     score \u001b[38;5;241m=\u001b[39m \u001b[38;5;28mself\u001b[39m\u001b[38;5;241m.\u001b[39mloss(\u001b[38;5;28mself\u001b[39m\u001b[38;5;241m.\u001b[39mget_testing_data(i))\n\u001b[1;32m    296\u001b[0m     scores\u001b[38;5;241m.\u001b[39mappend(score)\n",
      "File \u001b[0;32m~/CSCI_447/Project_3/Code/neural_network.py:112\u001b[0m, in \u001b[0;36mneural_net.grad_desc\u001b[0;34m(self, training_data, epochs, momentum, learning_rate, batch_size)\u001b[0m\n\u001b[1;32m    110\u001b[0m mini_batches \u001b[38;5;241m=\u001b[39m [training_data[k:k\u001b[38;5;241m+\u001b[39mbatch_size] \u001b[38;5;28;01mfor\u001b[39;00m k \u001b[38;5;129;01min\u001b[39;00m \u001b[38;5;28mrange\u001b[39m(\u001b[38;5;241m0\u001b[39m, example_count, batch_size)]         \u001b[38;5;66;03m#Form the mini batches based on the batch size hyperparameters\u001b[39;00m\n\u001b[1;32m    111\u001b[0m \u001b[38;5;28;01mfor\u001b[39;00m mini_batch \u001b[38;5;129;01min\u001b[39;00m mini_batches:\n\u001b[0;32m--> 112\u001b[0m     \u001b[38;5;28;43mself\u001b[39;49m\u001b[38;5;241;43m.\u001b[39;49m\u001b[43mupdate_weights\u001b[49m\u001b[43m(\u001b[49m\u001b[43mmini_batch\u001b[49m\u001b[43m,\u001b[49m\u001b[43m \u001b[49m\u001b[43mmomentum\u001b[49m\u001b[43m,\u001b[49m\u001b[43m \u001b[49m\u001b[43mlearning_rate\u001b[49m\u001b[43m)\u001b[49m\n",
      "File \u001b[0;32m~/CSCI_447/Project_3/Code/neural_network.py:126\u001b[0m, in \u001b[0;36mneural_net.update_weights\u001b[0;34m(self, mini_batch, momentum, learning_rate)\u001b[0m\n\u001b[1;32m    124\u001b[0m \u001b[38;5;28;01mfor\u001b[39;00m feature, label \u001b[38;5;129;01min\u001b[39;00m mini_batch:           \n\u001b[1;32m    125\u001b[0m     \u001b[38;5;28;01mif\u001b[39;00m \u001b[38;5;129;01mnot\u001b[39;00m np\u001b[38;5;241m.\u001b[39misnan(label):\n\u001b[0;32m--> 126\u001b[0m         delta_bias_gradient, delta_weight_gradient \u001b[38;5;241m=\u001b[39m \u001b[38;5;28;43mself\u001b[39;49m\u001b[38;5;241;43m.\u001b[39;49m\u001b[43mepoch\u001b[49m\u001b[43m(\u001b[49m\u001b[43mfeature\u001b[49m\u001b[43m,\u001b[49m\u001b[43m \u001b[49m\u001b[43mlabel\u001b[49m\u001b[43m)\u001b[49m\n\u001b[1;32m    127\u001b[0m         bias_gradient \u001b[38;5;241m=\u001b[39m [gradient \u001b[38;5;241m+\u001b[39m delta \u001b[38;5;28;01mfor\u001b[39;00m gradient, delta \u001b[38;5;129;01min\u001b[39;00m \u001b[38;5;28mzip\u001b[39m(bias_gradient, delta_bias_gradient)]\n\u001b[1;32m    128\u001b[0m         weight_gradient \u001b[38;5;241m=\u001b[39m [gradient \u001b[38;5;241m+\u001b[39m delta \u001b[38;5;28;01mfor\u001b[39;00m gradient, delta \u001b[38;5;129;01min\u001b[39;00m \u001b[38;5;28mzip\u001b[39m(weight_gradient, delta_weight_gradient)]\n",
      "File \u001b[0;32m~/CSCI_447/Project_3/Code/neural_network.py:160\u001b[0m, in \u001b[0;36mneural_net.epoch\u001b[0;34m(self, feature, label)\u001b[0m\n\u001b[1;32m    158\u001b[0m \u001b[38;5;66;03m#weighted_input = np.dot(weight, activation)\u001b[39;00m\n\u001b[1;32m    159\u001b[0m activation \u001b[38;5;241m=\u001b[39m weighted_input\n\u001b[0;32m--> 160\u001b[0m \u001b[38;5;28;01mif\u001b[39;00m \u001b[38;5;28mself\u001b[39m\u001b[38;5;241m.\u001b[39mprediction_type \u001b[38;5;241m==\u001b[39m \u001b[38;5;124m\"\u001b[39m\u001b[38;5;124mclassification\u001b[39m\u001b[38;5;124m\"\u001b[39m:\n\u001b[1;32m    161\u001b[0m     activation \u001b[38;5;241m=\u001b[39m \u001b[38;5;28mself\u001b[39m\u001b[38;5;241m.\u001b[39msoftmax(weighted_input)\n\u001b[1;32m    162\u001b[0m weighted_inputs\u001b[38;5;241m.\u001b[39mappend(weighted_input)\n",
      "\u001b[0;31mKeyboardInterrupt\u001b[0m: "
     ]
    }
   ],
   "source": [
    "#abalone_net_0_parameters = abalone_net_0.tune()\n",
    "abalone_0_score = abalone_net_0.train_test(tuning_flag=False)\n",
    "print(f\"Average Performance: {np.mean(abalone_0_score)}\")"
   ]
  },
  {
   "cell_type": "code",
   "execution_count": null,
   "metadata": {},
   "outputs": [
    {
     "name": "stderr",
     "output_type": "stream",
     "text": [
      "                                                                     "
     ]
    },
    {
     "name": "stdout",
     "output_type": "stream",
     "text": [
      "Average Performance: 0.006559091413981334\n"
     ]
    },
    {
     "name": "stderr",
     "output_type": "stream",
     "text": [
      "\r"
     ]
    }
   ],
   "source": [
    "#abalone_net_1_parameters = abalone_net_1.tune()\n",
    "abalone_1_score = abalone_net_1.train_test(tuning_flag=False)\n",
    "print(f\"Average Performance: {np.mean(abalone_1_score)}\")"
   ]
  },
  {
   "cell_type": "code",
   "execution_count": null,
   "metadata": {},
   "outputs": [
    {
     "name": "stderr",
     "output_type": "stream",
     "text": [
      "                                                                     "
     ]
    },
    {
     "name": "stdout",
     "output_type": "stream",
     "text": [
      "Average Performance: 0.006931437623464018\n"
     ]
    },
    {
     "name": "stderr",
     "output_type": "stream",
     "text": [
      "\r"
     ]
    }
   ],
   "source": [
    "#abalone_net_2_parameters = abalone_net_2.tune()\n",
    "abalone_2_score = abalone_net_2.train_test(tuning_flag=False)\n",
    "print(f\"Average Performance: {np.mean(abalone_2_score)}\")"
   ]
  },
  {
   "cell_type": "markdown",
   "metadata": {},
   "source": [
    "# Fire Tuning + Final Scores"
   ]
  },
  {
   "cell_type": "code",
   "execution_count": null,
   "metadata": {},
   "outputs": [
    {
     "name": "stderr",
     "output_type": "stream",
     "text": [
      "                                                                     "
     ]
    },
    {
     "name": "stdout",
     "output_type": "stream",
     "text": [
      "Average Performance: 0.005721274142668384\n"
     ]
    },
    {
     "name": "stderr",
     "output_type": "stream",
     "text": [
      "\r"
     ]
    }
   ],
   "source": [
    "#fire_net_0_parameters = fire_net_0.tune()\n",
    "fire_0_score = fire_net_0.train_test(tuning_flag=False)\n",
    "print(f\"Average Performance: {np.mean(fire_0_score)}\")"
   ]
  },
  {
   "cell_type": "code",
   "execution_count": null,
   "metadata": {},
   "outputs": [
    {
     "name": "stderr",
     "output_type": "stream",
     "text": [
      "                                                                     "
     ]
    },
    {
     "name": "stdout",
     "output_type": "stream",
     "text": [
      "Average Performance: 0.0037049092062057245\n"
     ]
    },
    {
     "name": "stderr",
     "output_type": "stream",
     "text": [
      "\r"
     ]
    }
   ],
   "source": [
    "#fire_net_1_parameters = fire_net_1.tune()\n",
    "fire_1_score = fire_net_1.train_test(tuning_flag=False)\n",
    "print(f\"Average Performance: {np.mean(fire_1_score)}\")"
   ]
  },
  {
   "cell_type": "code",
   "execution_count": null,
   "metadata": {},
   "outputs": [
    {
     "name": "stderr",
     "output_type": "stream",
     "text": [
      "                                                                     "
     ]
    },
    {
     "name": "stdout",
     "output_type": "stream",
     "text": [
      "Average Performance: 0.0037254296840037344\n"
     ]
    },
    {
     "name": "stderr",
     "output_type": "stream",
     "text": [
      "\r"
     ]
    }
   ],
   "source": [
    "#fire_net_2_parameters = fire_net_2.tune()\n",
    "fire_2_score = fire_net_2.train_test(tuning_flag=False)\n",
    "print(f\"Average Performance: {np.mean(fire_2_score)}\")"
   ]
  },
  {
   "cell_type": "markdown",
   "metadata": {},
   "source": [
    "# Machine Tuning + Final Scores"
   ]
  },
  {
   "cell_type": "code",
   "execution_count": null,
   "metadata": {},
   "outputs": [
    {
     "name": "stderr",
     "output_type": "stream",
     "text": [
      "                                                                     "
     ]
    },
    {
     "name": "stdout",
     "output_type": "stream",
     "text": [
      "Average Performance: 0.0010733058271575635\n"
     ]
    },
    {
     "name": "stderr",
     "output_type": "stream",
     "text": [
      "\r"
     ]
    }
   ],
   "source": [
    "#machine_net_0_parameters = machine_net_0.tune()\n",
    "machine_0_score = machine_net_0.train_test(tuning_flag=False)\n",
    "print(f\"Average Performance: {np.mean(machine_0_score)}\")"
   ]
  },
  {
   "cell_type": "code",
   "execution_count": null,
   "metadata": {},
   "outputs": [
    {
     "name": "stderr",
     "output_type": "stream",
     "text": [
      "                                                                     "
     ]
    },
    {
     "name": "stdout",
     "output_type": "stream",
     "text": [
      "Average Performance: 0.006593045274298735\n"
     ]
    },
    {
     "name": "stderr",
     "output_type": "stream",
     "text": [
      "\r"
     ]
    }
   ],
   "source": [
    "#machine_net_1_parameters = machine_net_1.tune()\n",
    "machine_1_score = machine_net_1.train_test(tuning_flag=False)\n",
    "print(f\"Average Performance: {np.mean(machine_1_score)}\")"
   ]
  },
  {
   "cell_type": "code",
   "execution_count": null,
   "metadata": {},
   "outputs": [
    {
     "name": "stderr",
     "output_type": "stream",
     "text": [
      "                                                                     "
     ]
    },
    {
     "name": "stdout",
     "output_type": "stream",
     "text": [
      "Average Performance: 0.004282514017486736\n"
     ]
    },
    {
     "name": "stderr",
     "output_type": "stream",
     "text": [
      "\r"
     ]
    }
   ],
   "source": [
    "#machine_net_2_parameters = machine_net_2.tune()\n",
    "machine_2_score = machine_net_2.train_test(tuning_flag=False)\n",
    "print(f\"Average Performance: {np.mean(machine_2_score)}\")"
   ]
  },
  {
   "cell_type": "markdown",
   "metadata": {},
   "source": [
    "# Cancer Tuning + Final Scores"
   ]
  },
  {
   "cell_type": "code",
   "execution_count": null,
   "metadata": {},
   "outputs": [
    {
     "name": "stderr",
     "output_type": "stream",
     "text": [
      "                                                                     "
     ]
    },
    {
     "name": "stdout",
     "output_type": "stream",
     "text": [
      "Average Performance: 0.42910906298003065\n"
     ]
    },
    {
     "name": "stderr",
     "output_type": "stream",
     "text": [
      "\r"
     ]
    }
   ],
   "source": [
    "#cancer_net_0_parameters = cancer_net_0.tune()\n",
    "cancer_0_score = cancer_net_0.train_test(tuning_flag=False)\n",
    "print(f\"Average Performance: {np.mean(cancer_0_score)}\")"
   ]
  },
  {
   "cell_type": "code",
   "execution_count": null,
   "metadata": {},
   "outputs": [
    {
     "name": "stderr",
     "output_type": "stream",
     "text": [
      "                                                                     "
     ]
    },
    {
     "name": "stdout",
     "output_type": "stream",
     "text": [
      "Average Performance: 0.9650281618023552\n"
     ]
    },
    {
     "name": "stderr",
     "output_type": "stream",
     "text": [
      "\r"
     ]
    }
   ],
   "source": [
    "#cancer_net_1_parameters = cancer_net_1.tune()\n",
    "cancer_1_score = cancer_net_1.train_test(tuning_flag=False)\n",
    "print(f\"Average Performance: {np.mean(cancer_1_score)}\")"
   ]
  },
  {
   "cell_type": "code",
   "execution_count": null,
   "metadata": {},
   "outputs": [
    {
     "name": "stderr",
     "output_type": "stream",
     "text": [
      "                                                                     "
     ]
    },
    {
     "name": "stdout",
     "output_type": "stream",
     "text": [
      "Average Performance: 0.9682027649769583\n"
     ]
    },
    {
     "name": "stderr",
     "output_type": "stream",
     "text": [
      "\r"
     ]
    }
   ],
   "source": [
    "#cancer_net_2_parameters = cancer_net_2.tune()\n",
    "cancer_2_score = cancer_net_2.train_test(tuning_flag=False)\n",
    "print(f\"Average Performance: {np.mean(cancer_2_score)}\")"
   ]
  },
  {
   "cell_type": "markdown",
   "metadata": {},
   "source": [
    "# Glass Tuning + Final Scores"
   ]
  },
  {
   "cell_type": "code",
   "execution_count": null,
   "metadata": {},
   "outputs": [
    {
     "name": "stderr",
     "output_type": "stream",
     "text": [
      "                                                                     "
     ]
    },
    {
     "name": "stdout",
     "output_type": "stream",
     "text": [
      "Average Performance: 0.010263157894736842\n"
     ]
    },
    {
     "name": "stderr",
     "output_type": "stream",
     "text": [
      "\r"
     ]
    }
   ],
   "source": [
    "#glass_net_0_parameters = glass_net_0.tune()\n",
    "glass_0_score = glass_net_0.train_test(tuning_flag=False)\n",
    "print(f\"Average Performance: {np.mean(glass_0_score)}\")"
   ]
  },
  {
   "cell_type": "code",
   "execution_count": null,
   "metadata": {},
   "outputs": [
    {
     "name": "stderr",
     "output_type": "stream",
     "text": [
      "                                                                     "
     ]
    },
    {
     "name": "stdout",
     "output_type": "stream",
     "text": [
      "Average Performance: 0.58\n"
     ]
    },
    {
     "name": "stderr",
     "output_type": "stream",
     "text": [
      "\r"
     ]
    }
   ],
   "source": [
    "#glass_net_1_parameters = glass_net_1.tune()\n",
    "glass_1_score = glass_net_1.train_test(tuning_flag=False)\n",
    "print(f\"Average Performance: {np.mean(glass_1_score)}\")"
   ]
  },
  {
   "cell_type": "code",
   "execution_count": null,
   "metadata": {},
   "outputs": [
    {
     "name": "stderr",
     "output_type": "stream",
     "text": [
      "                                                                     "
     ]
    },
    {
     "name": "stdout",
     "output_type": "stream",
     "text": [
      "Average Performance: 0.59\n"
     ]
    },
    {
     "name": "stderr",
     "output_type": "stream",
     "text": [
      "\r"
     ]
    }
   ],
   "source": [
    "#glass_net_2_parameters = glass_net_2.tune()\n",
    "glass_2_score = glass_net_2.train_test(tuning_flag=False)\n",
    "print(f\"Average Performance: {np.mean(glass_2_score)}\")"
   ]
  },
  {
   "cell_type": "markdown",
   "metadata": {},
   "source": [
    "# Soybean Tuning + Final Scores"
   ]
  },
  {
   "cell_type": "code",
   "execution_count": null,
   "metadata": {},
   "outputs": [
    {
     "name": "stderr",
     "output_type": "stream",
     "text": [
      "                                                            "
     ]
    },
    {
     "name": "stdout",
     "output_type": "stream",
     "text": [
      "Average Performance: 0.125\n"
     ]
    },
    {
     "name": "stderr",
     "output_type": "stream",
     "text": [
      "\r"
     ]
    }
   ],
   "source": [
    "#soybean_net_0_parameters = soybean_net_0.tune()\n",
    "soybean_0_score = soybean_net_0.train_test(tuning_flag=False)\n",
    "print(f\"Average Performance: {np.mean(soybean_0_score)}\")"
   ]
  },
  {
   "cell_type": "code",
   "execution_count": null,
   "metadata": {},
   "outputs": [
    {
     "name": "stderr",
     "output_type": "stream",
     "text": [
      "                                                                     "
     ]
    },
    {
     "name": "stdout",
     "output_type": "stream",
     "text": [
      "Average Performance: 0.765\n"
     ]
    },
    {
     "name": "stderr",
     "output_type": "stream",
     "text": [
      "\r"
     ]
    }
   ],
   "source": [
    "#soybean_net_1_parameters = soybean_net_1.tune()\n",
    "soybean_1_score = soybean_net_1.train_test(tuning_flag=False)\n",
    "print(f\"Average Performance: {np.mean(soybean_1_score)}\")"
   ]
  },
  {
   "cell_type": "code",
   "execution_count": null,
   "metadata": {},
   "outputs": [
    {
     "name": "stderr",
     "output_type": "stream",
     "text": [
      "                                                                     "
     ]
    },
    {
     "name": "stdout",
     "output_type": "stream",
     "text": [
      "Average Performance: 0.8800000000000001\n"
     ]
    },
    {
     "name": "stderr",
     "output_type": "stream",
     "text": [
      "\r"
     ]
    }
   ],
   "source": [
    "#soybean_net_2_parameters = soybean_net_2.tune()\n",
    "soybean_2_score = soybean_net_2.train_test(tuning_flag=False)\n",
    "print(f\"Average Performance: {np.mean(soybean_2_score)}\")"
   ]
  },
  {
   "cell_type": "markdown",
   "metadata": {},
   "source": [
    "# Plotting Metrics"
   ]
  },
  {
   "cell_type": "code",
   "execution_count": null,
   "metadata": {},
   "outputs": [
    {
     "data": {
      "image/png": "[encoded data removed]",
      "text/plain": [
       "<Figure size 1200x500 with 1 Axes>"
      ]
     },
     "metadata": {},
     "output_type": "display_data"
    },
    {
     "data": {
      "image/png": "[encoded data removed]",
      "text/plain": [
       "<Figure size 1200x500 with 1 Axes>"
      ]
     },
     "metadata": {},
     "output_type": "display_data"
    }
   ],
   "source": [
    "#classification_arrays = [cancer_0_score,cancer_1_score,cancer_2_score,\n",
    "#                         glass_0_score,glass_1_score,glass_2_score,\n",
    "#                         soybean_0_score,soybean_1_score,soybean_2_score]\n",
    "#regression_arrays = [abalone_0_score,abalone_1_score,abalone_2_score,\n",
    "#                     fire_0_score,fire_1_score,fire_2_score,\n",
    "#                     machine_0_score,machine_1_score,machine_2_score]\n",
    "#arrays_to_save = []\n",
    "#arrays_to_save.extend(classification_arrays)\n",
    "#arrays_to_save.extend(regression_arrays)\n",
    "#print(arrays_to_save)\n",
    "#save_arrays_to_csv(arrays_to_save, 'results.csv')\n",
    "loaded_arrays = load_arrays_from_csv('results.csv')\n",
    "#loaded_arrays[1] = cancer_1_score\n",
    "classification_arrays = loaded_arrays[:9]\n",
    "regression_arrays = loaded_arrays[9:]\n",
    "#loaded_arrays = classification_arrays\n",
    "#loaded_arrays.extend(regression_arrays)\n",
    "classification_dataset_names = ['Cancer', 'Glass', 'Soybean']\n",
    "regression_dataset_names = ['Abalone', 'Fire', 'Machine']\n",
    "\n",
    "make_plots_2(loaded_arrays, classification_dataset_names, regression_dataset_names, (12, 5), 0, '/home/carlthedog3/CSCI_447/Project_3/Code/Figures/')"
   ]
  }
 ],
 "metadata": {
  "kernelspec": {
   "display_name": "Python 3",
   "language": "python",
   "name": "python3"
  },
  "language_info": {
   "codemirror_mode": {
    "name": "ipython",
    "version": 3
   },
   "file_extension": ".py",
   "mimetype": "text/x-python",
   "name": "python",
   "nbconvert_exporter": "python",
   "pygments_lexer": "ipython3",
   "version": "3.10.12"
  }
 },
 "nbformat": 4,
 "nbformat_minor": 2
}
