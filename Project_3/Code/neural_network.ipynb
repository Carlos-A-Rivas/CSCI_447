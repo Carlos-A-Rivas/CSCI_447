{
 "cells": [
  {
   "cell_type": "code",
   "execution_count": 72,
   "metadata": {},
   "outputs": [],
   "source": [
    "import os\n",
    "import numpy as np\n",
    "import random\n",
    "import csv\n",
    "import matplotlib.pyplot as plt\n",
    "from dataset import dataset\n",
    "from additional_functions import process_all"
   ]
  },
  {
   "cell_type": "code",
   "execution_count": 73,
   "metadata": {},
   "outputs": [],
   "source": [
    "class neural_net:\n",
    "    def __init__(self, data: dataset, prediction_type_flag: str, hidden_layer_count=0, momentum=1.0, learning_rate=1.0, batch_size=1, hidden_node_count=1, suppress_plots=True):\n",
    "        self.suppress_plots = suppress_plots\n",
    "        self.hidden_layer_count = hidden_layer_count\n",
    "        self.momentum = momentum\n",
    "        self.learning_rate = learning_rate\n",
    "        self.batch_size = batch_size\n",
    "        if hidden_layer_count == 0:\n",
    "            self.hidden_node_count = 0\n",
    "        else:\n",
    "            self.hidden_node_count = hidden_node_count\n",
    "        self.tune_set = data.tune_set\n",
    "        self.validate_set = data.validate_set\n",
    "        self.prediction_type = prediction_type_flag\n",
    "        self.predictions = []\n",
    "        self.answers = []\n",
    "    def init_weights(self, num_hidden_nodes: int):\n",
    "        '''\n",
    "        This function currently returns a list of \n",
    "        '''\n",
    "        input_size = self.tune_set.shape[1] - 1\n",
    "        hidden_size = num_hidden_nodes\n",
    "        output_size = 1 if self.prediction_type == \"regression\" else input_size\n",
    "        seam_count = self.hidden_layer_count + 1\n",
    "        all_weights = []\n",
    "        weights_per_seam = []\n",
    "        weight_count = 0\n",
    "        for seam_idx in range(seam_count):\n",
    "            # enters on first iteration\n",
    "            if seam_idx == 0:\n",
    "                if hidden_size == 0:\n",
    "                    weight_count = (input_size * output_size)\n",
    "                else:\n",
    "                    weight_count = (input_size * hidden_size)\n",
    "            # enters on the last iteration\n",
    "            elif seam_idx == (seam_count - 1):\n",
    "                weight_count = (hidden_size * output_size)\n",
    "            # enters on iterations aside from first or last\n",
    "            else:\n",
    "                weight_count = (hidden_size * hidden_size)\n",
    "            weights_per_seam = np.random.uniform(low=-.5, high=.5, size=weight_count)\n",
    "            # THIS CURRENTLY MAKES A LIST FULL OF NUMPY ARRAYS THAT WILL HAVE DIFFERENT DIMENSIONS,\n",
    "            # SO all_weights CANNOT BE CONVERTED TO A NUMPY ARRAY. CONSIDER ADDING PADDING TO MAKE all_weights NUMPY\n",
    "            all_weights.append(weights_per_seam)\n",
    "        # PAD all_weights HERE\n",
    "        return all_weights\n",
    "\n",
    "    def for_prop(self, example_set: np):\n",
    "        return\n",
    "    '''\n",
    "    # consider using these instead of for_prop, or make a class for each layer type\n",
    "    def input_layer(self):\n",
    "        return\n",
    "    def hidden_layer(self):\n",
    "        return\n",
    "    def output_layer(self):\n",
    "        return\n",
    "    '''\n",
    "    def grad_desc(self):\n",
    "        return\n",
    "    def mini_batch(self):\n",
    "        return\n",
    "    def tune(self):\n",
    "        return\n",
    "    def train(self):\n",
    "        return\n",
    "    def loss(self):\n",
    "        return\n",
    "    def loss_prime(self):\n",
    "        return\n",
    "    '''\n",
    "    # Consider using this to dynamically choose the output activation function\n",
    "    def activation(self, prediction_type: str):\n",
    "        return\n",
    "    '''\n",
    "    def sigmoid(self):\n",
    "        return\n",
    "    def sigmoid_prime(self):\n",
    "        return\n",
    "    def softmax(self):\n",
    "        return\n",
    "    '''\n",
    "    # Since loss output is in a slightly different format for neural nets, we might need an evaluate method to output final performance\n",
    "    def evaluate(self):\n",
    "        return\n",
    "    '''\n",
    "    # THIS PROLLY NEEDS EDITING\n",
    "    def plot_loss(self, metrics: list, parameter: str, increment):\n",
    "        '''\n",
    "        This function plots the loss performance for each epoch. This allows us to visualize at how many epochs\n",
    "        performance drops off.\n",
    "        '''\n",
    "        # Extract # of epochs and loss metrics\n",
    "        metrics = np.array(metrics)\n",
    "        epochs = np.arange(1, metrics.shape[0] + 1) * increment\n",
    "        loss1 = metrics[:, 0]\n",
    "        loss2 = metrics[:, 1]\n",
    "\n",
    "        # Create loss plot\n",
    "        plt.figure(figsize=(10, 6))\n",
    "        plt.plot(epochs, loss1, label='Loss Metric 1', marker='o')\n",
    "        plt.plot(epochs, loss2, label='Loss Metric 2', marker='o')\n",
    "        plt.xlabel(f'{parameter} Value')\n",
    "        plt.ylabel('Loss')\n",
    "        plt.title(f'Loss Metrics vs. {parameter} value')\n",
    "        plt.legend()\n",
    "        plt.grid(True)\n",
    "        plt.show()\n",
    "        plt.close()\n",
    "    "
   ]
  },
  {
   "cell_type": "code",
   "execution_count": 74,
   "metadata": {},
   "outputs": [],
   "source": [
    "abalone_data, cancer_data, fire_data, glass_data, machine_data, soybean_data = process_all('carlthedog3', True)"
   ]
  },
  {
   "cell_type": "code",
   "execution_count": 75,
   "metadata": {},
   "outputs": [
    {
     "name": "stdout",
     "output_type": "stream",
     "text": [
      "(45,)\n",
      "(25,)\n",
      "(45,)\n",
      "\n",
      "\n",
      "(12,)\n"
     ]
    }
   ],
   "source": [
    "num_hidden_layers = 2\n",
    "cancer_net = neural_net(cancer_data, \"classification\", hidden_layer_count=num_hidden_layers, hidden_node_count=3)\n",
    "x = cancer_net.init_weights(5)\n",
    "for i in range(num_hidden_layers+1):\n",
    "    print(x[i].shape)\n",
    "print(\"\\n\")\n",
    "num_hidden_layers = 0\n",
    "fire_net = neural_net(fire_data, \"regression\", hidden_layer_count=num_hidden_layers, hidden_node_count=3)\n",
    "x = fire_net.init_weights(0)\n",
    "for i in range(num_hidden_layers+1):\n",
    "    print(x[i].shape)"
   ]
  },
  {
   "cell_type": "code",
   "execution_count": null,
   "metadata": {},
   "outputs": [],
   "source": []
  },
  {
   "cell_type": "code",
   "execution_count": null,
   "metadata": {},
   "outputs": [],
   "source": []
  },
  {
   "cell_type": "code",
   "execution_count": null,
   "metadata": {},
   "outputs": [],
   "source": []
  },
  {
   "cell_type": "code",
   "execution_count": null,
   "metadata": {},
   "outputs": [],
   "source": []
  },
  {
   "cell_type": "code",
   "execution_count": null,
   "metadata": {},
   "outputs": [],
   "source": []
  },
  {
   "cell_type": "code",
   "execution_count": null,
   "metadata": {},
   "outputs": [],
   "source": []
  },
  {
   "cell_type": "code",
   "execution_count": null,
   "metadata": {},
   "outputs": [],
   "source": []
  },
  {
   "cell_type": "code",
   "execution_count": null,
   "metadata": {},
   "outputs": [],
   "source": []
  },
  {
   "cell_type": "code",
   "execution_count": null,
   "metadata": {},
   "outputs": [],
   "source": []
  }
 ],
 "metadata": {
  "kernelspec": {
   "display_name": "Python 3",
   "language": "python",
   "name": "python3"
  },
  "language_info": {
   "codemirror_mode": {
    "name": "ipython",
    "version": 3
   },
   "file_extension": ".py",
   "mimetype": "text/x-python",
   "name": "python",
   "nbconvert_exporter": "python",
   "pygments_lexer": "ipython3",
   "version": "3.10.12"
  }
 },
 "nbformat": 4,
 "nbformat_minor": 2
}
