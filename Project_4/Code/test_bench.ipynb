{
 "cells": [
  {
   "cell_type": "code",
   "execution_count": 11,
   "metadata": {},
   "outputs": [],
   "source": [
    "import os\n",
    "import numpy as np\n",
    "import random\n",
    "import csv\n",
    "from tqdm import tqdm\n",
    "import matplotlib.pyplot as plt\n",
    "import itertools\n",
    "from dataset import dataset\n",
    "from joblib import Parallel, delayed\n",
    "#from neural_network import neural_net\n",
    "from additional_functions import process_all\n",
    "from additional_functions import save_arrays_to_csv\n",
    "from additional_functions import load_arrays_from_csv\n",
    "from additional_functions import make_plots_2"
   ]
  },
  {
   "cell_type": "markdown",
   "metadata": {},
   "source": [
    "# Learning Algorithms"
   ]
  },
  {
   "cell_type": "code",
   "execution_count": 2,
   "metadata": {},
   "outputs": [],
   "source": [
    "class backprop_nn:\n",
    "    def __init__(self, data: dataset, prediction_type_flag: str, hidden_layer_count=0, network_shape=[], hidden_node_count=1, epochs=100, momentum=.9, learning_rate=.01, batch_size=10):\n",
    "        self.epochs = epochs\n",
    "        self.momentum = momentum\n",
    "        self.learning_rate = learning_rate\n",
    "        self.batch_size = batch_size\n",
    "        self.hidden_layer_count = hidden_layer_count\n",
    "        if hidden_layer_count == 0:\n",
    "            hidden_node_count = 0\n",
    "        else:\n",
    "            hidden_node_count = [hidden_node_count] * hidden_layer_count\n",
    "        self.tune_set = data.tune_set\n",
    "        self.validate_set = data.validate_set\n",
    "        self.prediction_type = prediction_type_flag\n",
    "\n",
    "        if self.prediction_type == \"classification\":\n",
    "            self.class_count = len(np.unique(self.tune_set[:,-1]))\n",
    "        else:\n",
    "            self.class_count = 0\n",
    "\n",
    "        input_size = self.tune_set.shape[1] - 1\n",
    "        self.input_size = input_size\n",
    "        if network_shape == []:\n",
    "            self.network_shape = [input_size] + (hidden_node_count if hidden_node_count else []) + ([self.class_count] if (self.prediction_type == \"classification\") else [1])\n",
    "        else:\n",
    "            self.network_shape = network_shape\n",
    "        self.biases = []\n",
    "        self.weights = []\n",
    "        self.bias_velocity = []\n",
    "        self.weight_velocity = []\n",
    "    def init_weights_biases_momentum(self):\n",
    "        '''\n",
    "        Initializes weights randomly based on the network shape list\n",
    "        '''\n",
    "        self.biases = [np.random.randn(next_size, 1) for next_size in self.network_shape[1:]]\n",
    "        self.weights = [np.random.randn(next_size, cur_size) for cur_size, next_size in zip(self.network_shape[:-1], self.network_shape[1:])]\n",
    "        self.bias_velocity = [np.zeros(bias.shape) for bias in self.biases]\n",
    "        self.weight_velocity = [np.zeros(weight.shape) for weight in self.weights]\n",
    "    def for_prop(self, input: np):\n",
    "        '''\n",
    "        Feeds forward a single example through the network\n",
    "        '''\n",
    "        output = input\n",
    "        for bias, weight in zip(self.biases[:-1], self.weights[:-1]):\n",
    "            output = self.sigmoid(np.dot(weight, output) + bias)        #for each weight calculate the output of the activation function\n",
    "                \n",
    "        bias, weight = self.biases[-1], self.weights[-1]\n",
    "        #For regression, use a linear combination for output activation\n",
    "        #For classification, use a softmax output activation\n",
    "        output = (np.dot(weight, output) + bias)    \n",
    "        if self.prediction_type == \"classification\":\n",
    "            output = self.softmax(output)\n",
    "        return output\n",
    "    def get_training_data(self, i: int):\n",
    "        '''\n",
    "        method needs to take in training data and compile 9 of the 10 folds (not fold I) into an array\n",
    "        we then want to format the data as follows: each example = (attributes, label)\n",
    "        I is used to indicate which fold is the hold out fold\n",
    "        '''\n",
    "        desired_data = np.concatenate([self.validate_set[j] for j in range(10) if j != i])  #Get all folds other than fold I and compile into its own array\n",
    "        training_data = [(example[:-1], example[-1]) for example in desired_data]   #Format properly\n",
    "        return training_data\n",
    "    def get_testing_data(self, i: int):\n",
    "        '''\n",
    "        method needs to take in training data and compile 1 of the 10 folds (fold I) into an array\n",
    "        Then format the data as follows: each example = (attributes, label)\n",
    "        i is used to indicate which training set you want returned\n",
    "        '''\n",
    "        desired_data = self.validate_set[i]         #Get the test set\n",
    "        testing_data = [(example[:-1], example[-1]) for example in desired_data] #Format properly\n",
    "        return testing_data\n",
    "    def get_tuning_data(self):\n",
    "        '''\n",
    "        method needs to take in the tuning set and properly format it\n",
    "        Then format the data as follows: each example = (attributes, label)\n",
    "        i is used to indicate which training set you want returned\n",
    "        '''\n",
    "        desired_data = self.tune_set  #Get the tuning set\n",
    "        tuning_data = [(example[:-1], example[-1]) for example in desired_data] #Format properly\n",
    "        return tuning_data\n",
    "    def grad_desc(self, training_data, epochs, momentum, learning_rate, batch_size):\n",
    "        # ***THINK OF THIS METHOD AS TRAINING VIA BACKPROPOGATION*** #\n",
    "        '''\n",
    "        Takes in a traing set from get_training_data. The format is a list of tuples, where each tuple\n",
    "        represents an example. Within each tuple the first value is the feature vector and the second\n",
    "        value is the label.\n",
    "\n",
    "        We want to complete mini batch gradient descent\n",
    "\n",
    "        This method effectively trains the model\n",
    "        '''\n",
    "        example_count = len(training_data)\n",
    "        for epoch in range(epochs):\n",
    "            random.shuffle(training_data)\n",
    "            mini_batches = [training_data[k:k+batch_size] for k in range(0, example_count, batch_size)]         #Form the mini batches based on the batch size hyperparameters\n",
    "            for mini_batch in mini_batches:\n",
    "                self.update_weights(mini_batch, momentum, learning_rate)                                        #for each mini batch, update the weights\n",
    "    def update_weights(self, mini_batch, momentum, learning_rate):\n",
    "        '''\n",
    "        This method takes in a mini batch and the momentum and learning rate hyperparameters. It needs to compute the gradient\n",
    "        for the biases and the weights, use the gradients to calculate the velocities, and use the velocities to update the weights\n",
    "        and biases.\n",
    "        '''\n",
    "        bias_gradient = [np.zeros(bias.shape) for bias in self.biases]          #initialize an empty array to store the gradients\n",
    "        weight_gradient = [np.zeros(weight.shape) for weight in self.weights]\n",
    "\n",
    "        # Compute gradients for the mini-batch\n",
    "        for feature, label in mini_batch:           \n",
    "            if not np.isnan(label):\n",
    "                delta_bias_gradient, delta_weight_gradient = self.epoch(feature, label)\n",
    "                bias_gradient = [gradient + delta for gradient, delta in zip(bias_gradient, delta_bias_gradient)]\n",
    "                weight_gradient = [gradient + delta for gradient, delta in zip(weight_gradient, delta_weight_gradient)]\n",
    "        \n",
    "        # Update velocities and apply updates with momentum\n",
    "        self.bias_velocity = [momentum * velocity - (learning_rate / len(mini_batch)) * gradient for velocity, gradient in zip(self.bias_velocity, bias_gradient)]\n",
    "        self.weight_velocity = [momentum * velocity - (learning_rate / len(mini_batch)) * gradient for velocity, gradient in zip(self.weight_velocity, weight_gradient)]\n",
    "\n",
    "        # Update weights and biases\n",
    "        self.biases = [bias + velocity for bias, velocity in zip(self.biases, self.bias_velocity)]\n",
    "        self.weights = [bias + velocity for bias, velocity in zip(self.weights, self.weight_velocity)]\n",
    "    def epoch(self, feature, label):\n",
    "        '''\n",
    "        This method should complete one full cycle of forward propogation, loss calculation, calculate gradients based on loss\n",
    "        and back propogation to update weights. \n",
    "        '''\n",
    "        \n",
    "        bias_gradient = [np.zeros(bias.shape) for bias in self.biases]\n",
    "        weight_gradient = [np.zeros(weight.shape) for weight in self.weights]\n",
    "        #forprop\n",
    "        activation = feature\n",
    "        activations = [feature] # list to store all the activations\n",
    "        weighted_inputs = []\n",
    "        for bias, weight in zip(self.biases[:-1], self.weights[:-1]):\n",
    "            weighted_input = np.dot(weight, activation.reshape(-1,1)) + bias\n",
    "            activation = self.sigmoid(weighted_input)\n",
    "            weighted_inputs.append(weighted_input)\n",
    "            activations.append(activation)\n",
    "        # The output layer uses different activation functions\n",
    "        bias, weight = self.biases[-1], self.weights[-1]\n",
    "        weighted_input = np.dot(weight, activation.reshape(-1,1)) + bias\n",
    "        #weighted_input = np.dot(weight, activation)\n",
    "        activation = weighted_input\n",
    "        if self.prediction_type == \"classification\":\n",
    "            activation = self.softmax(weighted_input)\n",
    "        weighted_inputs.append(weighted_input)\n",
    "        activations.append(activation)\n",
    "\n",
    "    \n",
    "\n",
    "\n",
    "        # backprop\n",
    "       \n",
    "        if self.prediction_type == \"classification\":\n",
    "            one_hot_label = [0] * self.class_count\n",
    "            one_hot_label[int(label)] = 1\n",
    "            one_hot_label = np.array(one_hot_label).reshape(-1, 1)\n",
    "        else:\n",
    "            one_hot_label = label       \n",
    "        delta = (activations[-1] - one_hot_label) # * self.softmax(weighted_inputs[-1])\n",
    "        bias_gradient[-1] = delta\n",
    "        \n",
    "        weight_gradient[-1] = np.dot(delta, activations[-2].reshape(1,-1))\n",
    "\n",
    "        for layer_idx in range(2, len(self.network_shape)):\n",
    "            weighted_input = weighted_inputs[-layer_idx]\n",
    "            activation_prime = self.sigmoid_prime(weighted_input)\n",
    "            delta = np.dot(self.weights[-layer_idx+1].transpose(), delta) * activation_prime\n",
    "            \n",
    "            if delta.shape == (1,1):\n",
    "                bias_gradient[-layer_idx] = delta.reshape(-1)\n",
    "                weight_gradient[-layer_idx] = (delta.reshape(-1) * activations[-layer_idx-1].transpose())\n",
    "            else:\n",
    "                bias_gradient[-layer_idx] = delta\n",
    "                weight_gradient[-layer_idx] = np.dot(delta, activations[-layer_idx-1].reshape(1,-1))       \n",
    "        return (bias_gradient, weight_gradient)\n",
    "    def tune(self):\n",
    "        '''\n",
    "        The method should test the hyperparameter values below and return the combination of hyperparameters\n",
    "        that result in the best performance for the algorithm.\n",
    "        '''\n",
    "        hidden_node_vals = [1, 3, 5, 7, 9]\n",
    "        epoch_vals = [10, 50, 100, 200, 500]\n",
    "        momentum_vals = [0.5, 0.7, 0.9, 0.95, 0.99]\n",
    "        learning_rate_vals = [0.0001, 0.001, 0.01, 0.1, 1.0]\n",
    "        batch_size_vals = [16, 32, 64, 128, 256]\n",
    "\n",
    "        hidden_node_scores = []\n",
    "        epoch_scores = []\n",
    "        momentum_scores = []\n",
    "        learning_rate_scores = []\n",
    "        batch_size_scores = []\n",
    "\n",
    "        # Hidden node Count Tuning\n",
    "        '''\n",
    "        If there is only one hidden layer try all five possible values and return the values that leads to best performance\n",
    "        If there are two hiddens layers complete a grid search with the five possible values and return the combination that performs the best\n",
    "        '''\n",
    "        if (self.hidden_layer_count > 0):       #skip if there are no hidden layers\n",
    "            hidden_node_combinations = list(itertools.product(hidden_node_vals, repeat=self.hidden_layer_count))\n",
    "            for combination in tqdm(hidden_node_combinations, desc=\"Tuning Hidden Node Count\", leave=False):\n",
    "                self.network_shape = [self.input_size] + (list(combination)) + ([self.class_count] if (self.prediction_type == \"classification\") else [1])\n",
    "                hidden_node_score = self.train_test(tuning_flag=True, epochs=self.epochs, momentum=self.momentum, learning_rate=self.learning_rate, batch_size=self.batch_size)\n",
    "                hidden_node_scores.append(np.mean(hidden_node_score))\n",
    "            hidden_node_scores = np.array(hidden_node_scores)\n",
    "            if self.prediction_type == \"classification\":\n",
    "                self.network_shape = [self.input_size] + (list(hidden_node_combinations[np.argmax(hidden_node_scores)])) + ([self.class_count] if (self.prediction_type == \"classification\") else [1])\n",
    "            else:\n",
    "                self.network_shape = [self.input_size] + (list(hidden_node_combinations[np.argmin(hidden_node_scores)])) + ([self.class_count] if (self.prediction_type == \"classification\") else [1])          \n",
    "            print(f\"Tuned Network Shape: {self.network_shape}\")\n",
    "\n",
    "        # Epoch tuning\n",
    "        #Test all five epoch values above and return the value that performs the best\n",
    "        for epochs in tqdm(epoch_vals, desc=\"Tuning Epochs\", leave=False):\n",
    "            epoch_score = self.train_test(tuning_flag=True, epochs=epochs, momentum=self.momentum, learning_rate=self.learning_rate, batch_size=self.batch_size)\n",
    "            epoch_scores.append(np.mean(epoch_score))\n",
    "        epoch_scores = np.array(epoch_scores)\n",
    "        if self.prediction_type == \"classification\":\n",
    "            self.epochs = epoch_vals[np.argmax(epoch_scores)]\n",
    "        else:\n",
    "            self.epochs = epoch_vals[np.argmin(epoch_scores)]\n",
    "        print(f\"Tuned Epoch Value: {self.epochs}\")\n",
    "\n",
    "        # Momentum Tuning\n",
    "        #Try all five momentum values and return the value that performs the best\n",
    "        for momentum in tqdm(momentum_vals, desc=\"Tuning Momentum\", leave=False):\n",
    "            momentum_score = self.train_test(tuning_flag=True, epochs=self.epochs, momentum=momentum, learning_rate=self.learning_rate, batch_size=self.batch_size)\n",
    "            momentum_scores.append(np.mean(momentum_score))\n",
    "        momentum_scores = np.array(momentum_scores)\n",
    "        if self.prediction_type == \"classification\":\n",
    "            self.momentum = momentum_vals[np.argmax(momentum_scores)]\n",
    "        else:\n",
    "            self.momentum = momentum_vals[np.argmin(momentum_scores)]\n",
    "        print(f\"Tuned Momentum Value: {self.momentum}\")\n",
    "\n",
    "        # Learning rate tuning\n",
    "        #Try all five learning rate values and return the value that performs the best\n",
    "        for learning_rate in tqdm(learning_rate_vals, desc=\"Tuning Learning Rate\", leave=False):\n",
    "            learning_rate_score = self.train_test(tuning_flag=True, epochs=self.epochs, momentum=self.momentum, learning_rate=learning_rate, batch_size=self.batch_size)\n",
    "            learning_rate_scores.append(np.mean(learning_rate_score))\n",
    "        learning_rate_scores = np.array(learning_rate_scores)\n",
    "        if self.prediction_type == \"classification\":\n",
    "            self.learning_rate = learning_rate_vals[np.argmax(learning_rate_scores)]\n",
    "        else:\n",
    "            self.learning_rate = learning_rate_vals[np.argmin(learning_rate_scores)]\n",
    "        print(f\"Tuned Learning Rate: {self.learning_rate}\")\n",
    "\n",
    "        # Batch size tuning\n",
    "        #Try all five momentum values and return the value that performs the best\n",
    "        for batch_size in tqdm(batch_size_vals, desc=\"Tuning Batch Size\", leave=False):\n",
    "            batch_size_score = self.train_test(tuning_flag=True, epochs=self.epochs, momentum=self.momentum, learning_rate=self.learning_rate, batch_size=batch_size)\n",
    "            batch_size_scores.append(np.mean(batch_size_score))\n",
    "        batch_size_scores = np.array(batch_size_scores)\n",
    "        if self.prediction_type == \"classification\":\n",
    "            self.batch_size = batch_size_vals[np.argmax(batch_size_scores)]\n",
    "        else:\n",
    "            self.batch_size = batch_size_vals[np.argmin(batch_size_scores)]\n",
    "        print(f\"Tuned Batch Size: {self.batch_size}\")\n",
    "\n",
    "        return [self.network_shape, self.epochs, self.momentum, self.learning_rate, self.batch_size]\n",
    "    def train_test(self, tuning_flag: bool, epochs=100, momentum=.9, learning_rate=.01, batch_size=10):\n",
    "        '''\n",
    "        This method should take in the hyperparameters determined during tuning. It should use those hyperparameter\n",
    "        values to train and test the model and return the calculated loss scores\n",
    "        '''\n",
    "        scores = []\n",
    "        if tuning_flag:\n",
    "            for i in range(10):\n",
    "                self.init_weights_biases_momentum()     \n",
    "                self.grad_desc(self.get_training_data(i), epochs, momentum, learning_rate, batch_size)\n",
    "                score = self.loss(self.get_tuning_data())\n",
    "                scores.append(score)\n",
    "        else:\n",
    "            for i in tqdm(range(10), desc=\"Evaluating Test Data\", leave=False):\n",
    "                self.init_weights_biases_momentum()\n",
    "                self.grad_desc(self.get_training_data(i), self.epochs, self.momentum, self.learning_rate, self.batch_size)\n",
    "                score = self.loss(self.get_testing_data(i))\n",
    "                scores.append(score)\n",
    "        return np.array(scores)\n",
    "    def loss(self, test_data):\n",
    "        '''\n",
    "        This method calculates the loss based on our evaluation metrics\n",
    "        For classification: 0/1 loss\n",
    "        For regression: Mean squared error\n",
    "        '''\n",
    "        if self.prediction_type == \"classification\":\n",
    "            results = [(np.argmax(self.for_prop(example)), label) for (example, label) in test_data if not np.isnan(label)]\n",
    "            correct_results = sum(int(example == label) for (example, label) in results)\n",
    "            total_examples = len(results)\n",
    "            return correct_results / total_examples\n",
    "        else:\n",
    "            results = [(self.for_prop(x), y) for (x, y) in test_data if not np.isnan(y)]\n",
    "            # Ensure predictions and labels are both 1D arrays of the same length\n",
    "            predictions = np.array([prediction.flatten()[0] if prediction.size == 1 else np.argmax(prediction) for (prediction, label) in results], dtype=float)\n",
    "            labels = np.array([label for (prediction, label) in results], dtype=float)\n",
    "\n",
    "            # Calculate MSE\n",
    "            mse = np.mean((predictions - labels) ** 2)\n",
    "            return mse\n",
    "    def sigmoid(self, input: np):       #used the logistic function as our activation\n",
    "        return 1.0/(1.0+np.exp(-input))\n",
    "    def sigmoid_prime(self, input: np): #derivative of the logistic function\n",
    "        return self.sigmoid(input)*(1-self.sigmoid(input))\n",
    "    def softmax(self, input):   #softmax for output activation during classification\n",
    "        exp = np.exp(input - np.max(input))\n",
    "        return exp / np.sum(exp)    "
   ]
  },
  {
   "cell_type": "code",
   "execution_count": null,
   "metadata": {},
   "outputs": [],
   "source": [
    "class DE_nn(backprop_nn):\n",
    "    def __init__(self, data: dataset, prediction_type_flag: str, network_shape: list, population_size=50, epochs=100, scaling_factor=0.7, crossover_rate=0.7):\n",
    "        self.epochs = epochs\n",
    "        self.pop_size = population_size\n",
    "        self.f = scaling_factor\n",
    "        self.cr = crossover_rate\n",
    "        self.tune_set = data.tune_set\n",
    "        self.validate_set = data.validate_set\n",
    "        self.prediction_type = prediction_type_flag\n",
    "\n",
    "        if self.prediction_type == \"classification\":\n",
    "            self.class_count = len(np.unique(self.tune_set[:,-1]))\n",
    "        else:\n",
    "            self.class_count = 0\n",
    "            \n",
    "        input_size = self.tune_set.shape[1] - 1\n",
    "        self.input_size = input_size\n",
    "        self.network_shape = network_shape\n",
    "        self.population = []\n",
    "        self.model = ()\n",
    "    def init_population(self, pop_size):\n",
    "        '''\n",
    "        Initializes a population of weights and biases\n",
    "        '''\n",
    "        self.population = []\n",
    "        for i in range(pop_size):\n",
    "            biases = [np.random.randn(next_size, 1) for next_size in self.network_shape[1:]]\n",
    "            weights = [np.random.randn(next_size, cur_size) for cur_size, next_size in zip(self.network_shape[:-1], self.network_shape[1:])]\n",
    "            self.population.append((weights,biases))\n",
    "    def donor_vector(self, f):\n",
    "        # Step 1: Select 3 candidates\n",
    "        candidates = random.sample(self.population,3)\n",
    "        # Step 2: For each candidate, mutate the weights and biases\n",
    "        weights_1, biases_1 = candidates[0]\n",
    "        weights_2, biases_2 = candidates[1]\n",
    "        weights_3, biases_3 = candidates[2]\n",
    "        new_weights = []\n",
    "        new_biases = []\n",
    "\n",
    "        for w1, w2, w3 in zip(weights_1, weights_2, weights_3):\n",
    "            new_weight = w1 + f * (w2 - w3)\n",
    "            new_weights.append(new_weight)\n",
    "\n",
    "        # Apply the equation for each bias vector\n",
    "        for b1, b2, b3 in zip(biases_1, biases_2, biases_3):\n",
    "            new_bias = b1 + f * (b2 - b3)\n",
    "            new_biases.append(new_bias)\n",
    "\n",
    "        # Return the donor vector (weights, biases)\n",
    "        return (new_weights, new_biases)\n",
    "    def trial_vector(self, target_candidate, f, cr):\n",
    "        # Unpack target candidate and donor vector\n",
    "        target_weights, target_biases = target_candidate\n",
    "        donor_vector = self.donor_vector(f)\n",
    "        donor_weights, donor_biases = donor_vector\n",
    "\n",
    "        # Initialize lists to store trial weights and biases\n",
    "        trial_weights = []\n",
    "        trial_biases = []\n",
    "\n",
    "        # Apply crossover to weights\n",
    "        for target_weight, donor_weight in zip(target_weights, donor_weights):\n",
    "            # Perform element-wise crossover\n",
    "            mask = np.random.rand(*target_weight.shape) < cr\n",
    "            trial_weight = np.where(mask, donor_weight, target_weight)\n",
    "            trial_weights.append(trial_weight)\n",
    "\n",
    "        # Apply crossover to biases\n",
    "        for target_bias, donor_bias in zip(target_biases, donor_biases):\n",
    "            # Perform element-wise crossover\n",
    "            mask = np.random.rand(*target_bias.shape) < cr\n",
    "            trial_bias = np.where(mask, donor_bias, target_bias)\n",
    "            trial_biases.append(trial_bias)\n",
    "\n",
    "        # Return the trial vector (weights, biases)\n",
    "        return (trial_weights, trial_biases)\n",
    "    def evaluate_fitness(self, test_data, target, trial):\n",
    "        '''\n",
    "        Returns the best performing model between the target and trial\n",
    "        '''\n",
    "        target_fitness = self.loss(test_data, target)\n",
    "        trial_fitness = self.loss(test_data, trial)\n",
    "        if self.prediction_type == \"classification\":\n",
    "            if max(target_fitness, trial_fitness) == target_fitness:\n",
    "                return target\n",
    "            else:\n",
    "                return trial\n",
    "        else:\n",
    "            if min(target_fitness, trial_fitness) == target_fitness:\n",
    "                return target\n",
    "            else:\n",
    "                return trial\n",
    "    def for_prop(self, input: np, weights, biases):\n",
    "        '''\n",
    "        Feeds forward a single example through the network\n",
    "        '''\n",
    "        output = input\n",
    "        for bias, weight in zip(biases[:-1], weights[:-1]):\n",
    "            output = self.sigmoid(np.dot(weight, output) + bias)        #for each weight calculate the output of the activation function\n",
    "                \n",
    "        bias, weight = biases[-1], weights[-1]\n",
    "        #For regression, use a linear combination for output activation\n",
    "        #For classification, use a softmax output activation\n",
    "        output = (np.dot(weight, output) + bias)    \n",
    "        if self.prediction_type == \"classification\":\n",
    "            output = self.softmax(output)\n",
    "        return output\n",
    "    def loss(self, test_data, model):\n",
    "        '''\n",
    "        This method calculates the loss based on our evaluation metrics\n",
    "        For classification: 0/1 loss\n",
    "        For regression: Mean squared error\n",
    "        '''\n",
    "        weights, biases = model\n",
    "        if self.prediction_type == \"classification\":\n",
    "            results = [(np.argmax(self.for_prop(example, weights, biases)), label) for (example, label) in test_data if not np.isnan(label)]\n",
    "            correct_results = sum(int(example == label) for (example, label) in results)\n",
    "            total_examples = len(results)\n",
    "            return correct_results / total_examples\n",
    "        else:\n",
    "            results = [(self.for_prop(x, weights, biases), y) for (x, y) in test_data if not np.isnan(y)]\n",
    "            # Ensure predictions and labels are both 1D arrays of the same length\n",
    "            predictions = np.array([prediction.flatten()[0] if prediction.size == 1 else np.argmax(prediction) for (prediction, label) in results], dtype=float)\n",
    "            labels = np.array([label for (prediction, label) in results], dtype=float)\n",
    "\n",
    "            # Calculate MSE\n",
    "            mse = np.mean((predictions - labels) ** 2)\n",
    "            return mse\n",
    "    def best_candidate(self, test_data):\n",
    "        '''\n",
    "        Returns the best model among a population\n",
    "        '''\n",
    "        scores = []\n",
    "        for candidate in self.population:\n",
    "            scores.append(self.loss(test_data, candidate))\n",
    "        scores = np.array(scores)\n",
    "        if self.prediction_type == \"classification\":\n",
    "            return self.population[np.argmax(scores)]\n",
    "        else:\n",
    "            return self.population[np.argmin(scores)]\n",
    "    def evolve(self, test_data, epochs, f, cr):\n",
    "        '''\n",
    "        This method evolves the models in the population\n",
    "        '''\n",
    "        for i in range(epochs):\n",
    "            new_population = []\n",
    "            for candidate in self.population:\n",
    "                trial_vector = self.trial_vector(candidate, f, cr)\n",
    "                new_candidate = self.evaluate_fitness(test_data, candidate, trial_vector)\n",
    "                new_population.append(new_candidate)\n",
    "            self.population = new_population\n",
    "        self.model = self.best_candidate(test_data)\n",
    "    def train_test(self, tuning_flag: bool, pop_size=50, epochs=100, f=0.7, cr=0.7):\n",
    "        '''\n",
    "        This method should take in the hyperparameters determined during tuning. It should use those hyperparameter\n",
    "        values to train and test the model and return the calculated loss scores.\n",
    "        '''\n",
    "\n",
    "        # Define a function that encapsulates the work for each iteration\n",
    "        def train_single_model(i):\n",
    "            # Use self to access methods and attributes from the class\n",
    "            if tuning_flag:\n",
    "                self.init_population(pop_size)\n",
    "                self.evolve(self.get_training_data(i), epochs, f, cr)\n",
    "            else:\n",
    "                self.init_population(self.pop_size)\n",
    "                self.evolve(self.get_training_data(i), self.epochs, self.f, self.cr)\n",
    "            return self.loss(self.get_tuning_data() if tuning_flag else self.get_testing_data(i), self.model)\n",
    "\n",
    "        # Parallel execution using joblib\n",
    "        scores = Parallel(n_jobs=12)(\n",
    "            delayed(train_single_model)(i)\n",
    "            for i in tqdm(range(10), desc=\"Evaluating Models\", leave=False)\n",
    "        )\n",
    "        return np.array(scores)\n",
    "    \"\"\"\n",
    "    # OG train_test method\n",
    "    def train_test(self, tuning_flag: bool, pop_size=50, epochs=100, f=0.7, cr=0.7):\n",
    "        '''\n",
    "        This method should take in the hyperparameters determined during tuning. It should use those hyperparameter\n",
    "        values to train and test the model and return the calculated loss scores\n",
    "        '''\n",
    "        scores = []\n",
    "        if tuning_flag:\n",
    "            for i in range(10):\n",
    "                self.init_population(pop_size)     \n",
    "                self.evolve(self.get_training_data(i), epochs, f, cr)\n",
    "                score = self.loss(self.get_tuning_data(), self.model)\n",
    "                scores.append(score)\n",
    "        else:\n",
    "            for i in tqdm(range(10), desc=\"Evaluating Test Data\", leave=False):\n",
    "                self.init_population(self.pop_size)\n",
    "                self.evolve(self.get_training_data(i), self.epochs, self.f, self.cr)\n",
    "                score = self.loss(self.get_testing_data(i), self.model)\n",
    "                scores.append(score)\n",
    "        return np.array(scores)\n",
    "    \"\"\"\n",
    "\n",
    "    def tune(self, tuning_pop_size=False, tuning_epochs=True, tuning_f=True, tuning_cr=True):\n",
    "        '''\n",
    "        Four parameters need to be tuned: Population size, epochs, scaling factor, crossover rate\n",
    "        '''\n",
    "        pop_size_vals = [10, 50, 100, 200]\n",
    "        epoch_vals = [10, 50, 100, 200, 500]\n",
    "        f_vals = [0.4, 0.5, 0.7, 0.9, 1.0]\n",
    "        cr_vals = [0.1, 0.3, 0.5, 0.7, 0.9]\n",
    "\n",
    "        pop_size_scores = []\n",
    "        epoch_scores = []\n",
    "        f_scores = []\n",
    "        cr_scores = []\n",
    "\n",
    "        if tuning_pop_size:\n",
    "            # Population Size Tuning\n",
    "            #Try all four pop size values and return the value that performs the best\n",
    "            for pop_size in tqdm(pop_size_vals, desc=\"Tuning Population Size\", leave=False):\n",
    "                pop_size_score = self.train_test(tuning_flag=True, pop_size=pop_size, epochs=self.epochs, f=self.f, cr=self.cr)\n",
    "                pop_size_scores.append(np.mean(pop_size_score))\n",
    "            pop_size_scores = np.array(pop_size_scores)\n",
    "            if self.prediction_type == \"classification\":\n",
    "                self.pop_size = pop_size_vals[np.argmax(pop_size_scores)]\n",
    "            else:\n",
    "                self.pop_size = pop_size_vals[np.argmin(pop_size_scores)]\n",
    "            print(f\"Tuned Population Size: {self.pop_size}\")\n",
    "        \n",
    "        if tuning_epochs:\n",
    "            # Epoch Tuning\n",
    "            #Try all five epoch values and return the value that performs the best\n",
    "            for epoch in tqdm(epoch_vals, desc=\"Tuning Epochs\", leave=False):\n",
    "                epoch_score = self.train_test(tuning_flag=True, pop_size=self.pop_size, epochs=epoch, f=self.f, cr=self.cr)\n",
    "                epoch_scores.append(np.mean(epoch_score))\n",
    "            epoch_scores = np.array(epoch_scores)\n",
    "            if self.prediction_type == \"classification\":\n",
    "                self.epochs = epoch_vals[np.argmax(epoch_scores)]\n",
    "            else:\n",
    "                self.epochs = epoch_vals[np.argmin(epoch_scores)]\n",
    "            print(f\"Tuned Epoch Value: {self.epochs}\")\n",
    "\n",
    "        if tuning_f:\n",
    "            # Scaling Factor Tuning\n",
    "            #Try all five epoch values and return the value that performs the best\n",
    "            for f in tqdm(f_vals, desc=\"NEW Tuning Scaling Factor\", leave=False):\n",
    "                f_score = self.train_test(tuning_flag=True, pop_size=self.pop_size, epochs=self.epochs, f=f, cr=self.cr)\n",
    "                f_scores.append(np.mean(f_score))\n",
    "            f_scores = np.array(f_scores)\n",
    "            if self.prediction_type == \"classification\":\n",
    "                self.f = f_vals[np.argmax(f_scores)]\n",
    "            else:\n",
    "                self.f = f_vals[np.argmin(f_scores)]\n",
    "            print(f\"Tuned Scaling Factor: {self.f}\")\n",
    "\n",
    "        if tuning_cr:\n",
    "            # Crossover Rate Tuning\n",
    "            #Try all five epoch values and return the value that performs the best\n",
    "            for cr in tqdm(cr_vals, desc=\"Tuning Crossover Rate\", leave=False):\n",
    "                cr_score = self.train_test(tuning_flag=True, pop_size=self.pop_size, epochs=self.epochs, f=self.f, cr=cr)\n",
    "                cr_scores.append(np.mean(cr_score))\n",
    "            cr_scores = np.array(cr_scores)\n",
    "            if self.prediction_type == \"classification\":\n",
    "                self.cr = cr_vals[np.argmax(cr_scores)]\n",
    "            else:\n",
    "                self.cr = cr_vals[np.argmin(cr_scores)]\n",
    "            print(f\"Tuned Crossover Rate: {self.cr}\")\n",
    "\n",
    "\n",
    "        return [self.pop_size, self.epochs, self.f, self.cr]"
   ]
  },
  {
   "cell_type": "markdown",
   "metadata": {},
   "source": [
    "# Backpropogation NN Instantiation"
   ]
  },
  {
   "cell_type": "code",
   "execution_count": 4,
   "metadata": {},
   "outputs": [],
   "source": [
    "abalone_data, cancer_data, fire_data, glass_data, machine_data, soybean_data = process_all('carlthedog3', True)"
   ]
  },
  {
   "cell_type": "code",
   "execution_count": 5,
   "metadata": {},
   "outputs": [],
   "source": [
    "# Classification Sets\n",
    "cancer_back_0 = backprop_nn(cancer_data, \"classification\", hidden_layer_count=0, epochs=10,momentum=.5,learning_rate=.01,batch_size=16)\n",
    "cancer_back_1 = backprop_nn(cancer_data, \"classification\", hidden_layer_count=1, network_shape=[9,1,2],epochs=50,momentum=.7,learning_rate=.1,batch_size=16)\n",
    "cancer_back_2 = backprop_nn(cancer_data, \"classification\", hidden_layer_count=2, network_shape=[9,1,5,2],epochs=50,momentum=.9,learning_rate=.01,batch_size=16)\n",
    "\n",
    "glass_back_0 = backprop_nn(glass_data, \"classification\", hidden_layer_count=0, epochs=100,momentum=.5,learning_rate=.001,batch_size=16)\n",
    "glass_back_1 = backprop_nn(glass_data, \"classification\", hidden_layer_count=1, network_shape=[9,1,6],epochs=500,momentum=.95,learning_rate=.01,batch_size=32)\n",
    "glass_back_2 = backprop_nn(glass_data, \"classification\", hidden_layer_count=2, network_shape=[9,1,9,6],epochs=500,momentum=.95,learning_rate=.01,batch_size=32)\n",
    "\n",
    "soybean_back_0 = backprop_nn(soybean_data, \"classification\", hidden_layer_count=0, epochs=10,momentum=.99,learning_rate=.01,batch_size=16)\n",
    "soybean_back_1 = backprop_nn(soybean_data, \"classification\", hidden_layer_count=1, network_shape=[35,1,4],epochs=500,momentum=.99,learning_rate=.01,batch_size=16)\n",
    "soybean_back_2 = backprop_nn(soybean_data, \"classification\", hidden_layer_count=2, network_shape=[35,1,9,4],epochs=500,momentum=.95,learning_rate=.1,batch_size=256)\n",
    "\n",
    "\n",
    "# Regression Sets\n",
    "abalone_back_0 = backprop_nn(abalone_data, \"regression\", hidden_layer_count=0, epochs=200,momentum=.9,learning_rate=.01,batch_size=32)\n",
    "abalone_back_1 = backprop_nn(abalone_data, \"regression\", hidden_layer_count=1, network_shape=[8,1,1],epochs=500,momentum=.95,learning_rate=.01,batch_size=16)\n",
    "abalone_back_2 = backprop_nn(abalone_data, \"regression\", hidden_layer_count=2, network_shape=[8,1,9,1],epochs=500,momentum=.99,learning_rate=.001,batch_size=16)\n",
    "\n",
    "fire_back_0 = backprop_nn(fire_data, \"regression\", hidden_layer_count=0, epochs=200,momentum=.9,learning_rate=.01,batch_size=16)\n",
    "fire_back_1 = backprop_nn(fire_data, \"regression\", hidden_layer_count=1, network_shape=[12,1,1],epochs=200,momentum=.95,learning_rate=.01,batch_size=16)\n",
    "fire_back_2 = backprop_nn(fire_data, \"regression\", hidden_layer_count=2, network_shape=[12,1,1,1],epochs=500,momentum=.95,learning_rate=.001,batch_size=16)\n",
    "\n",
    "machine_back_0 = backprop_nn(machine_data, \"regression\", hidden_layer_count=0, epochs=500,momentum=.95,learning_rate=.01,batch_size=16)\n",
    "machine_back_1 = backprop_nn(machine_data, \"regression\", hidden_layer_count=1, network_shape=[9,1,1],epochs=500,momentum=.99,learning_rate=.01,batch_size=16)\n",
    "machine_back_2 = backprop_nn(machine_data, \"regression\", hidden_layer_count=2, network_shape=[9,1,7,1],epochs=500,momentum=.99,learning_rate=.01,batch_size=16)"
   ]
  },
  {
   "cell_type": "markdown",
   "metadata": {},
   "source": [
    "# Differential Evolution NN Instantiation"
   ]
  },
  {
   "cell_type": "code",
   "execution_count": null,
   "metadata": {},
   "outputs": [],
   "source": [
    "# def __init__(self, data: dataset, prediction_type_flag: str, network_shape: list, population_size=50, epochs=100, scaling_factor=0.7, crossover_rate=0.7):\n",
    "\n",
    "# Classification Sets\n",
    "cancer_DE_0 = DE_nn(cancer_data, \"classification\", network_shape=[9,2],epochs=200,scaling_factor=0.4,crossover_rate=0.9)\n",
    "cancer_DE_1 = DE_nn(cancer_data, \"classification\", network_shape=[9,1,2],epochs=10,scaling_factor=0.5,crossover_rate=0.7)\n",
    "cancer_DE_2 = DE_nn(cancer_data, \"classification\", network_shape=[9,1,5,2],epochs=200,scaling_factor=0.7,crossover_rate=0.9)\n",
    "\n",
    "glass_DE_0 = DE_nn(glass_data, \"classification\", network_shape=[9,6],epochs=100,scaling_factor=0.4,crossover_rate=0.5)\n",
    "glass_DE_1 = DE_nn(glass_data, \"classification\", network_shape=[9,1,6],epochs=500,scaling_factor=0.4,crossover_rate=0.1)\n",
    "glass_DE_2 = DE_nn(glass_data, \"classification\", network_shape=[9,1,9,6],epochs=500,scaling_factor=0.4,crossover_rate=0.9)\n",
    "\n",
    "soybean_DE_0 = DE_nn(soybean_data, \"classification\", network_shape=[35,4],epochs=500,scaling_factor=0.5,crossover_rate=0.3)\n",
    "soybean_DE_1 = DE_nn(soybean_data, \"classification\", network_shape=[35,1,4],epochs=200,scaling_factor=0.5,crossover_rate=0.7)\n",
    "soybean_DE_2 = DE_nn(soybean_data, \"classification\", network_shape=[35,1,9,4],epochs=500,scaling_factor=0.5,crossover_rate=0.5)\n",
    "\n",
    "\n",
    "# Regression Sets\n",
    "abalone_DE_0 = DE_nn(abalone_data, \"regression\", network_shape=[8,1],epochs=500,scaling_factor=0.4,crossover_rate=0.7)\n",
    "abalone_DE_1 = DE_nn(abalone_data, \"regression\", network_shape=[8,1,1],epochs=500,scaling_factor=0.5,crossover_rate=0.9)\n",
    "abalone_DE_2 = DE_nn(abalone_data, \"regression\", network_shape=[8,1,9,1],epochs=500,scaling_factor=0.4,crossover_rate=0.1)\n",
    "\n",
    "fire_DE_0 = DE_nn(fire_data, \"regression\", network_shape=[12,1],epochs=500,scaling_factor=0.4,crossover_rate=0.7)\n",
    "fire_DE_1 = DE_nn(fire_data, \"regression\", network_shape=[12,1,1],epochs=500,scaling_factor=0.7,crossover_rate=0.1)\n",
    "fire_DE_2 = DE_nn(fire_data, \"regression\", network_shape=[12,1,1,1],epochs=50,scaling_factor=1.0,crossover_rate=0.3)\n",
    "\n",
    "machine_DE_0 = DE_nn(machine_data, \"regression\", network_shape=[9,1],epochs=500,scaling_factor=0.7,crossover_rate=0.5)\n",
    "machine_DE_1 = DE_nn(machine_data, \"regression\", network_shape=[9,1,1],epochs=100,scaling_factor=0.4,crossover_rate=0.9)\n",
    "machine_DE_2 = DE_nn(machine_data, \"regression\", network_shape=[9,1,7,1],epochs=200,scaling_factor=0.4,crossover_rate=0.1)"
   ]
  },
  {
   "cell_type": "markdown",
   "metadata": {},
   "source": [
    "# Differential Evolution Testing"
   ]
  },
  {
   "cell_type": "markdown",
   "metadata": {},
   "source": [
    "## Abalone DE"
   ]
  },
  {
   "cell_type": "code",
   "execution_count": 7,
   "metadata": {},
   "outputs": [
    {
     "name": "stderr",
     "output_type": "stream",
     "text": [
      "                                                                \r"
     ]
    },
    {
     "name": "stdout",
     "output_type": "stream",
     "text": [
      "Tuned Epoch Value: 500\n"
     ]
    },
    {
     "name": "stderr",
     "output_type": "stream",
     "text": [
      "                                                                          \r"
     ]
    },
    {
     "name": "stdout",
     "output_type": "stream",
     "text": [
      "Tuned Scaling Factor: 0.4\n"
     ]
    },
    {
     "name": "stderr",
     "output_type": "stream",
     "text": [
      "                                                                          \r"
     ]
    },
    {
     "name": "stdout",
     "output_type": "stream",
     "text": [
      "Tuned Crossover Rate: 0.7\n"
     ]
    },
    {
     "name": "stderr",
     "output_type": "stream",
     "text": [
      "                                                                        "
     ]
    },
    {
     "name": "stdout",
     "output_type": "stream",
     "text": [
      "Average Performance: 0.0064088026981207104\n"
     ]
    },
    {
     "name": "stderr",
     "output_type": "stream",
     "text": [
      "\r"
     ]
    }
   ],
   "source": [
    "abalone_DE_0_parameters = abalone_DE_0.tune()\n",
    "abalone_DE_0_score = abalone_DE_0.train_test(tuning_flag=False)\n",
    "print(f\"Average Performance: {np.mean(abalone_DE_0_score)}\")"
   ]
  },
  {
   "cell_type": "code",
   "execution_count": 13,
   "metadata": {},
   "outputs": [
    {
     "name": "stderr",
     "output_type": "stream",
     "text": [
      "NEW Tuning Scaling Factor:  60%|██████    | 3/5 [1:57:36<1:19:05, 2372.69s/it]/tmp/ipykernel_853/59239577.py:300: RuntimeWarning: overflow encountered in exp\n",
      "/tmp/ipykernel_853/59239577.py:300: RuntimeWarning: overflow encountered in exp\n",
      "/tmp/ipykernel_853/59239577.py:300: RuntimeWarning: overflow encountered in exp\n",
      "/tmp/ipykernel_853/59239577.py:300: RuntimeWarning: overflow encountered in exp\n",
      "/tmp/ipykernel_853/59239577.py:300: RuntimeWarning: overflow encountered in exp\n",
      "/tmp/ipykernel_853/59239577.py:300: RuntimeWarning: overflow encountered in exp\n",
      "/tmp/ipykernel_853/59239577.py:300: RuntimeWarning: overflow encountered in exp\n",
      "/tmp/ipykernel_853/59239577.py:300: RuntimeWarning: overflow encountered in exp\n",
      "/tmp/ipykernel_853/59239577.py:300: RuntimeWarning: overflow encountered in exp\n",
      "NEW Tuning Scaling Factor:  80%|████████  | 4/5 [2:38:35<40:06, 2406.82s/it]  /tmp/ipykernel_853/59239577.py:300: RuntimeWarning: overflow encountered in exp\n",
      "/tmp/ipykernel_853/59239577.py:300: RuntimeWarning: overflow encountered in exp\n",
      "/tmp/ipykernel_853/59239577.py:300: RuntimeWarning: overflow encountered in exp\n",
      "/tmp/ipykernel_853/59239577.py:300: RuntimeWarning: overflow encountered in exp\n",
      "/tmp/ipykernel_853/59239577.py:300: RuntimeWarning: overflow encountered in exp\n",
      "/tmp/ipykernel_853/59239577.py:300: RuntimeWarning: overflow encountered in exp\n",
      "/tmp/ipykernel_853/59239577.py:300: RuntimeWarning: overflow encountered in exp\n",
      "/tmp/ipykernel_853/59239577.py:300: RuntimeWarning: overflow encountered in exp\n",
      "/tmp/ipykernel_853/59239577.py:300: RuntimeWarning: overflow encountered in exp\n",
      "/tmp/ipykernel_853/59239577.py:300: RuntimeWarning: overflow encountered in exp\n",
      "                                                                            \r"
     ]
    },
    {
     "name": "stdout",
     "output_type": "stream",
     "text": [
      "Tuned Scaling Factor: 0.5\n"
     ]
    },
    {
     "name": "stderr",
     "output_type": "stream",
     "text": [
      "                                                                          \r"
     ]
    },
    {
     "name": "stdout",
     "output_type": "stream",
     "text": [
      "Tuned Crossover Rate: 0.9\n"
     ]
    },
    {
     "name": "stderr",
     "output_type": "stream",
     "text": [
      "                                                         \r"
     ]
    },
    {
     "name": "stdout",
     "output_type": "stream",
     "text": [
      "Average Performance: 0.006183672587805037\n"
     ]
    }
   ],
   "source": [
    "abalone_DE_1_parameters = abalone_DE_1.tune(tuning_epochs=False)\n",
    "abalone_DE_1_score = abalone_DE_1.train_test(tuning_flag=False)\n",
    "print(f\"Average Performance: {np.mean(abalone_DE_1_score)}\")"
   ]
  },
  {
   "cell_type": "code",
   "execution_count": 14,
   "metadata": {},
   "outputs": [
    {
     "name": "stderr",
     "output_type": "stream",
     "text": [
      "                                                                \r"
     ]
    },
    {
     "name": "stdout",
     "output_type": "stream",
     "text": [
      "Tuned Epoch Value: 500\n"
     ]
    },
    {
     "name": "stderr",
     "output_type": "stream",
     "text": [
      "                                                                              \r"
     ]
    },
    {
     "name": "stdout",
     "output_type": "stream",
     "text": [
      "Tuned Scaling Factor: 0.4\n"
     ]
    },
    {
     "name": "stderr",
     "output_type": "stream",
     "text": [
      "                                                                          \r"
     ]
    },
    {
     "name": "stdout",
     "output_type": "stream",
     "text": [
      "Tuned Crossover Rate: 0.1\n"
     ]
    },
    {
     "name": "stderr",
     "output_type": "stream",
     "text": [
      "                                                         \r"
     ]
    },
    {
     "name": "stdout",
     "output_type": "stream",
     "text": [
      "Average Performance: 0.007746766114781947\n"
     ]
    }
   ],
   "source": [
    "abalone_DE_2_parameters = abalone_DE_2.tune()\n",
    "abalone_DE_2_score = abalone_DE_2.train_test(tuning_flag=False)\n",
    "print(f\"Average Performance: {np.mean(abalone_DE_2_score)}\")"
   ]
  },
  {
   "cell_type": "markdown",
   "metadata": {},
   "source": [
    "## Fire DE"
   ]
  },
  {
   "cell_type": "code",
   "execution_count": 15,
   "metadata": {},
   "outputs": [
    {
     "name": "stderr",
     "output_type": "stream",
     "text": [
      "                                                            \r"
     ]
    },
    {
     "name": "stdout",
     "output_type": "stream",
     "text": [
      "Tuned Epoch Value: 500\n"
     ]
    },
    {
     "name": "stderr",
     "output_type": "stream",
     "text": [
      "                                                                         \r"
     ]
    },
    {
     "name": "stdout",
     "output_type": "stream",
     "text": [
      "Tuned Scaling Factor: 0.4\n"
     ]
    },
    {
     "name": "stderr",
     "output_type": "stream",
     "text": [
      "                                                                     \r"
     ]
    },
    {
     "name": "stdout",
     "output_type": "stream",
     "text": [
      "Tuned Crossover Rate: 0.7\n"
     ]
    },
    {
     "name": "stderr",
     "output_type": "stream",
     "text": [
      "                                                         \r"
     ]
    },
    {
     "name": "stdout",
     "output_type": "stream",
     "text": [
      "Average Performance: 0.0036967120805693316\n"
     ]
    }
   ],
   "source": [
    "fire_DE_0_parameters = fire_DE_0.tune()\n",
    "fire_DE_0_score = fire_DE_0.train_test(tuning_flag=False)\n",
    "print(f\"Average Performance: {np.mean(fire_DE_0_score)}\")"
   ]
  },
  {
   "cell_type": "code",
   "execution_count": 16,
   "metadata": {},
   "outputs": [
    {
     "name": "stderr",
     "output_type": "stream",
     "text": [
      "Tuning Epochs:  40%|████      | 2/5 [00:37<01:02, 20.75s/it]/tmp/ipykernel_853/59239577.py:300: RuntimeWarning: overflow encountered in exp\n",
      "/tmp/ipykernel_853/59239577.py:300: RuntimeWarning: overflow encountered in exp\n",
      "/tmp/ipykernel_853/59239577.py:300: RuntimeWarning: overflow encountered in exp\n",
      "Tuning Epochs:  60%|██████    | 3/5 [01:38<01:18, 39.12s/it]/tmp/ipykernel_853/59239577.py:300: RuntimeWarning: overflow encountered in exp\n",
      "/tmp/ipykernel_853/59239577.py:300: RuntimeWarning: overflow encountered in exp\n",
      "/tmp/ipykernel_853/59239577.py:300: RuntimeWarning: overflow encountered in exp\n",
      "/tmp/ipykernel_853/59239577.py:300: RuntimeWarning: overflow encountered in exp\n",
      "Tuning Epochs:  80%|████████  | 4/5 [03:46<01:14, 74.46s/it]/tmp/ipykernel_853/59239577.py:300: RuntimeWarning: overflow encountered in exp\n",
      "/tmp/ipykernel_853/59239577.py:300: RuntimeWarning: overflow encountered in exp\n",
      "/tmp/ipykernel_853/59239577.py:300: RuntimeWarning: overflow encountered in exp\n",
      "/tmp/ipykernel_853/59239577.py:300: RuntimeWarning: overflow encountered in exp\n",
      "/tmp/ipykernel_853/59239577.py:300: RuntimeWarning: overflow encountered in exp\n",
      "/tmp/ipykernel_853/59239577.py:300: RuntimeWarning: overflow encountered in exp\n",
      "/tmp/ipykernel_853/59239577.py:300: RuntimeWarning: overflow encountered in exp\n",
      "/tmp/ipykernel_853/59239577.py:300: RuntimeWarning: overflow encountered in exp\n",
      "/tmp/ipykernel_853/59239577.py:300: RuntimeWarning: overflow encountered in exp\n",
      "/tmp/ipykernel_853/59239577.py:300: RuntimeWarning: overflow encountered in exp\n",
      "                                                             \r"
     ]
    },
    {
     "name": "stdout",
     "output_type": "stream",
     "text": [
      "Tuned Epoch Value: 500\n"
     ]
    },
    {
     "name": "stderr",
     "output_type": "stream",
     "text": [
      "NEW Tuning Scaling Factor:  40%|████      | 2/5 [09:58<14:54, 298.09s/it]/tmp/ipykernel_853/59239577.py:300: RuntimeWarning: overflow encountered in exp\n",
      "/tmp/ipykernel_853/59239577.py:300: RuntimeWarning: overflow encountered in exp\n",
      "/tmp/ipykernel_853/59239577.py:300: RuntimeWarning: overflow encountered in exp\n",
      "/tmp/ipykernel_853/59239577.py:300: RuntimeWarning: overflow encountered in exp\n",
      "/tmp/ipykernel_853/59239577.py:300: RuntimeWarning: overflow encountered in exp\n",
      "/tmp/ipykernel_853/59239577.py:300: RuntimeWarning: overflow encountered in exp\n",
      "/tmp/ipykernel_853/59239577.py:300: RuntimeWarning: overflow encountered in exp\n",
      "/tmp/ipykernel_853/59239577.py:300: RuntimeWarning: overflow encountered in exp\n",
      "/tmp/ipykernel_853/59239577.py:300: RuntimeWarning: overflow encountered in exp\n",
      "NEW Tuning Scaling Factor:  60%|██████    | 3/5 [14:54<09:53, 296.99s/it]/tmp/ipykernel_853/59239577.py:300: RuntimeWarning: overflow encountered in exp\n",
      "/tmp/ipykernel_853/59239577.py:300: RuntimeWarning: overflow encountered in exp\n",
      "/tmp/ipykernel_853/59239577.py:300: RuntimeWarning: overflow encountered in exp\n",
      "/tmp/ipykernel_853/59239577.py:300: RuntimeWarning: overflow encountered in exp\n",
      "/tmp/ipykernel_853/59239577.py:300: RuntimeWarning: overflow encountered in exp\n",
      "/tmp/ipykernel_853/59239577.py:300: RuntimeWarning: overflow encountered in exp\n",
      "/tmp/ipykernel_853/59239577.py:300: RuntimeWarning: overflow encountered in exp\n",
      "/tmp/ipykernel_853/59239577.py:300: RuntimeWarning: overflow encountered in exp\n",
      "/tmp/ipykernel_853/59239577.py:300: RuntimeWarning: overflow encountered in exp\n",
      "/tmp/ipykernel_853/59239577.py:300: RuntimeWarning: overflow encountered in exp\n",
      "NEW Tuning Scaling Factor:  80%|████████  | 4/5 [20:11<05:04, 304.69s/it]/tmp/ipykernel_853/59239577.py:300: RuntimeWarning: overflow encountered in exp\n",
      "/tmp/ipykernel_853/59239577.py:300: RuntimeWarning: overflow encountered in exp\n",
      "/tmp/ipykernel_853/59239577.py:300: RuntimeWarning: overflow encountered in exp\n",
      "/tmp/ipykernel_853/59239577.py:300: RuntimeWarning: overflow encountered in exp\n",
      "/tmp/ipykernel_853/59239577.py:300: RuntimeWarning: overflow encountered in exp\n",
      "/tmp/ipykernel_853/59239577.py:300: RuntimeWarning: overflow encountered in exp\n",
      "/tmp/ipykernel_853/59239577.py:300: RuntimeWarning: overflow encountered in exp\n",
      "/tmp/ipykernel_853/59239577.py:300: RuntimeWarning: overflow encountered in exp\n",
      "/tmp/ipykernel_853/59239577.py:300: RuntimeWarning: overflow encountered in exp\n",
      "/tmp/ipykernel_853/59239577.py:300: RuntimeWarning: overflow encountered in exp\n",
      "                                                                         \r"
     ]
    },
    {
     "name": "stdout",
     "output_type": "stream",
     "text": [
      "Tuned Scaling Factor: 0.7\n"
     ]
    },
    {
     "name": "stderr",
     "output_type": "stream",
     "text": [
      "Tuning Crossover Rate:  40%|████      | 2/5 [09:46<14:40, 293.61s/it]/tmp/ipykernel_853/59239577.py:300: RuntimeWarning: overflow encountered in exp\n",
      "Tuning Crossover Rate:  60%|██████    | 3/5 [14:39<09:46, 293.44s/it]/tmp/ipykernel_853/59239577.py:300: RuntimeWarning: overflow encountered in exp\n",
      "/tmp/ipykernel_853/59239577.py:300: RuntimeWarning: overflow encountered in exp\n",
      "/tmp/ipykernel_853/59239577.py:300: RuntimeWarning: overflow encountered in exp\n",
      "/tmp/ipykernel_853/59239577.py:300: RuntimeWarning: overflow encountered in exp\n",
      "/tmp/ipykernel_853/59239577.py:300: RuntimeWarning: overflow encountered in exp\n",
      "/tmp/ipykernel_853/59239577.py:300: RuntimeWarning: overflow encountered in exp\n",
      "/tmp/ipykernel_853/59239577.py:300: RuntimeWarning: overflow encountered in exp\n",
      "/tmp/ipykernel_853/59239577.py:300: RuntimeWarning: overflow encountered in exp\n",
      "Tuning Crossover Rate:  80%|████████  | 4/5 [19:33<04:53, 293.57s/it]/tmp/ipykernel_853/59239577.py:300: RuntimeWarning: overflow encountered in exp\n",
      "/tmp/ipykernel_853/59239577.py:300: RuntimeWarning: overflow encountered in exp\n",
      "/tmp/ipykernel_853/59239577.py:300: RuntimeWarning: overflow encountered in exp\n",
      "/tmp/ipykernel_853/59239577.py:300: RuntimeWarning: overflow encountered in exp\n",
      "/tmp/ipykernel_853/59239577.py:300: RuntimeWarning: overflow encountered in exp\n",
      "/tmp/ipykernel_853/59239577.py:300: RuntimeWarning: overflow encountered in exp\n",
      "/tmp/ipykernel_853/59239577.py:300: RuntimeWarning: overflow encountered in exp\n",
      "/tmp/ipykernel_853/59239577.py:300: RuntimeWarning: overflow encountered in exp\n",
      "/tmp/ipykernel_853/59239577.py:300: RuntimeWarning: overflow encountered in exp\n",
      "                                                                     \r"
     ]
    },
    {
     "name": "stdout",
     "output_type": "stream",
     "text": [
      "Tuned Crossover Rate: 0.1\n"
     ]
    },
    {
     "name": "stderr",
     "output_type": "stream",
     "text": [
      "                                                         \r"
     ]
    },
    {
     "name": "stdout",
     "output_type": "stream",
     "text": [
      "Average Performance: 0.0037167303789077642\n"
     ]
    }
   ],
   "source": [
    "fire_DE_1_parameters = fire_DE_1.tune()\n",
    "fire_DE_1_score = fire_DE_1.train_test(tuning_flag=False)\n",
    "print(f\"Average Performance: {np.mean(fire_DE_1_score)}\")"
   ]
  },
  {
   "cell_type": "code",
   "execution_count": 17,
   "metadata": {},
   "outputs": [
    {
     "name": "stderr",
     "output_type": "stream",
     "text": [
      "Tuning Epochs:  40%|████      | 2/5 [00:51<01:26, 28.88s/it]/tmp/ipykernel_853/59239577.py:300: RuntimeWarning: overflow encountered in exp\n",
      "Tuning Epochs:  60%|██████    | 3/5 [02:18<01:50, 55.18s/it]/tmp/ipykernel_853/59239577.py:300: RuntimeWarning: overflow encountered in exp\n",
      "/tmp/ipykernel_853/59239577.py:300: RuntimeWarning: overflow encountered in exp\n",
      "/tmp/ipykernel_853/59239577.py:300: RuntimeWarning: overflow encountered in exp\n",
      "/tmp/ipykernel_853/59239577.py:300: RuntimeWarning: overflow encountered in exp\n",
      "Tuning Epochs:  80%|████████  | 4/5 [05:11<01:41, 101.75s/it]/tmp/ipykernel_853/59239577.py:300: RuntimeWarning: overflow encountered in exp\n",
      "/tmp/ipykernel_853/59239577.py:300: RuntimeWarning: overflow encountered in exp\n",
      "/tmp/ipykernel_853/59239577.py:300: RuntimeWarning: overflow encountered in exp\n",
      "/tmp/ipykernel_853/59239577.py:300: RuntimeWarning: overflow encountered in exp\n",
      "/tmp/ipykernel_853/59239577.py:300: RuntimeWarning: overflow encountered in exp\n",
      "/tmp/ipykernel_853/59239577.py:300: RuntimeWarning: overflow encountered in exp\n",
      "/tmp/ipykernel_853/59239577.py:300: RuntimeWarning: overflow encountered in exp\n",
      "/tmp/ipykernel_853/59239577.py:300: RuntimeWarning: overflow encountered in exp\n",
      "/tmp/ipykernel_853/59239577.py:300: RuntimeWarning: overflow encountered in exp\n",
      "/tmp/ipykernel_853/59239577.py:300: RuntimeWarning: overflow encountered in exp\n",
      "                                                             \r"
     ]
    },
    {
     "name": "stdout",
     "output_type": "stream",
     "text": [
      "Tuned Epoch Value: 50\n"
     ]
    },
    {
     "name": "stderr",
     "output_type": "stream",
     "text": [
      "NEW Tuning Scaling Factor:  60%|██████    | 3/5 [02:09<01:26, 43.20s/it]/tmp/ipykernel_853/59239577.py:300: RuntimeWarning: overflow encountered in exp\n",
      "NEW Tuning Scaling Factor:  80%|████████  | 4/5 [02:53<00:43, 43.35s/it]/tmp/ipykernel_853/59239577.py:300: RuntimeWarning: overflow encountered in exp\n",
      "/tmp/ipykernel_853/59239577.py:300: RuntimeWarning: overflow encountered in exp\n",
      "                                                                        \r"
     ]
    },
    {
     "name": "stdout",
     "output_type": "stream",
     "text": [
      "Tuned Scaling Factor: 1.0\n"
     ]
    },
    {
     "name": "stderr",
     "output_type": "stream",
     "text": [
      "Tuning Crossover Rate:  60%|██████    | 3/5 [02:09<01:26, 43.11s/it]/tmp/ipykernel_853/59239577.py:300: RuntimeWarning: overflow encountered in exp\n",
      "Tuning Crossover Rate:  80%|████████  | 4/5 [02:52<00:43, 43.13s/it]/tmp/ipykernel_853/59239577.py:300: RuntimeWarning: overflow encountered in exp\n",
      "/tmp/ipykernel_853/59239577.py:300: RuntimeWarning: overflow encountered in exp\n",
      "/tmp/ipykernel_853/59239577.py:300: RuntimeWarning: overflow encountered in exp\n",
      "/tmp/ipykernel_853/59239577.py:300: RuntimeWarning: overflow encountered in exp\n",
      "/tmp/ipykernel_853/59239577.py:300: RuntimeWarning: overflow encountered in exp\n",
      "/tmp/ipykernel_853/59239577.py:300: RuntimeWarning: overflow encountered in exp\n",
      "/tmp/ipykernel_853/59239577.py:300: RuntimeWarning: overflow encountered in exp\n",
      "/tmp/ipykernel_853/59239577.py:300: RuntimeWarning: overflow encountered in exp\n",
      "                                                                    \r"
     ]
    },
    {
     "name": "stdout",
     "output_type": "stream",
     "text": [
      "Tuned Crossover Rate: 0.3\n"
     ]
    },
    {
     "name": "stderr",
     "output_type": "stream",
     "text": [
      "                                                         \r"
     ]
    },
    {
     "name": "stdout",
     "output_type": "stream",
     "text": [
      "Average Performance: 0.0037059855268463428\n"
     ]
    }
   ],
   "source": [
    "fire_DE_2_parameters = fire_DE_2.tune()\n",
    "fire_DE_2_score = fire_DE_2.train_test(tuning_flag=False)\n",
    "print(f\"Average Performance: {np.mean(fire_DE_2_score)}\")"
   ]
  },
  {
   "cell_type": "markdown",
   "metadata": {},
   "source": [
    "## Machine DE"
   ]
  },
  {
   "cell_type": "code",
   "execution_count": 18,
   "metadata": {},
   "outputs": [
    {
     "name": "stderr",
     "output_type": "stream",
     "text": [
      "                                                            \r"
     ]
    },
    {
     "name": "stdout",
     "output_type": "stream",
     "text": [
      "Tuned Epoch Value: 500\n"
     ]
    },
    {
     "name": "stderr",
     "output_type": "stream",
     "text": [
      "                                                                        \r"
     ]
    },
    {
     "name": "stdout",
     "output_type": "stream",
     "text": [
      "Tuned Scaling Factor: 0.7\n"
     ]
    },
    {
     "name": "stderr",
     "output_type": "stream",
     "text": [
      "                                                                    \r"
     ]
    },
    {
     "name": "stdout",
     "output_type": "stream",
     "text": [
      "Tuned Crossover Rate: 0.5\n"
     ]
    },
    {
     "name": "stderr",
     "output_type": "stream",
     "text": [
      "                                                         \r"
     ]
    },
    {
     "name": "stdout",
     "output_type": "stream",
     "text": [
      "Average Performance: 0.0009442728389034025\n"
     ]
    }
   ],
   "source": [
    "machine_DE_0_parameters = machine_DE_0.tune()\n",
    "machine_DE_0_score = machine_DE_0.train_test(tuning_flag=False)\n",
    "print(f\"Average Performance: {np.mean(machine_DE_0_score)}\")"
   ]
  },
  {
   "cell_type": "code",
   "execution_count": 19,
   "metadata": {},
   "outputs": [
    {
     "name": "stderr",
     "output_type": "stream",
     "text": [
      "                                                            \r"
     ]
    },
    {
     "name": "stdout",
     "output_type": "stream",
     "text": [
      "Tuned Epoch Value: 100\n"
     ]
    },
    {
     "name": "stderr",
     "output_type": "stream",
     "text": [
      "NEW Tuning Scaling Factor:  60%|██████    | 3/5 [01:16<00:50, 25.09s/it]/tmp/ipykernel_853/59239577.py:300: RuntimeWarning: overflow encountered in exp\n",
      "NEW Tuning Scaling Factor:  80%|████████  | 4/5 [01:40<00:24, 24.65s/it]/tmp/ipykernel_853/59239577.py:300: RuntimeWarning: overflow encountered in exp\n",
      "/tmp/ipykernel_853/59239577.py:300: RuntimeWarning: overflow encountered in exp\n",
      "/tmp/ipykernel_853/59239577.py:300: RuntimeWarning: overflow encountered in exp\n",
      "/tmp/ipykernel_853/59239577.py:300: RuntimeWarning: overflow encountered in exp\n",
      "                                                                        \r"
     ]
    },
    {
     "name": "stdout",
     "output_type": "stream",
     "text": [
      "Tuned Scaling Factor: 0.4\n"
     ]
    },
    {
     "name": "stderr",
     "output_type": "stream",
     "text": [
      "                                                                    \r"
     ]
    },
    {
     "name": "stdout",
     "output_type": "stream",
     "text": [
      "Tuned Crossover Rate: 0.9\n"
     ]
    },
    {
     "name": "stderr",
     "output_type": "stream",
     "text": [
      "                                                         \r"
     ]
    },
    {
     "name": "stdout",
     "output_type": "stream",
     "text": [
      "Average Performance: 0.0008145766843910395\n"
     ]
    }
   ],
   "source": [
    "machine_DE_1_parameters = machine_DE_1.tune()\n",
    "machine_DE_1_score = machine_DE_1.train_test(tuning_flag=False)\n",
    "print(f\"Average Performance: {np.mean(machine_DE_1_score)}\")"
   ]
  },
  {
   "cell_type": "code",
   "execution_count": 20,
   "metadata": {},
   "outputs": [
    {
     "name": "stderr",
     "output_type": "stream",
     "text": [
      "                                                            \r"
     ]
    },
    {
     "name": "stdout",
     "output_type": "stream",
     "text": [
      "Tuned Epoch Value: 200\n"
     ]
    },
    {
     "name": "stderr",
     "output_type": "stream",
     "text": [
      "                                                                        \r"
     ]
    },
    {
     "name": "stdout",
     "output_type": "stream",
     "text": [
      "Tuned Scaling Factor: 0.4\n"
     ]
    },
    {
     "name": "stderr",
     "output_type": "stream",
     "text": [
      "                                                                    \r"
     ]
    },
    {
     "name": "stdout",
     "output_type": "stream",
     "text": [
      "Tuned Crossover Rate: 0.1\n"
     ]
    },
    {
     "name": "stderr",
     "output_type": "stream",
     "text": [
      "                                                         \r"
     ]
    },
    {
     "name": "stdout",
     "output_type": "stream",
     "text": [
      "Average Performance: 0.0031193403381417793\n"
     ]
    }
   ],
   "source": [
    "machine_DE_2_parameters = machine_DE_2.tune()\n",
    "machine_DE_2_score = machine_DE_2.train_test(tuning_flag=False)\n",
    "print(f\"Average Performance: {np.mean(machine_DE_2_score)}\")"
   ]
  },
  {
   "cell_type": "markdown",
   "metadata": {},
   "source": [
    "## Cancer DE"
   ]
  },
  {
   "cell_type": "code",
   "execution_count": 21,
   "metadata": {},
   "outputs": [
    {
     "name": "stderr",
     "output_type": "stream",
     "text": [
      "                                                             \r"
     ]
    },
    {
     "name": "stdout",
     "output_type": "stream",
     "text": [
      "Tuned Epoch Value: 200\n"
     ]
    },
    {
     "name": "stderr",
     "output_type": "stream",
     "text": [
      "                                                                         \r"
     ]
    },
    {
     "name": "stdout",
     "output_type": "stream",
     "text": [
      "Tuned Scaling Factor: 0.4\n"
     ]
    },
    {
     "name": "stderr",
     "output_type": "stream",
     "text": [
      "                                                                     \r"
     ]
    },
    {
     "name": "stdout",
     "output_type": "stream",
     "text": [
      "Tuned Crossover Rate: 0.9\n"
     ]
    },
    {
     "name": "stderr",
     "output_type": "stream",
     "text": [
      "                                                         \r"
     ]
    },
    {
     "name": "stdout",
     "output_type": "stream",
     "text": [
      "Average Performance: 0.8490015360983103\n"
     ]
    }
   ],
   "source": [
    "cancer_DE_0_parameters = cancer_DE_0.tune()\n",
    "cancer_DE_0_score = cancer_DE_0.train_test(tuning_flag=False)\n",
    "print(f\"Average Performance: {np.mean(cancer_DE_0_score)}\")"
   ]
  },
  {
   "cell_type": "code",
   "execution_count": 22,
   "metadata": {},
   "outputs": [
    {
     "name": "stderr",
     "output_type": "stream",
     "text": [
      "Tuning Epochs:  40%|████      | 2/5 [01:29<02:29, 49.88s/it]/tmp/ipykernel_853/59239577.py:300: RuntimeWarning: overflow encountered in exp\n",
      "/tmp/ipykernel_853/59239577.py:300: RuntimeWarning: overflow encountered in exp\n",
      "/tmp/ipykernel_853/59239577.py:300: RuntimeWarning: overflow encountered in exp\n",
      "Tuning Epochs:  60%|██████    | 3/5 [04:00<03:12, 96.12s/it]/tmp/ipykernel_853/59239577.py:300: RuntimeWarning: overflow encountered in exp\n",
      "/tmp/ipykernel_853/59239577.py:300: RuntimeWarning: overflow encountered in exp\n",
      "/tmp/ipykernel_853/59239577.py:300: RuntimeWarning: overflow encountered in exp\n",
      "/tmp/ipykernel_853/59239577.py:300: RuntimeWarning: overflow encountered in exp\n",
      "/tmp/ipykernel_853/59239577.py:300: RuntimeWarning: overflow encountered in exp\n",
      "/tmp/ipykernel_853/59239577.py:300: RuntimeWarning: overflow encountered in exp\n",
      "/tmp/ipykernel_853/59239577.py:300: RuntimeWarning: overflow encountered in exp\n",
      "Tuning Epochs:  80%|████████  | 4/5 [09:23<03:05, 185.80s/it]/tmp/ipykernel_853/59239577.py:300: RuntimeWarning: overflow encountered in exp\n",
      "/tmp/ipykernel_853/59239577.py:300: RuntimeWarning: overflow encountered in exp\n",
      "/tmp/ipykernel_853/59239577.py:300: RuntimeWarning: overflow encountered in exp\n",
      "/tmp/ipykernel_853/59239577.py:300: RuntimeWarning: overflow encountered in exp\n",
      "                                                             \r"
     ]
    },
    {
     "name": "stdout",
     "output_type": "stream",
     "text": [
      "Tuned Epoch Value: 10\n"
     ]
    },
    {
     "name": "stderr",
     "output_type": "stream",
     "text": [
      "                                                                        \r"
     ]
    },
    {
     "name": "stdout",
     "output_type": "stream",
     "text": [
      "Tuned Scaling Factor: 0.5\n"
     ]
    },
    {
     "name": "stderr",
     "output_type": "stream",
     "text": [
      "                                                                    \r"
     ]
    },
    {
     "name": "stdout",
     "output_type": "stream",
     "text": [
      "Tuned Crossover Rate: 0.7\n"
     ]
    },
    {
     "name": "stderr",
     "output_type": "stream",
     "text": [
      "                                                         \r"
     ]
    },
    {
     "name": "stdout",
     "output_type": "stream",
     "text": [
      "Average Performance: 0.9634152585765487\n"
     ]
    }
   ],
   "source": [
    "cancer_DE_1_parameters = cancer_DE_1.tune()\n",
    "cancer_DE_1_score = cancer_DE_1.train_test(tuning_flag=False)\n",
    "print(f\"Average Performance: {np.mean(cancer_DE_1_score)}\")"
   ]
  },
  {
   "cell_type": "code",
   "execution_count": 23,
   "metadata": {},
   "outputs": [
    {
     "name": "stderr",
     "output_type": "stream",
     "text": [
      "Tuning Epochs:  60%|██████    | 3/5 [05:21<04:16, 128.39s/it]/tmp/ipykernel_853/59239577.py:300: RuntimeWarning: overflow encountered in exp\n",
      "Tuning Epochs:  80%|████████  | 4/5 [12:07<03:57, 237.67s/it]/tmp/ipykernel_853/59239577.py:300: RuntimeWarning: overflow encountered in exp\n",
      "/tmp/ipykernel_853/59239577.py:300: RuntimeWarning: overflow encountered in exp\n",
      "/tmp/ipykernel_853/59239577.py:300: RuntimeWarning: overflow encountered in exp\n",
      "/tmp/ipykernel_853/59239577.py:300: RuntimeWarning: overflow encountered in exp\n",
      "/tmp/ipykernel_853/59239577.py:300: RuntimeWarning: overflow encountered in exp\n",
      "                                                             \r"
     ]
    },
    {
     "name": "stdout",
     "output_type": "stream",
     "text": [
      "Tuned Epoch Value: 200\n"
     ]
    },
    {
     "name": "stderr",
     "output_type": "stream",
     "text": [
      "NEW Tuning Scaling Factor:  40%|████      | 2/5 [13:19<19:58, 399.64s/it]/tmp/ipykernel_853/59239577.py:300: RuntimeWarning: overflow encountered in exp\n",
      "/tmp/ipykernel_853/59239577.py:300: RuntimeWarning: overflow encountered in exp\n",
      "NEW Tuning Scaling Factor:  60%|██████    | 3/5 [20:04<13:24, 402.07s/it]/tmp/ipykernel_853/59239577.py:300: RuntimeWarning: overflow encountered in exp\n",
      "/tmp/ipykernel_853/59239577.py:300: RuntimeWarning: overflow encountered in exp\n",
      "/tmp/ipykernel_853/59239577.py:300: RuntimeWarning: overflow encountered in exp\n",
      "/tmp/ipykernel_853/59239577.py:300: RuntimeWarning: overflow encountered in exp\n",
      "/tmp/ipykernel_853/59239577.py:300: RuntimeWarning: overflow encountered in exp\n",
      "/tmp/ipykernel_853/59239577.py:300: RuntimeWarning: overflow encountered in exp\n",
      "/tmp/ipykernel_853/59239577.py:300: RuntimeWarning: overflow encountered in exp\n",
      "/tmp/ipykernel_853/59239577.py:300: RuntimeWarning: overflow encountered in exp\n",
      "/tmp/ipykernel_853/59239577.py:300: RuntimeWarning: overflow encountered in exp\n",
      "/tmp/ipykernel_853/59239577.py:300: RuntimeWarning: overflow encountered in exp\n",
      "NEW Tuning Scaling Factor:  80%|████████  | 4/5 [26:48<06:42, 402.95s/it]/tmp/ipykernel_853/59239577.py:300: RuntimeWarning: overflow encountered in exp\n",
      "/tmp/ipykernel_853/59239577.py:300: RuntimeWarning: overflow encountered in exp\n",
      "/tmp/ipykernel_853/59239577.py:300: RuntimeWarning: overflow encountered in exp\n",
      "/tmp/ipykernel_853/59239577.py:300: RuntimeWarning: overflow encountered in exp\n",
      "/tmp/ipykernel_853/59239577.py:300: RuntimeWarning: overflow encountered in exp\n",
      "/tmp/ipykernel_853/59239577.py:300: RuntimeWarning: overflow encountered in exp\n",
      "/tmp/ipykernel_853/59239577.py:300: RuntimeWarning: overflow encountered in exp\n",
      "/tmp/ipykernel_853/59239577.py:300: RuntimeWarning: overflow encountered in exp\n",
      "/tmp/ipykernel_853/59239577.py:300: RuntimeWarning: overflow encountered in exp\n",
      "/tmp/ipykernel_853/59239577.py:300: RuntimeWarning: overflow encountered in exp\n",
      "                                                                         \r"
     ]
    },
    {
     "name": "stdout",
     "output_type": "stream",
     "text": [
      "Tuned Scaling Factor: 0.7\n"
     ]
    },
    {
     "name": "stderr",
     "output_type": "stream",
     "text": [
      "Tuning Crossover Rate:  60%|██████    | 3/5 [18:29<12:09, 364.96s/it]/tmp/ipykernel_853/59239577.py:300: RuntimeWarning: overflow encountered in exp\n",
      "/tmp/ipykernel_853/59239577.py:300: RuntimeWarning: overflow encountered in exp\n",
      "Tuning Crossover Rate:  80%|████████  | 4/5 [24:15<05:57, 357.54s/it]/tmp/ipykernel_853/59239577.py:300: RuntimeWarning: overflow encountered in exp\n",
      "/tmp/ipykernel_853/59239577.py:300: RuntimeWarning: overflow encountered in exp\n",
      "/tmp/ipykernel_853/59239577.py:300: RuntimeWarning: overflow encountered in exp\n",
      "/tmp/ipykernel_853/59239577.py:300: RuntimeWarning: overflow encountered in exp\n",
      "/tmp/ipykernel_853/59239577.py:300: RuntimeWarning: overflow encountered in exp\n",
      "/tmp/ipykernel_853/59239577.py:300: RuntimeWarning: overflow encountered in exp\n",
      "                                                                     \r"
     ]
    },
    {
     "name": "stdout",
     "output_type": "stream",
     "text": [
      "Tuned Crossover Rate: 0.9\n"
     ]
    },
    {
     "name": "stderr",
     "output_type": "stream",
     "text": [
      "/tmp/ipykernel_853/59239577.py:300: RuntimeWarning: overflow encountered in exp\n",
      "/tmp/ipykernel_853/59239577.py:300: RuntimeWarning: overflow encountered in exp\n",
      "/tmp/ipykernel_853/59239577.py:300: RuntimeWarning: overflow encountered in exp\n",
      "/tmp/ipykernel_853/59239577.py:300: RuntimeWarning: overflow encountered in exp\n",
      "/tmp/ipykernel_853/59239577.py:300: RuntimeWarning: overflow encountered in exp\n",
      "/tmp/ipykernel_853/59239577.py:300: RuntimeWarning: overflow encountered in exp\n"
     ]
    },
    {
     "name": "stdout",
     "output_type": "stream",
     "text": [
      "Average Performance: 0.9666410650281618\n"
     ]
    }
   ],
   "source": [
    "cancer_DE_2_parameters = cancer_DE_2.tune()\n",
    "cancer_DE_2_score = cancer_DE_2.train_test(tuning_flag=False)\n",
    "print(f\"Average Performance: {np.mean(cancer_DE_2_score)}\")"
   ]
  },
  {
   "cell_type": "markdown",
   "metadata": {},
   "source": [
    "## Glass DE"
   ]
  },
  {
   "cell_type": "code",
   "execution_count": 24,
   "metadata": {},
   "outputs": [
    {
     "name": "stderr",
     "output_type": "stream",
     "text": [
      "                                                            \r"
     ]
    },
    {
     "name": "stdout",
     "output_type": "stream",
     "text": [
      "Tuned Epoch Value: 100\n"
     ]
    },
    {
     "name": "stderr",
     "output_type": "stream",
     "text": [
      "                                                                        \r"
     ]
    },
    {
     "name": "stdout",
     "output_type": "stream",
     "text": [
      "Tuned Scaling Factor: 0.4\n"
     ]
    },
    {
     "name": "stderr",
     "output_type": "stream",
     "text": [
      "                                                                    \r"
     ]
    },
    {
     "name": "stdout",
     "output_type": "stream",
     "text": [
      "Tuned Crossover Rate: 0.5\n"
     ]
    },
    {
     "name": "stderr",
     "output_type": "stream",
     "text": [
      "                                                         \r"
     ]
    },
    {
     "name": "stdout",
     "output_type": "stream",
     "text": [
      "Average Performance: 0.5884210526315788\n"
     ]
    }
   ],
   "source": [
    "glass_DE_0_parameters = glass_DE_0.tune()\n",
    "glass_DE_0_score = glass_DE_0.train_test(tuning_flag=False)\n",
    "print(f\"Average Performance: {np.mean(glass_DE_0_score)}\")"
   ]
  },
  {
   "cell_type": "code",
   "execution_count": 25,
   "metadata": {},
   "outputs": [
    {
     "name": "stderr",
     "output_type": "stream",
     "text": [
      "Tuning Epochs:  60%|██████    | 3/5 [01:25<01:08, 34.07s/it]/tmp/ipykernel_853/59239577.py:300: RuntimeWarning: overflow encountered in exp\n",
      "Tuning Epochs:  80%|████████  | 4/5 [03:06<01:00, 60.58s/it]/tmp/ipykernel_853/59239577.py:300: RuntimeWarning: overflow encountered in exp\n",
      "/tmp/ipykernel_853/59239577.py:300: RuntimeWarning: overflow encountered in exp\n",
      "/tmp/ipykernel_853/59239577.py:300: RuntimeWarning: overflow encountered in exp\n",
      "                                                             \r"
     ]
    },
    {
     "name": "stdout",
     "output_type": "stream",
     "text": [
      "Tuned Epoch Value: 500\n"
     ]
    },
    {
     "name": "stderr",
     "output_type": "stream",
     "text": [
      "NEW Tuning Scaling Factor:  40%|████      | 2/5 [08:27<12:40, 253.46s/it]/tmp/ipykernel_853/59239577.py:300: RuntimeWarning: overflow encountered in exp\n",
      "/tmp/ipykernel_853/59239577.py:300: RuntimeWarning: overflow encountered in exp\n",
      "/tmp/ipykernel_853/59239577.py:300: RuntimeWarning: overflow encountered in exp\n",
      "NEW Tuning Scaling Factor:  60%|██████    | 3/5 [12:41<08:27, 253.88s/it]/tmp/ipykernel_853/59239577.py:300: RuntimeWarning: overflow encountered in exp\n",
      "/tmp/ipykernel_853/59239577.py:300: RuntimeWarning: overflow encountered in exp\n",
      "/tmp/ipykernel_853/59239577.py:300: RuntimeWarning: overflow encountered in exp\n",
      "/tmp/ipykernel_853/59239577.py:300: RuntimeWarning: overflow encountered in exp\n",
      "/tmp/ipykernel_853/59239577.py:300: RuntimeWarning: overflow encountered in exp\n",
      "/tmp/ipykernel_853/59239577.py:300: RuntimeWarning: overflow encountered in exp\n",
      "/tmp/ipykernel_853/59239577.py:300: RuntimeWarning: overflow encountered in exp\n",
      "/tmp/ipykernel_853/59239577.py:300: RuntimeWarning: overflow encountered in exp\n",
      "NEW Tuning Scaling Factor:  80%|████████  | 4/5 [17:01<04:16, 256.09s/it]/tmp/ipykernel_853/59239577.py:300: RuntimeWarning: overflow encountered in exp\n",
      "/tmp/ipykernel_853/59239577.py:300: RuntimeWarning: overflow encountered in exp\n",
      "/tmp/ipykernel_853/59239577.py:300: RuntimeWarning: overflow encountered in exp\n",
      "/tmp/ipykernel_853/59239577.py:300: RuntimeWarning: overflow encountered in exp\n",
      "/tmp/ipykernel_853/59239577.py:300: RuntimeWarning: overflow encountered in exp\n",
      "/tmp/ipykernel_853/59239577.py:300: RuntimeWarning: overflow encountered in exp\n",
      "/tmp/ipykernel_853/59239577.py:300: RuntimeWarning: overflow encountered in exp\n",
      "/tmp/ipykernel_853/59239577.py:300: RuntimeWarning: overflow encountered in exp\n",
      "/tmp/ipykernel_853/59239577.py:300: RuntimeWarning: overflow encountered in exp\n",
      "/tmp/ipykernel_853/59239577.py:300: RuntimeWarning: overflow encountered in exp\n",
      "                                                                         \r"
     ]
    },
    {
     "name": "stdout",
     "output_type": "stream",
     "text": [
      "Tuned Scaling Factor: 0.4\n"
     ]
    },
    {
     "name": "stderr",
     "output_type": "stream",
     "text": [
      "                                                                     \r"
     ]
    },
    {
     "name": "stdout",
     "output_type": "stream",
     "text": [
      "Tuned Crossover Rate: 0.1\n"
     ]
    },
    {
     "name": "stderr",
     "output_type": "stream",
     "text": [
      "                                                         \r"
     ]
    },
    {
     "name": "stdout",
     "output_type": "stream",
     "text": [
      "Average Performance: 0.5557894736842105\n"
     ]
    }
   ],
   "source": [
    "glass_DE_1_parameters = glass_DE_1.tune()\n",
    "glass_DE_1_score = glass_DE_1.train_test(tuning_flag=False)\n",
    "print(f\"Average Performance: {np.mean(glass_DE_1_score)}\")"
   ]
  },
  {
   "cell_type": "code",
   "execution_count": 26,
   "metadata": {},
   "outputs": [
    {
     "name": "stderr",
     "output_type": "stream",
     "text": [
      "Tuning Epochs:  80%|████████  | 4/5 [04:00<01:18, 78.29s/it]/tmp/ipykernel_853/59239577.py:300: RuntimeWarning: overflow encountered in exp\n",
      "                                                             \r"
     ]
    },
    {
     "name": "stdout",
     "output_type": "stream",
     "text": [
      "Tuned Epoch Value: 500\n"
     ]
    },
    {
     "name": "stderr",
     "output_type": "stream",
     "text": [
      "NEW Tuning Scaling Factor:  40%|████      | 2/5 [11:28<17:17, 345.94s/it]/tmp/ipykernel_853/59239577.py:300: RuntimeWarning: overflow encountered in exp\n",
      "NEW Tuning Scaling Factor:  60%|██████    | 3/5 [17:02<11:20, 340.47s/it]/tmp/ipykernel_853/59239577.py:300: RuntimeWarning: overflow encountered in exp\n",
      "/tmp/ipykernel_853/59239577.py:300: RuntimeWarning: overflow encountered in exp\n",
      "/tmp/ipykernel_853/59239577.py:300: RuntimeWarning: overflow encountered in exp\n",
      "/tmp/ipykernel_853/59239577.py:300: RuntimeWarning: overflow encountered in exp\n",
      "/tmp/ipykernel_853/59239577.py:300: RuntimeWarning: overflow encountered in exp\n",
      "/tmp/ipykernel_853/59239577.py:300: RuntimeWarning: overflow encountered in exp\n",
      "/tmp/ipykernel_853/59239577.py:300: RuntimeWarning: overflow encountered in exp\n",
      "/tmp/ipykernel_853/59239577.py:300: RuntimeWarning: overflow encountered in exp\n",
      "/tmp/ipykernel_853/59239577.py:300: RuntimeWarning: overflow encountered in exp\n",
      "/tmp/ipykernel_853/59239577.py:300: RuntimeWarning: overflow encountered in exp\n",
      "NEW Tuning Scaling Factor:  80%|████████  | 4/5 [22:40<05:39, 339.60s/it]/tmp/ipykernel_853/59239577.py:300: RuntimeWarning: overflow encountered in exp\n",
      "/tmp/ipykernel_853/59239577.py:300: RuntimeWarning: overflow encountered in exp\n",
      "/tmp/ipykernel_853/59239577.py:300: RuntimeWarning: overflow encountered in exp\n",
      "/tmp/ipykernel_853/59239577.py:300: RuntimeWarning: overflow encountered in exp\n",
      "/tmp/ipykernel_853/59239577.py:300: RuntimeWarning: overflow encountered in exp\n",
      "/tmp/ipykernel_853/59239577.py:300: RuntimeWarning: overflow encountered in exp\n",
      "/tmp/ipykernel_853/59239577.py:300: RuntimeWarning: overflow encountered in exp\n",
      "/tmp/ipykernel_853/59239577.py:300: RuntimeWarning: overflow encountered in exp\n",
      "/tmp/ipykernel_853/59239577.py:300: RuntimeWarning: overflow encountered in exp\n",
      "/tmp/ipykernel_853/59239577.py:300: RuntimeWarning: overflow encountered in exp\n",
      "                                                                         \r"
     ]
    },
    {
     "name": "stdout",
     "output_type": "stream",
     "text": [
      "Tuned Scaling Factor: 0.4\n"
     ]
    },
    {
     "name": "stderr",
     "output_type": "stream",
     "text": [
      "                                                                     \r"
     ]
    },
    {
     "name": "stdout",
     "output_type": "stream",
     "text": [
      "Tuned Crossover Rate: 0.9\n"
     ]
    },
    {
     "name": "stderr",
     "output_type": "stream",
     "text": [
      "                                                         \r"
     ]
    },
    {
     "name": "stdout",
     "output_type": "stream",
     "text": [
      "Average Performance: 0.5671052631578948\n"
     ]
    }
   ],
   "source": [
    "glass_DE_2_parameters = glass_DE_2.tune()\n",
    "glass_DE_2_score = glass_DE_2.train_test(tuning_flag=False)\n",
    "print(f\"Average Performance: {np.mean(glass_DE_2_score)}\")"
   ]
  },
  {
   "cell_type": "markdown",
   "metadata": {},
   "source": [
    "## Soybean DE"
   ]
  },
  {
   "cell_type": "code",
   "execution_count": 27,
   "metadata": {},
   "outputs": [
    {
     "name": "stderr",
     "output_type": "stream",
     "text": [
      "                                                            \r"
     ]
    },
    {
     "name": "stdout",
     "output_type": "stream",
     "text": [
      "Tuned Epoch Value: 500\n"
     ]
    },
    {
     "name": "stderr",
     "output_type": "stream",
     "text": [
      "                                                                        \r"
     ]
    },
    {
     "name": "stdout",
     "output_type": "stream",
     "text": [
      "Tuned Scaling Factor: 0.5\n"
     ]
    },
    {
     "name": "stderr",
     "output_type": "stream",
     "text": [
      "                                                                    \r"
     ]
    },
    {
     "name": "stdout",
     "output_type": "stream",
     "text": [
      "Tuned Crossover Rate: 0.3\n"
     ]
    },
    {
     "name": "stderr",
     "output_type": "stream",
     "text": [
      "                                                         \r"
     ]
    },
    {
     "name": "stdout",
     "output_type": "stream",
     "text": [
      "Average Performance: 0.975\n"
     ]
    }
   ],
   "source": [
    "soybean_DE_0_parameters = soybean_DE_0.tune()\n",
    "soybean_DE_0_score = soybean_DE_0.train_test(tuning_flag=False)\n",
    "print(f\"Average Performance: {np.mean(soybean_DE_0_score)}\")"
   ]
  },
  {
   "cell_type": "code",
   "execution_count": 28,
   "metadata": {},
   "outputs": [
    {
     "name": "stderr",
     "output_type": "stream",
     "text": [
      "                                                            \r"
     ]
    },
    {
     "name": "stdout",
     "output_type": "stream",
     "text": [
      "Tuned Epoch Value: 200\n"
     ]
    },
    {
     "name": "stderr",
     "output_type": "stream",
     "text": [
      "NEW Tuning Scaling Factor:  60%|██████    | 3/5 [01:09<00:46, 23.28s/it]/tmp/ipykernel_853/59239577.py:300: RuntimeWarning: overflow encountered in exp\n",
      "/tmp/ipykernel_853/59239577.py:300: RuntimeWarning: overflow encountered in exp\n",
      "NEW Tuning Scaling Factor:  80%|████████  | 4/5 [01:33<00:23, 23.42s/it]/tmp/ipykernel_853/59239577.py:300: RuntimeWarning: overflow encountered in exp\n",
      "/tmp/ipykernel_853/59239577.py:300: RuntimeWarning: overflow encountered in exp\n",
      "/tmp/ipykernel_853/59239577.py:300: RuntimeWarning: overflow encountered in exp\n",
      "/tmp/ipykernel_853/59239577.py:300: RuntimeWarning: overflow encountered in exp\n",
      "/tmp/ipykernel_853/59239577.py:300: RuntimeWarning: overflow encountered in exp\n",
      "                                                                        \r"
     ]
    },
    {
     "name": "stdout",
     "output_type": "stream",
     "text": [
      "Tuned Scaling Factor: 0.5\n"
     ]
    },
    {
     "name": "stderr",
     "output_type": "stream",
     "text": [
      "                                                                    \r"
     ]
    },
    {
     "name": "stdout",
     "output_type": "stream",
     "text": [
      "Tuned Crossover Rate: 0.7\n"
     ]
    },
    {
     "name": "stderr",
     "output_type": "stream",
     "text": [
      "                                                         \r"
     ]
    },
    {
     "name": "stdout",
     "output_type": "stream",
     "text": [
      "Average Performance: 0.6849999999999999\n"
     ]
    }
   ],
   "source": [
    "soybean_DE_1_parameters = soybean_DE_1.tune()\n",
    "soybean_DE_1_score = soybean_DE_1.train_test(tuning_flag=False)\n",
    "print(f\"Average Performance: {np.mean(soybean_DE_1_score)}\")"
   ]
  },
  {
   "cell_type": "code",
   "execution_count": 29,
   "metadata": {},
   "outputs": [
    {
     "name": "stderr",
     "output_type": "stream",
     "text": [
      "                                                            \r"
     ]
    },
    {
     "name": "stdout",
     "output_type": "stream",
     "text": [
      "Tuned Epoch Value: 500\n"
     ]
    },
    {
     "name": "stderr",
     "output_type": "stream",
     "text": [
      "NEW Tuning Scaling Factor:  80%|████████  | 4/5 [04:49<01:12, 72.15s/it]/tmp/ipykernel_853/59239577.py:300: RuntimeWarning: overflow encountered in exp\n",
      "/tmp/ipykernel_853/59239577.py:300: RuntimeWarning: overflow encountered in exp\n",
      "/tmp/ipykernel_853/59239577.py:300: RuntimeWarning: overflow encountered in exp\n",
      "/tmp/ipykernel_853/59239577.py:300: RuntimeWarning: overflow encountered in exp\n",
      "                                                                        \r"
     ]
    },
    {
     "name": "stdout",
     "output_type": "stream",
     "text": [
      "Tuned Scaling Factor: 0.5\n"
     ]
    },
    {
     "name": "stderr",
     "output_type": "stream",
     "text": [
      "                                                                    \r"
     ]
    },
    {
     "name": "stdout",
     "output_type": "stream",
     "text": [
      "Tuned Crossover Rate: 0.5\n"
     ]
    },
    {
     "name": "stderr",
     "output_type": "stream",
     "text": [
      "                                                         \r"
     ]
    },
    {
     "name": "stdout",
     "output_type": "stream",
     "text": [
      "Average Performance: 0.595\n"
     ]
    }
   ],
   "source": [
    "soybean_DE_2_parameters = soybean_DE_2.tune()\n",
    "soybean_DE_2_score = soybean_DE_2.train_test(tuning_flag=False)\n",
    "print(f\"Average Performance: {np.mean(soybean_DE_2_score)}\")"
   ]
  },
  {
   "cell_type": "markdown",
   "metadata": {},
   "source": [
    "# Backpropogation Testing"
   ]
  },
  {
   "cell_type": "markdown",
   "metadata": {},
   "source": [
    "## Abalone Backpropogation"
   ]
  },
  {
   "cell_type": "code",
   "execution_count": null,
   "metadata": {},
   "outputs": [],
   "source": [
    "#abalone_net_0_parameters = abalone_net_0.tune()\n",
    "abalone_back_0_score = abalone_back_0.train_test(tuning_flag=False)\n",
    "print(f\"Average Performance: {np.mean(abalone_back_0_score)}\")"
   ]
  },
  {
   "cell_type": "code",
   "execution_count": null,
   "metadata": {},
   "outputs": [],
   "source": [
    "#abalone_net_1_parameters = abalone_net_1.tune()\n",
    "abalone_back_1_score = abalone_back_1.train_test(tuning_flag=False)\n",
    "print(f\"Average Performance: {np.mean(abalone_back_1_score)}\")"
   ]
  },
  {
   "cell_type": "code",
   "execution_count": null,
   "metadata": {},
   "outputs": [],
   "source": [
    "#abalone_net_2_parameters = abalone_net_2.tune()\n",
    "abalone_back_2_score = abalone_back_2.train_test(tuning_flag=False)\n",
    "print(f\"Average Performance: {np.mean(abalone_back_2_score)}\")"
   ]
  },
  {
   "cell_type": "markdown",
   "metadata": {},
   "source": [
    "## Fire Backpropogation"
   ]
  },
  {
   "cell_type": "code",
   "execution_count": null,
   "metadata": {},
   "outputs": [],
   "source": [
    "#fire_net_0_parameters = fire_net_0.tune()\n",
    "fire_back_0_score = fire_back_0.train_test(tuning_flag=False)\n",
    "print(f\"Average Performance: {np.mean(fire_back_0_score)}\")"
   ]
  },
  {
   "cell_type": "code",
   "execution_count": null,
   "metadata": {},
   "outputs": [],
   "source": [
    "#fire_net_1_parameters = fire_net_1.tune()\n",
    "fire_back_1_score = fire_back_1.train_test(tuning_flag=False)\n",
    "print(f\"Average Performance: {np.mean(fire_back_1_score)}\")"
   ]
  },
  {
   "cell_type": "code",
   "execution_count": null,
   "metadata": {},
   "outputs": [],
   "source": [
    "#fire_net_2_parameters = fire_net_2.tune()\n",
    "fire_back_2_score = fire_back_2.train_test(tuning_flag=False)\n",
    "print(f\"Average Performance: {np.mean(fire_back_2_score)}\")"
   ]
  },
  {
   "cell_type": "markdown",
   "metadata": {},
   "source": [
    "## Machine Backpropogation"
   ]
  },
  {
   "cell_type": "code",
   "execution_count": null,
   "metadata": {},
   "outputs": [],
   "source": [
    "#machine_net_0_parameters = machine_net_0.tune()\n",
    "machine_back_0_score = machine_back_0.train_test(tuning_flag=False)\n",
    "print(f\"Average Performance: {np.mean(machine_back_0_score)}\")"
   ]
  },
  {
   "cell_type": "code",
   "execution_count": null,
   "metadata": {},
   "outputs": [],
   "source": [
    "#machine_net_1_parameters = machine_net_1.tune()\n",
    "machine_back_1_score = machine_back_1.train_test(tuning_flag=False)\n",
    "print(f\"Average Performance: {np.mean(machine_back_1_score)}\")"
   ]
  },
  {
   "cell_type": "code",
   "execution_count": null,
   "metadata": {},
   "outputs": [],
   "source": [
    "#machine_net_2_parameters = machine_net_2.tune()\n",
    "machine_back_2_score = machine_back_2.train_test(tuning_flag=False)\n",
    "print(f\"Average Performance: {np.mean(machine_back_2_score)}\")"
   ]
  },
  {
   "cell_type": "markdown",
   "metadata": {},
   "source": [
    "## Cancer Backpropogation"
   ]
  },
  {
   "cell_type": "code",
   "execution_count": null,
   "metadata": {},
   "outputs": [],
   "source": [
    "#cancer_net_0_parameters = cancer_net_0.tune()\n",
    "cancer_back_0_score = cancer_back_0.train_test(tuning_flag=False)\n",
    "print(f\"Average Performance: {np.mean(cancer_back_0_score)}\")"
   ]
  },
  {
   "cell_type": "code",
   "execution_count": null,
   "metadata": {},
   "outputs": [],
   "source": [
    "#cancer_net_1_parameters = cancer_net_1.tune()\n",
    "cancer_back_1_score = cancer_back_1.train_test(tuning_flag=False)\n",
    "print(f\"Average Performance: {np.mean(cancer_back_1_score)}\")"
   ]
  },
  {
   "cell_type": "code",
   "execution_count": null,
   "metadata": {},
   "outputs": [],
   "source": [
    "#cancer_net_2_parameters = cancer_net_2.tune()\n",
    "cancer_back_2_score = cancer_back_2.train_test(tuning_flag=False)\n",
    "print(f\"Average Performance: {np.mean(cancer_back_2_score)}\")"
   ]
  },
  {
   "cell_type": "markdown",
   "metadata": {},
   "source": [
    "## Glass Backpropogation"
   ]
  },
  {
   "cell_type": "code",
   "execution_count": null,
   "metadata": {},
   "outputs": [],
   "source": [
    "#glass_net_0_parameters = glass_net_0.tune()\n",
    "glass_back_0_score = glass_back_0.train_test(tuning_flag=False)\n",
    "print(f\"Average Performance: {np.mean(glass_back_0_score)}\")"
   ]
  },
  {
   "cell_type": "code",
   "execution_count": null,
   "metadata": {},
   "outputs": [],
   "source": [
    "#glass_net_1_parameters = glass_net_1.tune()\n",
    "glass_back_1_score = glass_back_1.train_test(tuning_flag=False)\n",
    "print(f\"Average Performance: {np.mean(glass_back_1_score)}\")"
   ]
  },
  {
   "cell_type": "code",
   "execution_count": null,
   "metadata": {},
   "outputs": [],
   "source": [
    "#glass_net_2_parameters = glass_net_2.tune()\n",
    "glass_back_2_score = glass_back_2.train_test(tuning_flag=False)\n",
    "print(f\"Average Performance: {np.mean(glass_back_2_score)}\")"
   ]
  },
  {
   "cell_type": "markdown",
   "metadata": {},
   "source": [
    "## Soybean Backpropogation"
   ]
  },
  {
   "cell_type": "code",
   "execution_count": null,
   "metadata": {},
   "outputs": [],
   "source": [
    "#soybean_net_0_parameters = soybean_net_0.tune()\n",
    "soybean_back_0_score = soybean_back_0.train_test(tuning_flag=False)\n",
    "print(f\"Average Performance: {np.mean(soybean_back_0_score)}\")"
   ]
  },
  {
   "cell_type": "code",
   "execution_count": null,
   "metadata": {},
   "outputs": [],
   "source": [
    "#soybean_net_1_parameters = soybean_net_1.tune()\n",
    "soybean_back_1_score = soybean_back_1.train_test(tuning_flag=False)\n",
    "print(f\"Average Performance: {np.mean(soybean_back_1_score)}\")"
   ]
  },
  {
   "cell_type": "code",
   "execution_count": null,
   "metadata": {},
   "outputs": [],
   "source": [
    "#soybean_net_2_parameters = soybean_net_2.tune()\n",
    "soybean_back_2_score = soybean_back_2.train_test(tuning_flag=False)\n",
    "print(f\"Average Performance: {np.mean(soybean_back_2_score)}\")"
   ]
  },
  {
   "cell_type": "markdown",
   "metadata": {},
   "source": [
    "# Plotting Metrics"
   ]
  },
  {
   "cell_type": "code",
   "execution_count": 30,
   "metadata": {},
   "outputs": [
    {
     "data": {
      "image/png": "[encoded data removed]",
      "text/plain": [
       "<Figure size 600x500 with 1 Axes>"
      ]
     },
     "metadata": {},
     "output_type": "display_data"
    },
    {
     "data": {
      "image/png": "[encoded data removed]",
      "text/plain": [
       "<Figure size 600x500 with 1 Axes>"
      ]
     },
     "metadata": {},
     "output_type": "display_data"
    }
   ],
   "source": [
    "classification_arrays = [cancer_DE_0_score,cancer_DE_1_score,cancer_DE_2_score,\n",
    "                         glass_DE_0_score,glass_DE_1_score,glass_DE_2_score,\n",
    "                         soybean_DE_0_score,soybean_DE_1_score,soybean_DE_2_score]\n",
    "regression_arrays = [abalone_DE_0_score,abalone_DE_1_score,abalone_DE_2_score,\n",
    "                     fire_DE_0_score,fire_DE_1_score,fire_DE_2_score,\n",
    "                     machine_DE_0_score,machine_DE_1_score,machine_DE_2_score]\n",
    "arrays_to_save = []\n",
    "arrays_to_save.extend(classification_arrays)\n",
    "arrays_to_save.extend(regression_arrays)\n",
    "#print(arrays_to_save)\n",
    "save_arrays_to_csv(arrays_to_save, 'DE_Data.csv')\n",
    "loaded_arrays = load_arrays_from_csv('DE_Data.csv')\n",
    "#loaded_arrays[1] = cancer_1_score\n",
    "classification_arrays = loaded_arrays[:9]\n",
    "regression_arrays = loaded_arrays[9:]\n",
    "#loaded_arrays = classification_arrays\n",
    "#loaded_arrays.extend(regression_arrays)\n",
    "classification_dataset_names = ['Cancer', 'Glass', 'Soybean']\n",
    "regression_dataset_names = ['Abalone', 'Fire', 'Machine']\n",
    "\n",
    "make_plots_2(loaded_arrays, classification_dataset_names, regression_dataset_names, (6, 5), 0, '/home/carlthedog3/CSCI_447/Project_3/Code/Figures/')"
   ]
  },
  {
   "cell_type": "code",
   "execution_count": null,
   "metadata": {},
   "outputs": [],
   "source": [
    "'''\n",
    "#classification_arrays = [cancer_0_score,cancer_1_score,cancer_2_score,\n",
    "#                         glass_0_score,glass_1_score,glass_2_score,\n",
    "#                         soybean_0_score,soybean_1_score,soybean_2_score]\n",
    "#regression_arrays = [abalone_0_score,abalone_1_score,abalone_2_score,\n",
    "#                     fire_0_score,fire_1_score,fire_2_score,\n",
    "#                     machine_0_score,machine_1_score,machine_2_score]\n",
    "#arrays_to_save = []\n",
    "#arrays_to_save.extend(classification_arrays)\n",
    "#arrays_to_save.extend(regression_arrays)\n",
    "#print(arrays_to_save)\n",
    "#save_arrays_to_csv(arrays_to_save, 'results.csv')\n",
    "loaded_arrays = load_arrays_from_csv('results.csv')\n",
    "#loaded_arrays[1] = cancer_1_score\n",
    "classification_arrays = loaded_arrays[:9]\n",
    "regression_arrays = loaded_arrays[9:]\n",
    "#loaded_arrays = classification_arrays\n",
    "#loaded_arrays.extend(regression_arrays)\n",
    "classification_dataset_names = ['Cancer', 'Glass', 'Soybean']\n",
    "regression_dataset_names = ['Abalone', 'Fire', 'Machine']\n",
    "\n",
    "make_plots_2(loaded_arrays, classification_dataset_names, regression_dataset_names, (6, 5), 0, '/home/carlthedog3/CSCI_447/Project_3/Code/Figures/')\n",
    "'''"
   ]
  },
  {
   "cell_type": "code",
   "execution_count": null,
   "metadata": {},
   "outputs": [],
   "source": [
    "'''\n",
    "cancer_DE_1.init_population(100)\n",
    "print(f\"Population Set Datatype:\\n{type(cancer_DE_1.population)}\")\n",
    "print(f\"Weight Set Datatype:\\n{type(cancer_DE_1.population[0][0])}\")\n",
    "print(f\"Single Candidate:\\n{cancer_DE_1.population[0]}\")\n",
    "print(f\"Single Candidate's Weights:\\n{cancer_DE_1.population[0][0]}\")\n",
    "print(f\"Single Candidate's Biases:\\n{cancer_DE_1.population[0][1]}\")\n",
    "'''"
   ]
  }
 ],
 "metadata": {
  "kernelspec": {
   "display_name": "Python 3",
   "language": "python",
   "name": "python3"
  },
  "language_info": {
   "codemirror_mode": {
    "name": "ipython",
    "version": 3
   },
   "file_extension": ".py",
   "mimetype": "text/x-python",
   "name": "python",
   "nbconvert_exporter": "python",
   "pygments_lexer": "ipython3",
   "version": "3.10.12"
  }
 },
 "nbformat": 4,
 "nbformat_minor": 2
}
