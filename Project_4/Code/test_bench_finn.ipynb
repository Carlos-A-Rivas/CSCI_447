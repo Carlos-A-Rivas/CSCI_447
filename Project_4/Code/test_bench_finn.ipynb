{
 "cells": [
  {
   "cell_type": "code",
   "execution_count": 23,
   "metadata": {},
   "outputs": [],
   "source": [
    "import os\n",
    "import numpy as np\n",
    "import random\n",
    "import csv\n",
    "from tqdm import tqdm\n",
    "import matplotlib.pyplot as plt\n",
    "import itertools\n",
    "from dataset import dataset\n",
    "#from neural_network import neural_net\n",
    "from additional_functions import process_all\n",
    "from additional_functions import save_arrays_to_csv\n",
    "from additional_functions import load_arrays_from_csv\n",
    "from additional_functions import make_plots_2"
   ]
  },
  {
   "cell_type": "markdown",
   "metadata": {},
   "source": [
    "# Learning Algorithms"
   ]
  },
  {
   "cell_type": "code",
   "execution_count": 2,
   "metadata": {},
   "outputs": [],
   "source": [
    "class backprop_nn:\n",
    "    def __init__(self, data: dataset, prediction_type_flag: str, hidden_layer_count=0, network_shape=[], hidden_node_count=1, epochs=100, momentum=.9, learning_rate=.01, batch_size=10):\n",
    "        self.epochs = epochs\n",
    "        self.momentum = momentum\n",
    "        self.learning_rate = learning_rate\n",
    "        self.batch_size = batch_size\n",
    "        self.hidden_layer_count = hidden_layer_count\n",
    "        if hidden_layer_count == 0:\n",
    "            hidden_node_count = 0\n",
    "        else:\n",
    "            hidden_node_count = [hidden_node_count] * hidden_layer_count\n",
    "        self.tune_set = data.tune_set\n",
    "        self.validate_set = data.validate_set\n",
    "        self.prediction_type = prediction_type_flag\n",
    "\n",
    "        if self.prediction_type == \"classification\":\n",
    "            self.class_count = len(np.unique(self.tune_set[:,-1]))\n",
    "        else:\n",
    "            self.class_count = 0\n",
    "\n",
    "        input_size = self.tune_set.shape[1] - 1\n",
    "        self.input_size = input_size\n",
    "        if network_shape == []:\n",
    "            self.network_shape = [input_size] + (hidden_node_count if hidden_node_count else []) + ([self.class_count] if (self.prediction_type == \"classification\") else [1])\n",
    "        else:\n",
    "            self.network_shape = network_shape\n",
    "        self.biases = []\n",
    "        self.weights = []\n",
    "        self.bias_velocity = []\n",
    "        self.weight_velocity = []\n",
    "    def init_weights_biases_momentum(self):\n",
    "        '''\n",
    "        Initializes weights randomly based on the network shape list\n",
    "        '''\n",
    "        self.biases = [np.random.randn(next_size, 1) for next_size in self.network_shape[1:]]\n",
    "        self.weights = [np.random.randn(next_size, cur_size) for cur_size, next_size in zip(self.network_shape[:-1], self.network_shape[1:])]\n",
    "        self.bias_velocity = [np.zeros(bias.shape) for bias in self.biases]\n",
    "        self.weight_velocity = [np.zeros(weight.shape) for weight in self.weights]\n",
    "    def for_prop(self, input: np):\n",
    "        '''\n",
    "        Feeds forward a single example through the network\n",
    "        '''\n",
    "        output = input\n",
    "        for bias, weight in zip(self.biases[:-1], self.weights[:-1]):\n",
    "            output = self.sigmoid(np.dot(weight, output) + bias)        #for each weight calculate the output of the activation function\n",
    "                \n",
    "        bias, weight = self.biases[-1], self.weights[-1]\n",
    "        #For regression, use a linear combination for output activation\n",
    "        #For classification, use a softmax output activation\n",
    "        output = (np.dot(weight, output) + bias)    \n",
    "        if self.prediction_type == \"classification\":\n",
    "            output = self.softmax(output)\n",
    "        return output\n",
    "    def get_training_data(self, i: int):\n",
    "        '''\n",
    "        method needs to take in training data and compile 9 of the 10 folds (not fold I) into an array\n",
    "        we then want to format the data as follows: each example = (attributes, label)\n",
    "        I is used to indicate which fold is the hold out fold\n",
    "        '''\n",
    "        desired_data = np.concatenate([self.validate_set[j] for j in range(10) if j != i])  #Get all folds other than fold I and compile into its own array\n",
    "        training_data = [(example[:-1], example[-1]) for example in desired_data]   #Format properly\n",
    "        return training_data\n",
    "    def get_testing_data(self, i: int):\n",
    "        '''\n",
    "        method needs to take in training data and compile 1 of the 10 folds (fold I) into an array\n",
    "        Then format the data as follows: each example = (attributes, label)\n",
    "        i is used to indicate which training set you want returned\n",
    "        '''\n",
    "        desired_data = self.validate_set[i]         #Get the test set\n",
    "        testing_data = [(example[:-1], example[-1]) for example in desired_data] #Format properly\n",
    "        return testing_data\n",
    "    def get_tuning_data(self):\n",
    "        '''\n",
    "        method needs to take in the tuning set and properly format it\n",
    "        Then format the data as follows: each example = (attributes, label)\n",
    "        i is used to indicate which training set you want returned\n",
    "        '''\n",
    "        desired_data = self.tune_set  #Get the tuning set\n",
    "        tuning_data = [(example[:-1], example[-1]) for example in desired_data] #Format properly\n",
    "        return tuning_data\n",
    "    def grad_desc(self, training_data, epochs, momentum, learning_rate, batch_size):\n",
    "        # ***THINK OF THIS METHOD AS TRAINING VIA BACKPROPOGATION*** #\n",
    "        '''\n",
    "        Takes in a traing set from get_training_data. The format is a list of tuples, where each tuple\n",
    "        represents an example. Within each tuple the first value is the feature vector and the second\n",
    "        value is the label.\n",
    "\n",
    "        We want to complete mini batch gradient descent\n",
    "\n",
    "        This method effectively trains the model\n",
    "        '''\n",
    "        example_count = len(training_data)\n",
    "        for epoch in range(epochs):\n",
    "            random.shuffle(training_data)\n",
    "            mini_batches = [training_data[k:k+batch_size] for k in range(0, example_count, batch_size)]         #Form the mini batches based on the batch size hyperparameters\n",
    "            for mini_batch in mini_batches:\n",
    "                self.update_weights(mini_batch, momentum, learning_rate)                                        #for each mini batch, update the weights\n",
    "    def update_weights(self, mini_batch, momentum, learning_rate):\n",
    "        '''\n",
    "        This method takes in a mini batch and the momentum and learning rate hyperparameters. It needs to compute the gradient\n",
    "        for the biases and the weights, use the gradients to calculate the velocities, and use the velocities to update the weights\n",
    "        and biases.\n",
    "        '''\n",
    "        bias_gradient = [np.zeros(bias.shape) for bias in self.biases]          #initialize an empty array to store the gradients\n",
    "        weight_gradient = [np.zeros(weight.shape) for weight in self.weights]\n",
    "\n",
    "        # Compute gradients for the mini-batch\n",
    "        for feature, label in mini_batch:           \n",
    "            if not np.isnan(label):\n",
    "                delta_bias_gradient, delta_weight_gradient = self.epoch(feature, label)\n",
    "                bias_gradient = [gradient + delta for gradient, delta in zip(bias_gradient, delta_bias_gradient)]\n",
    "                weight_gradient = [gradient + delta for gradient, delta in zip(weight_gradient, delta_weight_gradient)]\n",
    "        \n",
    "        # Update velocities and apply updates with momentum\n",
    "        self.bias_velocity = [momentum * velocity - (learning_rate / len(mini_batch)) * gradient for velocity, gradient in zip(self.bias_velocity, bias_gradient)]\n",
    "        self.weight_velocity = [momentum * velocity - (learning_rate / len(mini_batch)) * gradient for velocity, gradient in zip(self.weight_velocity, weight_gradient)]\n",
    "\n",
    "        # Update weights and biases\n",
    "        self.biases = [bias + velocity for bias, velocity in zip(self.biases, self.bias_velocity)]\n",
    "        self.weights = [bias + velocity for bias, velocity in zip(self.weights, self.weight_velocity)]\n",
    "    def epoch(self, feature, label):\n",
    "        '''\n",
    "        This method should complete one full cycle of forward propogation, loss calculation, calculate gradients based on loss\n",
    "        and back propogation to update weights. \n",
    "        '''\n",
    "        \n",
    "        bias_gradient = [np.zeros(bias.shape) for bias in self.biases]\n",
    "        weight_gradient = [np.zeros(weight.shape) for weight in self.weights]\n",
    "        #forprop\n",
    "        activation = feature\n",
    "        activations = [feature] # list to store all the activations\n",
    "        weighted_inputs = []\n",
    "        for bias, weight in zip(self.biases[:-1], self.weights[:-1]):\n",
    "            weighted_input = np.dot(weight, activation.reshape(-1,1)) + bias\n",
    "            activation = self.sigmoid(weighted_input)\n",
    "            weighted_inputs.append(weighted_input)\n",
    "            activations.append(activation)\n",
    "        # The output layer uses different activation functions\n",
    "        bias, weight = self.biases[-1], self.weights[-1]\n",
    "        weighted_input = np.dot(weight, activation.reshape(-1,1)) + bias\n",
    "        #weighted_input = np.dot(weight, activation)\n",
    "        activation = weighted_input\n",
    "        if self.prediction_type == \"classification\":\n",
    "            activation = self.softmax(weighted_input)\n",
    "        weighted_inputs.append(weighted_input)\n",
    "        activations.append(activation)\n",
    "\n",
    "    \n",
    "\n",
    "\n",
    "        # backprop\n",
    "       \n",
    "        if self.prediction_type == \"classification\":\n",
    "            one_hot_label = [0] * self.class_count\n",
    "            one_hot_label[int(label)] = 1\n",
    "            one_hot_label = np.array(one_hot_label).reshape(-1, 1)\n",
    "        else:\n",
    "            one_hot_label = label       \n",
    "        delta = (activations[-1] - one_hot_label) # * self.softmax(weighted_inputs[-1])\n",
    "        bias_gradient[-1] = delta\n",
    "        \n",
    "        weight_gradient[-1] = np.dot(delta, activations[-2].reshape(1,-1))\n",
    "\n",
    "        for layer_idx in range(2, len(self.network_shape)):\n",
    "            weighted_input = weighted_inputs[-layer_idx]\n",
    "            activation_prime = self.sigmoid_prime(weighted_input)\n",
    "            delta = np.dot(self.weights[-layer_idx+1].transpose(), delta) * activation_prime\n",
    "            \n",
    "            if delta.shape == (1,1):\n",
    "                bias_gradient[-layer_idx] = delta.reshape(-1)\n",
    "                weight_gradient[-layer_idx] = (delta.reshape(-1) * activations[-layer_idx-1].transpose())\n",
    "            else:\n",
    "                bias_gradient[-layer_idx] = delta\n",
    "                weight_gradient[-layer_idx] = np.dot(delta, activations[-layer_idx-1].reshape(1,-1))       \n",
    "        return (bias_gradient, weight_gradient)\n",
    "    def tune(self):\n",
    "        '''\n",
    "        The method should test the hyperparameter values below and return the combination of hyperparameters\n",
    "        that result in the best performance for the algorithm.\n",
    "        '''\n",
    "        hidden_node_vals = [1, 3, 5, 7, 9]\n",
    "        epoch_vals = [10, 50, 100, 200, 500]\n",
    "        momentum_vals = [0.5, 0.7, 0.9, 0.95, 0.99]\n",
    "        learning_rate_vals = [0.0001, 0.001, 0.01, 0.1, 1.0]\n",
    "        batch_size_vals = [16, 32, 64, 128, 256]\n",
    "\n",
    "        hidden_node_scores = []\n",
    "        epoch_scores = []\n",
    "        momentum_scores = []\n",
    "        learning_rate_scores = []\n",
    "        batch_size_scores = []\n",
    "\n",
    "        # Hidden node Count Tuning\n",
    "        '''\n",
    "        If there is only one hidden layer try all five possible values and return the values that leads to best performance\n",
    "        If there are two hiddens layers complete a grid search with the five possible values and return the combination that performs the best\n",
    "        '''\n",
    "        if (self.hidden_layer_count > 0):       #skip if there are no hidden layers\n",
    "            hidden_node_combinations = list(itertools.product(hidden_node_vals, repeat=self.hidden_layer_count))\n",
    "            for combination in tqdm(hidden_node_combinations, desc=\"Tuning Hidden Node Count\", leave=False):\n",
    "                self.network_shape = [self.input_size] + (list(combination)) + ([self.class_count] if (self.prediction_type == \"classification\") else [1])\n",
    "                hidden_node_score = self.train_test(tuning_flag=True, epochs=self.epochs, momentum=self.momentum, learning_rate=self.learning_rate, batch_size=self.batch_size)\n",
    "                hidden_node_scores.append(np.mean(hidden_node_score))\n",
    "            hidden_node_scores = np.array(hidden_node_scores)\n",
    "            if self.prediction_type == \"classification\":\n",
    "                self.network_shape = [self.input_size] + (list(hidden_node_combinations[np.argmax(hidden_node_scores)])) + ([self.class_count] if (self.prediction_type == \"classification\") else [1])\n",
    "            else:\n",
    "                self.network_shape = [self.input_size] + (list(hidden_node_combinations[np.argmin(hidden_node_scores)])) + ([self.class_count] if (self.prediction_type == \"classification\") else [1])          \n",
    "            print(f\"Tuned Network Shape: {self.network_shape}\")\n",
    "\n",
    "        # Epoch tuning\n",
    "        #Test all five epoch values above and return the value that performs the best\n",
    "        for epochs in tqdm(epoch_vals, desc=\"Tuning Epochs\", leave=False):\n",
    "            epoch_score = self.train_test(tuning_flag=True, epochs=epochs, momentum=self.momentum, learning_rate=self.learning_rate, batch_size=self.batch_size)\n",
    "            epoch_scores.append(np.mean(epoch_score))\n",
    "        epoch_scores = np.array(epoch_scores)\n",
    "        if self.prediction_type == \"classification\":\n",
    "            self.epochs = epoch_vals[np.argmax(epoch_scores)]\n",
    "        else:\n",
    "            self.epochs = epoch_vals[np.argmin(epoch_scores)]\n",
    "        print(f\"Tuned Epoch Value: {self.epochs}\")\n",
    "\n",
    "        # Momentum Tuning\n",
    "        #Try all five momentum values and return the value that performs the best\n",
    "        for momentum in tqdm(momentum_vals, desc=\"Tuning Momentum\", leave=False):\n",
    "            momentum_score = self.train_test(tuning_flag=True, epochs=self.epochs, momentum=momentum, learning_rate=self.learning_rate, batch_size=self.batch_size)\n",
    "            momentum_scores.append(np.mean(momentum_score))\n",
    "        momentum_scores = np.array(momentum_scores)\n",
    "        if self.prediction_type == \"classification\":\n",
    "            self.momentum = momentum_vals[np.argmax(momentum_scores)]\n",
    "        else:\n",
    "            self.momentum = momentum_vals[np.argmin(momentum_scores)]\n",
    "        print(f\"Tuned Momentum Value: {self.momentum}\")\n",
    "\n",
    "        # Learning rate tuning\n",
    "        #Try all five learning rate values and return the value that performs the best\n",
    "        for learning_rate in tqdm(learning_rate_vals, desc=\"Tuning Learning Rate\", leave=False):\n",
    "            learning_rate_score = self.train_test(tuning_flag=True, epochs=self.epochs, momentum=self.momentum, learning_rate=learning_rate, batch_size=self.batch_size)\n",
    "            learning_rate_scores.append(np.mean(learning_rate_score))\n",
    "        learning_rate_scores = np.array(learning_rate_scores)\n",
    "        if self.prediction_type == \"classification\":\n",
    "            self.learning_rate = learning_rate_vals[np.argmax(learning_rate_scores)]\n",
    "        else:\n",
    "            self.learning_rate = learning_rate_vals[np.argmin(learning_rate_scores)]\n",
    "        print(f\"Tuned Learning Rate: {self.learning_rate}\")\n",
    "\n",
    "        # Batch size tuning\n",
    "        #Try all five momentum values and return the value that performs the best\n",
    "        for batch_size in tqdm(batch_size_vals, desc=\"Tuning Batch Size\", leave=False):\n",
    "            batch_size_score = self.train_test(tuning_flag=True, epochs=self.epochs, momentum=self.momentum, learning_rate=self.learning_rate, batch_size=batch_size)\n",
    "            batch_size_scores.append(np.mean(batch_size_score))\n",
    "        batch_size_scores = np.array(batch_size_scores)\n",
    "        if self.prediction_type == \"classification\":\n",
    "            self.batch_size = batch_size_vals[np.argmax(batch_size_scores)]\n",
    "        else:\n",
    "            self.batch_size = batch_size_vals[np.argmin(batch_size_scores)]\n",
    "        print(f\"Tuned Batch Size: {self.batch_size}\")\n",
    "\n",
    "        return [self.network_shape, self.epochs, self.momentum, self.learning_rate, self.batch_size]\n",
    "    def train_test(self, tuning_flag: bool, epochs=100, momentum=.9, learning_rate=.01, batch_size=10):\n",
    "        '''\n",
    "        This method should take in the hyperparameters determined during tuning. It should use those hyperparameter\n",
    "        values to train and test the model and return the calculated loss scores\n",
    "        '''\n",
    "        scores = []\n",
    "        if tuning_flag:\n",
    "            for i in range(10):\n",
    "                self.init_weights_biases_momentum()     \n",
    "                self.grad_desc(self.get_training_data(i), epochs, momentum, learning_rate, batch_size)\n",
    "                score = self.loss(self.get_tuning_data())\n",
    "                scores.append(score)\n",
    "        else:\n",
    "            for i in tqdm(range(10), desc=\"Evaluating Test Data\", leave=False):\n",
    "                self.init_weights_biases_momentum()\n",
    "                self.grad_desc(self.get_training_data(i), self.epochs, self.momentum, self.learning_rate, self.batch_size)\n",
    "                score = self.loss(self.get_testing_data(i))\n",
    "                scores.append(score)\n",
    "        return np.array(scores)\n",
    "    def loss(self, test_data):\n",
    "        '''\n",
    "        This method calculates the loss based on our evaluation metrics\n",
    "        For classification: 0/1 loss\n",
    "        For regression: Mean squared error\n",
    "        '''\n",
    "        if self.prediction_type == \"classification\":\n",
    "            results = [(np.argmax(self.for_prop(example)), label) for (example, label) in test_data if not np.isnan(label)]\n",
    "            correct_results = sum(int(example == label) for (example, label) in results)\n",
    "            total_examples = len(results)\n",
    "            return correct_results / total_examples\n",
    "        else:\n",
    "            results = [(self.for_prop(x), y) for (x, y) in test_data if not np.isnan(y)]\n",
    "            # Ensure predictions and labels are both 1D arrays of the same length\n",
    "            predictions = np.array([prediction.flatten()[0] if prediction.size == 1 else np.argmax(prediction) for (prediction, label) in results], dtype=float)\n",
    "            labels = np.array([label for (prediction, label) in results], dtype=float)\n",
    "\n",
    "            # Calculate MSE\n",
    "            mse = np.mean((predictions - labels) ** 2)\n",
    "            return mse\n",
    "    def sigmoid(self, input: np):       #used the logistic function as our activation\n",
    "        return 1.0/(1.0+np.exp(-input))\n",
    "    def sigmoid_prime(self, input: np): #derivative of the logistic function\n",
    "        return self.sigmoid(input)*(1-self.sigmoid(input))\n",
    "    def softmax(self, input):   #softmax for output activation during classification\n",
    "        exp = np.exp(input - np.max(input))\n",
    "        return exp / np.sum(exp)    "
   ]
  },
  {
   "cell_type": "code",
   "execution_count": 3,
   "metadata": {},
   "outputs": [],
   "source": [
    "class DE_nn(backprop_nn):\n",
    "    def __init__(self, data: dataset, prediction_type_flag: str, network_shape: list, population_size=50, epochs=100, scaling_factor=0.7, crossover_rate=0.7):\n",
    "        self.epochs = epochs\n",
    "        self.pop_size = population_size\n",
    "        self.f = scaling_factor\n",
    "        self.cr = crossover_rate\n",
    "        self.tune_set = data.tune_set\n",
    "        self.validate_set = data.validate_set\n",
    "        self.prediction_type = prediction_type_flag\n",
    "\n",
    "        if self.prediction_type == \"classification\":\n",
    "            self.class_count = len(np.unique(self.tune_set[:,-1]))\n",
    "        else:\n",
    "            self.class_count = 0\n",
    "            \n",
    "        input_size = self.tune_set.shape[1] - 1\n",
    "        self.input_size = input_size\n",
    "        self.network_shape = network_shape\n",
    "        self.population = []\n",
    "        self.model = ()\n",
    "    def init_population(self, pop_size):\n",
    "        '''\n",
    "        Initializes a population of weights and biases\n",
    "        '''\n",
    "        self.population = []\n",
    "        for i in range(pop_size):\n",
    "            biases = [np.random.randn(next_size, 1) for next_size in self.network_shape[1:]]\n",
    "            weights = [np.random.randn(next_size, cur_size) for cur_size, next_size in zip(self.network_shape[:-1], self.network_shape[1:])]\n",
    "            self.population.append((weights,biases))\n",
    "    def donor_vector(self, f):\n",
    "        # Step 1: Select 3 candidates\n",
    "        candidates = random.sample(self.population,3)\n",
    "        # Step 2: For each candidate, mutate the weights and biases\n",
    "        weights_1, biases_1 = candidates[0]\n",
    "        weights_2, biases_2 = candidates[1]\n",
    "        weights_3, biases_3 = candidates[2]\n",
    "        new_weights = []\n",
    "        new_biases = []\n",
    "\n",
    "        for w1, w2, w3 in zip(weights_1, weights_2, weights_3):\n",
    "            new_weight = w1 + f * (w2 - w3)\n",
    "            new_weights.append(new_weight)\n",
    "\n",
    "        # Apply the equation for each bias vector\n",
    "        for b1, b2, b3 in zip(biases_1, biases_2, biases_3):\n",
    "            new_bias = b1 + f * (b2 - b3)\n",
    "            new_biases.append(new_bias)\n",
    "\n",
    "        # Return the donor vector (weights, biases)\n",
    "        return (new_weights, new_biases)\n",
    "    def trial_vector(self, target_candidate, f, cr):\n",
    "        # Unpack target candidate and donor vector\n",
    "        target_weights, target_biases = target_candidate\n",
    "        donor_vector = self.donor_vector(f)\n",
    "        donor_weights, donor_biases = donor_vector\n",
    "\n",
    "        # Initialize lists to store trial weights and biases\n",
    "        trial_weights = []\n",
    "        trial_biases = []\n",
    "\n",
    "        # Apply crossover to weights\n",
    "        for target_weight, donor_weight in zip(target_weights, donor_weights):\n",
    "            # Perform element-wise crossover\n",
    "            mask = np.random.rand(*target_weight.shape) < cr\n",
    "            trial_weight = np.where(mask, donor_weight, target_weight)\n",
    "            trial_weights.append(trial_weight)\n",
    "\n",
    "        # Apply crossover to biases\n",
    "        for target_bias, donor_bias in zip(target_biases, donor_biases):\n",
    "            # Perform element-wise crossover\n",
    "            mask = np.random.rand(*target_bias.shape) < cr\n",
    "            trial_bias = np.where(mask, donor_bias, target_bias)\n",
    "            trial_biases.append(trial_bias)\n",
    "\n",
    "        # Return the trial vector (weights, biases)\n",
    "        return (trial_weights, trial_biases)\n",
    "    def evaluate_fitness(self, test_data, target, trial):\n",
    "        '''\n",
    "        Returns the best performing model between the target and trial\n",
    "        '''\n",
    "        target_fitness = self.loss(test_data, target)\n",
    "        trial_fitness = self.loss(test_data, trial)\n",
    "        if self.prediction_type == \"classification\":\n",
    "            if max(target_fitness, trial_fitness) == target_fitness:\n",
    "                return target\n",
    "            else:\n",
    "                return trial\n",
    "        else:\n",
    "            if min(target_fitness, trial_fitness) == target_fitness:\n",
    "                return target\n",
    "            else:\n",
    "                return trial\n",
    "    def for_prop(self, input: np, weights, biases):\n",
    "        '''\n",
    "        Feeds forward a single example through the network\n",
    "        '''\n",
    "        output = input\n",
    "        for bias, weight in zip(biases[:-1], weights[:-1]):\n",
    "            output = self.sigmoid(np.dot(weight, output) + bias)        #for each weight calculate the output of the activation function\n",
    "                \n",
    "        bias, weight = biases[-1], weights[-1]\n",
    "        #For regression, use a linear combination for output activation\n",
    "        #For classification, use a softmax output activation\n",
    "        output = (np.dot(weight, output) + bias)    \n",
    "        if self.prediction_type == \"classification\":\n",
    "            output = self.softmax(output)\n",
    "        return output\n",
    "    def loss(self, test_data, model):\n",
    "        '''\n",
    "        This method calculates the loss based on our evaluation metrics\n",
    "        For classification: 0/1 loss\n",
    "        For regression: Mean squared error\n",
    "        '''\n",
    "        weights, biases = model\n",
    "        if self.prediction_type == \"classification\":\n",
    "            results = [(np.argmax(self.for_prop(example, weights, biases)), label) for (example, label) in test_data if not np.isnan(label)]\n",
    "            correct_results = sum(int(example == label) for (example, label) in results)\n",
    "            total_examples = len(results)\n",
    "            return correct_results / total_examples\n",
    "        else:\n",
    "            results = [(self.for_prop(x, weights, biases), y) for (x, y) in test_data if not np.isnan(y)]\n",
    "            # Ensure predictions and labels are both 1D arrays of the same length\n",
    "            predictions = np.array([prediction.flatten()[0] if prediction.size == 1 else np.argmax(prediction) for (prediction, label) in results], dtype=float)\n",
    "            labels = np.array([label for (prediction, label) in results], dtype=float)\n",
    "\n",
    "            # Calculate MSE\n",
    "            mse = np.mean((predictions - labels) ** 2)\n",
    "            return mse\n",
    "    def best_candidate(self, test_data):\n",
    "        '''\n",
    "        Returns the best model among a population\n",
    "        '''\n",
    "        scores = []\n",
    "        for candidate in self.population:\n",
    "            scores.append(self.loss(test_data, candidate))\n",
    "        scores = np.array(scores)\n",
    "        if self.prediction_type == \"classification\":\n",
    "            return self.population[np.argmax(scores)]\n",
    "        else:\n",
    "            return self.population[np.argmin(scores)]\n",
    "    def evolve(self, test_data, epochs, f, cr):\n",
    "        '''\n",
    "        This method evolves the models in the population\n",
    "        '''\n",
    "        for i in range(epochs):\n",
    "            new_population = []\n",
    "            for candidate in self.population:\n",
    "                trial_vector = self.trial_vector(candidate, f, cr)\n",
    "                new_candidate = self.evaluate_fitness(test_data, candidate, trial_vector)\n",
    "                new_population.append(new_candidate)\n",
    "            self.population = new_population\n",
    "        self.model = self.best_candidate(test_data)\n",
    "    def train_test(self, tuning_flag: bool, pop_size=50, epochs=100, f=0.7, cr=0.7):\n",
    "        '''\n",
    "        This method should take in the hyperparameters determined during tuning. It should use those hyperparameter\n",
    "        values to train and test the model and return the calculated loss scores\n",
    "        '''\n",
    "        scores = []\n",
    "        if tuning_flag:\n",
    "            for i in range(10):\n",
    "                self.init_population(pop_size)     \n",
    "                self.evolve(self.get_training_data(i), epochs, f, cr)\n",
    "                score = self.loss(self.get_tuning_data(), self.model)\n",
    "                scores.append(score)\n",
    "        else:\n",
    "            for i in tqdm(range(10), desc=\"Evaluating Test Data\", leave=False):\n",
    "                self.init_population(self.pop_size)\n",
    "                self.evolve(self.get_training_data(i), self.epochs, self.f, self.cr)\n",
    "                score = self.loss(self.get_testing_data(i), self.model)\n",
    "                scores.append(score)\n",
    "        return np.array(scores)\n",
    "    def tune(self):\n",
    "        '''\n",
    "        Four parameters need to be tuned: Population size, epochs, scaling factor, crossover rate\n",
    "        '''\n",
    "        pop_size_vals = [10, 50, 100, 200]\n",
    "        epoch_vals = [10, 50, 100, 200, 500]\n",
    "        f_vals = [0.4, 0.5, 0.7, 0.9, 1.0]\n",
    "        cr_vals = [0.1, 0.3, 0.5, 0.7, 0.9]\n",
    "\n",
    "        pop_size_scores = []\n",
    "        epoch_scores = []\n",
    "        f_scores = []\n",
    "        cr_scores = []\n",
    "\n",
    "        '''\n",
    "        # Population Size Tuning\n",
    "        #Try all four pop size values and return the value that performs the best\n",
    "        for pop_size in tqdm(pop_size_vals, desc=\"Tuning Population Size\", leave=False):\n",
    "            pop_size_score = self.train_test(tuning_flag=True, pop_size=pop_size, epochs=self.epochs, f=self.f, cr=self.cr)\n",
    "            pop_size_scores.append(np.mean(pop_size_score))\n",
    "        pop_size_scores = np.array(pop_size_scores)\n",
    "        if self.prediction_type == \"classification\":\n",
    "            self.pop_size = pop_size_vals[np.argmax(pop_size_scores)]\n",
    "        else:\n",
    "            self.pop_size = pop_size_vals[np.argmin(pop_size_scores)]\n",
    "        print(f\"Tuned Population Size: {self.pop_size}\")\n",
    "        '''\n",
    "\n",
    "        # Epoch Tuning\n",
    "        #Try all five epoch values and return the value that performs the best\n",
    "        for epoch in tqdm(epoch_vals, desc=\"Tuning Epochs\", leave=False):\n",
    "            epoch_score = self.train_test(tuning_flag=True, pop_size=self.pop_size, epochs=epoch, f=self.f, cr=self.cr)\n",
    "            epoch_scores.append(np.mean(epoch_score))\n",
    "        epoch_scores = np.array(epoch_scores)\n",
    "        if self.prediction_type == \"classification\":\n",
    "            self.epochs = epoch_vals[np.argmax(epoch_scores)]\n",
    "        else:\n",
    "            self.epochs = epoch_vals[np.argmin(epoch_scores)]\n",
    "        print(f\"Tuned Epoch Value: {self.epochs}\")\n",
    "\n",
    "        # Scaling Factor Tuning\n",
    "        #Try all five epoch values and return the value that performs the best\n",
    "        for f in tqdm(f_vals, desc=\"Tuning Scaling Factor\", leave=False):\n",
    "            f_score = self.train_test(tuning_flag=True, pop_size=self.pop_size, epochs=self.epochs, f=f, cr=self.cr)\n",
    "            f_scores.append(np.mean(f_score))\n",
    "        f_scores = np.array(f_scores)\n",
    "        if self.prediction_type == \"classification\":\n",
    "            self.f = f_vals[np.argmax(f_scores)]\n",
    "        else:\n",
    "            self.f = f_vals[np.argmin(f_scores)]\n",
    "        print(f\"Tuned Scaling Factor: {self.f}\")\n",
    "\n",
    "        # Crossover Rate Tuning\n",
    "        #Try all five epoch values and return the value that performs the best\n",
    "        for cr in tqdm(cr_vals, desc=\"Tuning Crossover Rate\", leave=False):\n",
    "            cr_score = self.train_test(tuning_flag=True, pop_size=self.pop_size, epochs=self.epochs, f=self.f, cr=cr)\n",
    "            cr_scores.append(np.mean(cr_score))\n",
    "        cr_scores = np.array(cr_scores)\n",
    "        if self.prediction_type == \"classification\":\n",
    "            self.cr = cr_vals[np.argmax(cr_scores)]\n",
    "        else:\n",
    "            self.cr = cr_vals[np.argmin(cr_scores)]\n",
    "        print(f\"Tuned Crossover Rate: {self.cr}\")\n",
    "\n",
    "\n",
    "\n",
    "\n",
    "        return [self.pop_size, self.epochs, self.f, self.cr]\n",
    "    '''\n",
    "    def for_prop(self, input: np):\n",
    "    def get_training_data(self, i: int):\n",
    "    def get_testing_data(self, i: int):\n",
    "    def get_tuning_data(self):\n",
    "    def train_test(self, tuning_flag: bool, epochs=100, momentum=.9, learning_rate=.01, batch_size=10):\n",
    "    def loss(self, test_data):\n",
    "    def sigmoid(self, input: np):       #used the logistic function as our activation\n",
    "    def sigmoid_prime(self, input: np): #derivative of the logistic function\n",
    "    def softmax(self, input):   #softmax for output activation during classification\n",
    "    '''"
   ]
  },
  {
   "cell_type": "code",
   "execution_count": null,
   "metadata": {},
   "outputs": [],
   "source": [
    "class PSO_nn:\n",
    "    def __init__(self, data: dataset, prediction_type_flag: str, network_shape: list, population_size=50, epochs=50, social_update_rate=0.5, cognitive_update_rate=0.5, inertia=1):\n",
    "        self.epochs = epochs\n",
    "        self.pop_size = population_size\n",
    "        self.c1 = cognitive_update_rate  # Cognitive update rate\n",
    "        self.c2 = social_update_rate     # Social update rate\n",
    "        self.w = inertia                 # Inertia weight\n",
    "        self.tune_set = data.tune_set\n",
    "        self.validate_set = data.validate_set\n",
    "        self.prediction_type = prediction_type_flag\n",
    "\n",
    "        if self.prediction_type == \"classification\":\n",
    "            self.class_count = len(np.unique(self.tune_set[:, -1]))\n",
    "        else:\n",
    "            self.class_count = 0\n",
    "\n",
    "        input_size = self.tune_set.shape[1] - 1\n",
    "        self.input_size = input_size\n",
    "        self.network_shape = network_shape\n",
    "        self.population = []\n",
    "        self.velocities = []\n",
    "        self.personal_best_positions = []\n",
    "        self.personal_best_scores = []\n",
    "        self.global_best_position = None\n",
    "        self.global_best_score = None\n",
    "        self.model = ()\n",
    "\n",
    "    def init_population(self):\n",
    "        '''\n",
    "        Initializes a population of particles with random weights and velocities.\n",
    "        '''\n",
    "        self.population = []\n",
    "        self.velocities = []\n",
    "        self.personal_best_positions = []\n",
    "        self.personal_best_scores = []\n",
    "\n",
    "        for i in range(self.pop_size):\n",
    "            biases = [np.random.randn(next_size, 1) for next_size in self.network_shape[1:]]\n",
    "            weights = [np.random.randn(next_size, cur_size) for cur_size, next_size in zip(self.network_shape[:-1], self.network_shape[1:])]\n",
    "            particle = (weights, biases)\n",
    "            self.population.append(particle)\n",
    "\n",
    "            # Initialize velocities \n",
    "            vel_biases = [np.zeros_like(bias) for bias in biases]\n",
    "            vel_weights = [np.zeros_like(weight) for weight in weights]\n",
    "            velocity = (vel_weights, vel_biases)\n",
    "            self.velocities.append(velocity)\n",
    "\n",
    "            # Initialize personal bests\n",
    "            self.personal_best_positions.append(particle)\n",
    "            score = self.loss(self.get_training_data(i % 10), particle)\n",
    "            self.personal_best_scores.append(score)\n",
    "\n",
    "        # Initialize global best\n",
    "        best_idx = np.argmin(self.personal_best_scores) if self.prediction_type != \"classification\" else np.argmax(self.personal_best_scores)\n",
    "        self.global_best_position = self.personal_best_positions[best_idx]\n",
    "        self.global_best_score = self.personal_best_scores[best_idx]\n",
    "\n",
    "    def update_velocity(self, idx):\n",
    "        '''\n",
    "        Updates the velocity of a particle based on inertia, cognitive update rate, and social update rate.\n",
    "        '''\n",
    "        particle = self.population[idx]\n",
    "        velocity = self.velocities[idx]\n",
    "        personal_best = self.personal_best_positions[idx]\n",
    "        global_best = self.global_best_position\n",
    "\n",
    "        new_vel_weights = []\n",
    "        new_vel_biases = []\n",
    "\n",
    "        for v_w, x_w, pbest_w, gbest_w in zip(velocity[0], particle[0], personal_best[0], global_best[0]):\n",
    "            r1 = np.random.rand(*x_w.shape)\n",
    "            r2 = np.random.rand(*x_w.shape)\n",
    "            cognitive_component = self.c1 * r1 * (pbest_w - x_w)\n",
    "            social_component = self.c2 * r2 * (gbest_w - x_w)\n",
    "            new_velocity_w = self.w * v_w + cognitive_component + social_component\n",
    "            new_vel_weights.append(new_velocity_w)\n",
    "\n",
    "        for v_b, x_b, pbest_b, gbest_b in zip(velocity[1], particle[1], personal_best[1], global_best[1]):\n",
    "            r1 = np.random.rand(*x_b.shape)\n",
    "            r2 = np.random.rand(*x_b.shape)\n",
    "            cognitive_component = self.c1 * r1 * (pbest_b - x_b)\n",
    "            social_component = self.c2 * r2 * (gbest_b - x_b)\n",
    "            new_velocity_b = self.w * v_b + cognitive_component + social_component\n",
    "            new_vel_biases.append(new_velocity_b)\n",
    "\n",
    "        velocity_limit = 3  #Limit max velocity\n",
    "        new_vel_weights = [np.clip(vw, -velocity_limit, velocity_limit) for vw in new_vel_weights]\n",
    "        new_vel_biases = [np.clip(vb, -velocity_limit, velocity_limit) for vb in new_vel_biases]\n",
    "\n",
    "        self.velocities[idx] = (new_vel_weights, new_vel_biases)\n",
    "\n",
    "    def update_position(self, idx):\n",
    "        '''\n",
    "        Updates the position of a particle\n",
    "        '''\n",
    "        particle = self.population[idx]\n",
    "        velocity = self.velocities[idx]\n",
    "\n",
    "        new_weights = []\n",
    "        new_biases = []\n",
    "\n",
    "        for x_w, v_w in zip(particle[0], velocity[0]):\n",
    "            new_w = x_w + v_w\n",
    "            new_weights.append(new_w)\n",
    "\n",
    "        for x_b, v_b in zip(particle[1], velocity[1]):\n",
    "            new_b = x_b + v_b\n",
    "            new_biases.append(new_b)\n",
    "\n",
    "        self.population[idx] = (new_weights, new_biases)\n",
    "\n",
    "    def evaluate_fitness(self, idx, test_data):\n",
    "        '''\n",
    "        Evaluates the fitness of a particle and updates personal and global bests if necessary\n",
    "        '''\n",
    "        particle = self.population[idx]\n",
    "        score = self.loss(test_data, particle)\n",
    "\n",
    "        # Update personal best\n",
    "        if self.prediction_type == \"classification\":\n",
    "            if score > self.personal_best_scores[idx]:\n",
    "                self.personal_best_positions[idx] = particle\n",
    "                self.personal_best_scores[idx] = score\n",
    "        else:\n",
    "            if score < self.personal_best_scores[idx]:\n",
    "                self.personal_best_positions[idx] = particle\n",
    "                self.personal_best_scores[idx] = score\n",
    "\n",
    "        # Update global best\n",
    "        if self.prediction_type == \"classification\":\n",
    "            if score > self.global_best_score:\n",
    "                self.global_best_position = particle\n",
    "                self.global_best_score = score\n",
    "        else:\n",
    "            if score < self.global_best_score:\n",
    "                self.global_best_position = particle\n",
    "                self.global_best_score = score\n",
    "\n",
    "    def for_prop(self, input_vector: np.ndarray, weights, biases):\n",
    "        '''\n",
    "        Feeds forward a single example through the network.\n",
    "        '''\n",
    "        output = input_vector\n",
    "        for bias, weight in zip(biases[:-1], weights[:-1]):\n",
    "            output = self.sigmoid(np.dot(weight, output) + bias)\n",
    "        bias, weight = biases[-1], weights[-1]\n",
    "        output = np.dot(weight, output) + bias\n",
    "        if self.prediction_type == \"classification\":\n",
    "            output = self.softmax(output)\n",
    "        return output\n",
    "\n",
    "    def loss(self, test_data, model):\n",
    "        '''\n",
    "        Calculates the loss based on evaluation metrics.\n",
    "        For classification: 0/1 loss\n",
    "        For regression: Mean squared error\n",
    "        '''\n",
    "        weights, biases = model\n",
    "        if self.prediction_type == \"classification\":\n",
    "            results = [(np.argmax(self.for_prop(example.reshape(-1,1), weights, biases)), int(label)) for (example, label) in test_data if not np.isnan(label)]\n",
    "            correct_results = sum(int(pred == label) for (pred, label) in results)\n",
    "            total_examples = len(results)\n",
    "            return correct_results / total_examples\n",
    "        else:\n",
    "            results = [(self.for_prop(x.reshape(-1,1), weights, biases), y) for (x, y) in test_data if not np.isnan(y)]\n",
    "            predictions = np.array([prediction.flatten()[0] for (prediction, label) in results], dtype=float)\n",
    "            labels = np.array([label for (prediction, label) in results], dtype=float)\n",
    "            mse = np.mean((predictions - labels) ** 2)\n",
    "            return mse\n",
    "\n",
    "    def best_candidate(self, test_data):\n",
    "        '''\n",
    "        Returns the best performing partiicle among the population.\n",
    "        '''\n",
    "        scores = []\n",
    "        for candidate in self.population:\n",
    "            scores.append(self.loss(test_data, candidate))\n",
    "        scores = np.array(scores)\n",
    "        if self.prediction_type == \"classification\":\n",
    "            return self.population[np.argmax(scores)]\n",
    "        else:\n",
    "            return self.population[np.argmin(scores)]\n",
    "\n",
    "    def evolve(self, test_data, epochs):\n",
    "        '''\n",
    "        Evolves the population over a number of epochs.\n",
    "        '''\n",
    "        for epoch in tqdm(range(epochs), desc=\"Evolving Particles\", leave=False):\n",
    "            for idx in range(self.pop_size):\n",
    "                self.update_velocity(idx)\n",
    "                self.update_position(idx)\n",
    "                self.evaluate_fitness(idx, test_data)\n",
    "        self.model = self.global_best_position\n",
    "\n",
    "    def train_test(self, tuning_flag: bool, pop_size=50, epochs=50, c1=0.5, c2=0.5, w=1):\n",
    "        '''\n",
    "        Trains and tests the model, returns the calculated loss scores.\n",
    "        '''\n",
    "        scores = []\n",
    "        if tuning_flag:\n",
    "            for i in range(10):\n",
    "                self.pop_size = pop_size\n",
    "                self.epochs = epochs\n",
    "                self.c1 = c1\n",
    "                self.c2 = c2\n",
    "                self.w = w\n",
    "                self.init_population()\n",
    "                self.evolve(self.get_training_data(i), epochs)\n",
    "                score = self.loss(self.get_tuning_data(), self.model)\n",
    "                scores.append(score)\n",
    "        else:\n",
    "            for i in tqdm(range(10), desc=\"Evaluating Test Data\", leave=False):\n",
    "                self.init_population()\n",
    "                self.evolve(self.get_training_data(i), self.epochs)\n",
    "                score = self.loss(self.get_testing_data(i), self.model)\n",
    "                scores.append(score)\n",
    "        return np.array(scores)\n",
    "\n",
    "    def tune(self):\n",
    "        '''\n",
    "        Tunes the hyperparameters: population size, epochs, cognitive update rate, social update rate, inertia weight.\n",
    "        '''\n",
    "        pop_size_vals = [10, 50, 100]\n",
    "        epoch_vals = [10, 50, 75, 100, 200]\n",
    "        c1_vals = [0.1, 0.5, 1.0, 1.5, 2.0, 2.5]        #Cognitive update rate\n",
    "        c2_vals = [0.1, 0.5, 1.0, 1.5, 2.0, 2.5]        #Social Update Rate\n",
    "        w_vals = [0.4, 0.7, 1.0]                        #Inertia\n",
    "\n",
    "        # Tune Population Size\n",
    "        pop_size_scores = []\n",
    "        for pop_size in tqdm(pop_size_vals, desc=\"Tuning Population Size\", leave=False):\n",
    "            pop_size_score = self.train_test(tuning_flag=True, pop_size=pop_size, epochs=self.epochs, c1=self.c1, c2=self.c2, w=self.w)\n",
    "            pop_size_scores.append(np.mean(pop_size_score))\n",
    "        pop_size_scores = np.array(pop_size_scores)\n",
    "        if self.prediction_type == \"classification\":\n",
    "            self.pop_size = pop_size_vals[np.argmax(pop_size_scores)]\n",
    "        else:\n",
    "            self.pop_size = pop_size_vals[np.argmin(pop_size_scores)]\n",
    "        print(f\"Tuned Population Size: {self.pop_size}\")\n",
    "\n",
    "        # Tune Epochs\n",
    "        epoch_scores = []\n",
    "        for epoch in tqdm(epoch_vals, desc=\"Tuning Epochs\", leave=False):\n",
    "            epoch_score = self.train_test(tuning_flag=True, pop_size=self.pop_size, epochs=epoch, c1=self.c1, c2=self.c2, w=self.w)\n",
    "            epoch_scores.append(np.mean(epoch_score))\n",
    "        epoch_scores = np.array(epoch_scores)\n",
    "        if self.prediction_type == \"classification\":\n",
    "            self.epochs = epoch_vals[np.argmax(epoch_scores)]\n",
    "        else:\n",
    "            self.epochs = epoch_vals[np.argmin(epoch_scores)]\n",
    "        print(f\"Tuned Epochs: {self.epochs}\")\n",
    "\n",
    "        # Tune Cognitive Update Rate(c1)\n",
    "        c1_scores = []\n",
    "        for c1 in tqdm(c1_vals, desc=\"Tuning Cognitive Update Rate\", leave=False):\n",
    "            c1_score = self.train_test(tuning_flag=True, pop_size=self.pop_size, epochs=self.epochs, c1=c1, c2=self.c2, w=self.w)\n",
    "            c1_scores.append(np.mean(c1_score))\n",
    "        c1_scores = np.array(c1_scores)\n",
    "        if self.prediction_type == \"classification\":\n",
    "            self.c1 = c1_vals[np.argmax(c1_scores)]\n",
    "        else:\n",
    "            self.c1 = c1_vals[np.argmin(c1_scores)]\n",
    "        print(f\"Tuned Cognitive Coefficient: {self.c1}\")\n",
    "\n",
    "        # Tune Social Update Rate (c2)\n",
    "        c2_scores = []\n",
    "        for c2 in tqdm(c2_vals, desc=\"Tuning Social Update Rate\", leave=False):\n",
    "            c2_score = self.train_test(tuning_flag=True, pop_size=self.pop_size, epochs=self.epochs, c1=self.c1, c2=c2, w=self.w)\n",
    "            c2_scores.append(np.mean(c2_score))\n",
    "        c2_scores = np.array(c2_scores)\n",
    "        if self.prediction_type == \"classification\":\n",
    "            self.c2 = c2_vals[np.argmax(c2_scores)]\n",
    "        else:\n",
    "            self.c2 = c2_vals[np.argmin(c2_scores)]\n",
    "        print(f\"Tuned Social Coefficient: {self.c2}\")\n",
    "\n",
    "        # Tune Inertia Weight (w)\n",
    "        w_scores = []\n",
    "        for w in tqdm(w_vals, desc=\"Tuning Inertia Weight\", leave=False):\n",
    "            w_score = self.train_test(tuning_flag=True, pop_size=self.pop_size, epochs=self.epochs, c1=self.c1, c2=self.c2, w=w)\n",
    "            w_scores.append(np.mean(w_score))\n",
    "        w_scores = np.array(w_scores)\n",
    "        if self.prediction_type == \"classification\":\n",
    "            self.w = w_vals[np.argmax(w_scores)]\n",
    "        else:\n",
    "            self.w = w_vals[np.argmin(w_scores)]\n",
    "        print(f\"Tuned Inertia Weight: {self.w}\")\n",
    "\n",
    "        return [self.pop_size, self.epochs, self.c1, self.c2, self.w]\n",
    "\n",
    "    def sigmoid(self, input_vector):\n",
    "        '''\n",
    "        Sigmoid activation function.\n",
    "        '''\n",
    "        return 1 / (1 + np.exp(-input_vector))\n",
    "\n",
    "    def softmax(self, input_vector):\n",
    "        '''\n",
    "        Softmax activation function for classification output layer.\n",
    "        '''\n",
    "        e_x = np.exp(input_vector - np.max(input_vector))\n",
    "        return e_x / e_x.sum(axis=0)\n",
    "\n",
    "    def get_training_data(self, i: int):\n",
    "        '''\n",
    "        method needs to take in training data and compile 9 of the 10 folds (not fold I) into an array\n",
    "        we then want to format the data as follows: each example = (attributes, label)\n",
    "        I is used to indicate which fold is the hold out fold\n",
    "        '''\n",
    "        desired_data = np.concatenate([self.validate_set[j] for j in range(10) if j != i])  #Get all folds other than fold I and compile into its own array\n",
    "        training_data = [(example[:-1], example[-1]) for example in desired_data]   #Format properly\n",
    "        return training_data\n",
    "    def get_testing_data(self, i: int):\n",
    "        '''\n",
    "        method needs to take in training data and compile 1 of the 10 folds (fold I) into an array\n",
    "        Then format the data as follows: each example = (attributes, label)\n",
    "        i is used to indicate which training set you want returned\n",
    "        '''\n",
    "        desired_data = self.validate_set[i]         #Get the test set\n",
    "        testing_data = [(example[:-1], example[-1]) for example in desired_data] #Format properly\n",
    "        return testing_data\n",
    "    def get_tuning_data(self):\n",
    "        '''\n",
    "        method needs to take in the tuning set and properly format it\n",
    "        Then format the data as follows: each example = (attributes, label)\n",
    "        i is used to indicate which training set you want returned\n",
    "        '''\n",
    "        desired_data = self.tune_set  #Get the tuning set\n",
    "        tuning_data = [(example[:-1], example[-1]) for example in desired_data] #Format properly\n",
    "        return tuning_data"
   ]
  },
  {
   "cell_type": "markdown",
   "metadata": {},
   "source": [
    "# PSO NN Instantiation"
   ]
  },
  {
   "cell_type": "code",
   "execution_count": 25,
   "metadata": {},
   "outputs": [
    {
     "name": "stdout",
     "output_type": "stream",
     "text": [
      "/home/m28r778/CSCI_447_Project4/datasets/abalone.data\n",
      "/home/m28r778/CSCI_447_Project4/datasets/breast-cancer-wisconsin.data\n",
      "/home/m28r778/CSCI_447_Project4/datasets/forestfires.data\n",
      "/home/m28r778/CSCI_447_Project4/datasets/glass.data\n",
      "/home/m28r778/CSCI_447_Project4/datasets/machine.data\n",
      "/home/m28r778/CSCI_447_Project4/datasets/soybean-small.data\n"
     ]
    }
   ],
   "source": [
    "abalone_data, cancer_data, fire_data, glass_data, machine_data, soybean_data = process_all('m28r778', True)"
   ]
  },
  {
   "cell_type": "code",
   "execution_count": 35,
   "metadata": {},
   "outputs": [],
   "source": [
    "#Classification Sets\n",
    "soybean_PSO_0 = PSO_nn(soybean_data, \"classification\", network_shape=[35,4])\n",
    "soybean_PSO_1 = PSO_nn(soybean_data, \"classification\", network_shape=[35,1,4])\n",
    "soybean_PSO_2 = PSO_nn(soybean_data, \"classification\", network_shape=[35,1,9,4])\n",
    "\n",
    "cancer_PSO_0 = PSO_nn(cancer_data, \"classification\", network_shape=[9,2])\n",
    "cancer_PSO_1 = PSO_nn(cancer_data, \"classification\", network_shape=[9,1,2])\n",
    "cancer_PSO_2 = PSO_nn(cancer_data, \"classification\", network_shape=[9,1,5,2])\n",
    "\n",
    "glass_PSO_0 = PSO_nn(glass_data, \"classification\", network_shape=[9,6])\n",
    "glass_PSO_1 = PSO_nn(glass_data, \"classification\", network_shape=[9,1,6])\n",
    "glass_PSO_2 = PSO_nn(glass_data, \"classification\", network_shape=[9,1,9,6])\n",
    "\n",
    "#Regression sets\n",
    "abalone_PSO_0 = PSO_nn(abalone_data, \"regression\", network_shape=[8,1])\n",
    "abalone_PSO_1 = PSO_nn(abalone_data, \"regression\", network_shape=[8,1,1])\n",
    "abalone_PSO_2 = PSO_nn(abalone_data, \"regression\", network_shape=[8,1,9,1])\n",
    "\n",
    "fire_PSO_0 = PSO_nn(fire_data, \"regression\", network_shape=[12,1])\n",
    "fire_PSO_1 = PSO_nn(fire_data, \"regression\", network_shape=[12,1,1])\n",
    "fire_PSO_2 = PSO_nn(fire_data, \"regression\", network_shape=[12,1,1,1])\n",
    "\n",
    "machine_PSO_0 = PSO_nn(machine_data, \"regression\", network_shape=[9,1])\n",
    "machine_PSO_1 = PSO_nn(machine_data, \"regression\", network_shape=[9,1,1])\n",
    "machine_PSO_2 = PSO_nn(machine_data, \"regression\", network_shape=[9,1,7,1])"
   ]
  },
  {
   "cell_type": "markdown",
   "metadata": {},
   "source": [
    "Soybean PSO"
   ]
  },
  {
   "cell_type": "code",
   "execution_count": null,
   "metadata": {},
   "outputs": [
    {
     "name": "stderr",
     "output_type": "stream",
     "text": [
      "                                                                     \r"
     ]
    },
    {
     "name": "stdout",
     "output_type": "stream",
     "text": [
      "Tuned Population Size: 50\n"
     ]
    },
    {
     "name": "stderr",
     "output_type": "stream",
     "text": [
      "                                                            \r"
     ]
    },
    {
     "name": "stdout",
     "output_type": "stream",
     "text": [
      "Tuned Epochs: 100\n"
     ]
    },
    {
     "name": "stderr",
     "output_type": "stream",
     "text": [
      "                                                                           \r"
     ]
    },
    {
     "name": "stdout",
     "output_type": "stream",
     "text": [
      "Tuned Cognitive Coefficient: 0.1\n"
     ]
    },
    {
     "name": "stderr",
     "output_type": "stream",
     "text": [
      "                                                                        \r"
     ]
    },
    {
     "name": "stdout",
     "output_type": "stream",
     "text": [
      "Tuned Social Coefficient: 1.0\n"
     ]
    },
    {
     "name": "stderr",
     "output_type": "stream",
     "text": [
      "                                                                    \r"
     ]
    },
    {
     "name": "stdout",
     "output_type": "stream",
     "text": [
      "Tuned Inertia Weight: 1.0\n"
     ]
    },
    {
     "name": "stderr",
     "output_type": "stream",
     "text": [
      "                                                                     "
     ]
    },
    {
     "name": "stdout",
     "output_type": "stream",
     "text": [
      "Average Performance: 0.875\n"
     ]
    },
    {
     "name": "stderr",
     "output_type": "stream",
     "text": [
      "\r"
     ]
    }
   ],
   "source": [
    "soybean_PSO_0_parameters = soybean_PSO_0.tune()\n",
    "soybean_PSO_0_score = soybean_PSO_0.train_test(tuning_flag=False)\n",
    "print(f\"Average Performance: {np.mean(soybean_PSO_0_score)}\")"
   ]
  },
  {
   "cell_type": "code",
   "execution_count": null,
   "metadata": {},
   "outputs": [
    {
     "name": "stderr",
     "output_type": "stream",
     "text": [
      "                                                                     \r"
     ]
    },
    {
     "name": "stdout",
     "output_type": "stream",
     "text": [
      "Tuned Population Size: 50\n"
     ]
    },
    {
     "name": "stderr",
     "output_type": "stream",
     "text": [
      "Tuning Epochs:  60%|██████    | 3/5 [00:37<00:30, 15.13s/it]/tmp/ipykernel_408785/520265002.py:293: RuntimeWarning: overflow encountered in exp\n",
      "  return 1 / (1 + np.exp(-input_vector))\n",
      "                                                            \r"
     ]
    },
    {
     "name": "stdout",
     "output_type": "stream",
     "text": [
      "Tuned Epochs: 200\n"
     ]
    },
    {
     "name": "stderr",
     "output_type": "stream",
     "text": [
      "                                                                           \r"
     ]
    },
    {
     "name": "stdout",
     "output_type": "stream",
     "text": [
      "Tuned Cognitive Coefficient: 0.5\n"
     ]
    },
    {
     "name": "stderr",
     "output_type": "stream",
     "text": [
      "                                                                        \r"
     ]
    },
    {
     "name": "stdout",
     "output_type": "stream",
     "text": [
      "Tuned Social Coefficient: 0.1\n"
     ]
    },
    {
     "name": "stderr",
     "output_type": "stream",
     "text": [
      "                                                                    \r"
     ]
    },
    {
     "name": "stdout",
     "output_type": "stream",
     "text": [
      "Tuned Inertia Weight: 1.0\n"
     ]
    },
    {
     "name": "stderr",
     "output_type": "stream",
     "text": [
      "                                                                     "
     ]
    },
    {
     "name": "stdout",
     "output_type": "stream",
     "text": [
      "Average Performance: 0.6849999999999999\n"
     ]
    },
    {
     "name": "stderr",
     "output_type": "stream",
     "text": [
      "\r"
     ]
    }
   ],
   "source": [
    "soybean_PSO_1_parameters = soybean_PSO_1.tune()\n",
    "soybean_PSO_1_score = soybean_PSO_1.train_test(tuning_flag=False)\n",
    "print(f\"Average Performance: {np.mean(soybean_PSO_1_score)}\")"
   ]
  },
  {
   "cell_type": "code",
   "execution_count": null,
   "metadata": {},
   "outputs": [
    {
     "name": "stderr",
     "output_type": "stream",
     "text": [
      "                                                                     \r"
     ]
    },
    {
     "name": "stdout",
     "output_type": "stream",
     "text": [
      "Tuned Population Size: 100\n"
     ]
    },
    {
     "name": "stderr",
     "output_type": "stream",
     "text": [
      "Tuning Epochs:  60%|██████    | 3/5 [01:37<01:17, 38.66s/it]/tmp/ipykernel_408785/520265002.py:293: RuntimeWarning: overflow encountered in exp\n",
      "  return 1 / (1 + np.exp(-input_vector))\n",
      "                                                             \r"
     ]
    },
    {
     "name": "stdout",
     "output_type": "stream",
     "text": [
      "Tuned Epochs: 100\n"
     ]
    },
    {
     "name": "stderr",
     "output_type": "stream",
     "text": [
      "                                                                           \r"
     ]
    },
    {
     "name": "stdout",
     "output_type": "stream",
     "text": [
      "Tuned Cognitive Coefficient: 1.0\n"
     ]
    },
    {
     "name": "stderr",
     "output_type": "stream",
     "text": [
      "                                                                        \r"
     ]
    },
    {
     "name": "stdout",
     "output_type": "stream",
     "text": [
      "Tuned Social Coefficient: 0.1\n"
     ]
    },
    {
     "name": "stderr",
     "output_type": "stream",
     "text": [
      "                                                                    \r"
     ]
    },
    {
     "name": "stdout",
     "output_type": "stream",
     "text": [
      "Tuned Inertia Weight: 0.7\n"
     ]
    },
    {
     "name": "stderr",
     "output_type": "stream",
     "text": [
      "                                                                     "
     ]
    },
    {
     "name": "stdout",
     "output_type": "stream",
     "text": [
      "Average Performance: 0.495\n"
     ]
    },
    {
     "name": "stderr",
     "output_type": "stream",
     "text": [
      "\r"
     ]
    }
   ],
   "source": [
    "soybean_PSO_2_parameters = soybean_PSO_2.tune()\n",
    "soybean_PSO_2_score = soybean_PSO_2.train_test(tuning_flag=False)\n",
    "print(f\"Average Performance: {np.mean(soybean_PSO_2_score)}\")"
   ]
  },
  {
   "cell_type": "markdown",
   "metadata": {},
   "source": [
    "Cancer PSO"
   ]
  },
  {
   "cell_type": "code",
   "execution_count": 44,
   "metadata": {},
   "outputs": [
    {
     "name": "stderr",
     "output_type": "stream",
     "text": [
      "                                                                      \r"
     ]
    },
    {
     "name": "stdout",
     "output_type": "stream",
     "text": [
      "Tuned Population Size: 100\n"
     ]
    },
    {
     "name": "stderr",
     "output_type": "stream",
     "text": [
      "                                                             \r"
     ]
    },
    {
     "name": "stdout",
     "output_type": "stream",
     "text": [
      "Tuned Epochs: 100\n"
     ]
    },
    {
     "name": "stderr",
     "output_type": "stream",
     "text": [
      "                                                                            \r"
     ]
    },
    {
     "name": "stdout",
     "output_type": "stream",
     "text": [
      "Tuned Cognitive Coefficient: 2.0\n"
     ]
    },
    {
     "name": "stderr",
     "output_type": "stream",
     "text": [
      "                                                                         \r"
     ]
    },
    {
     "name": "stdout",
     "output_type": "stream",
     "text": [
      "Tuned Social Coefficient: 1.5\n"
     ]
    },
    {
     "name": "stderr",
     "output_type": "stream",
     "text": [
      "                                                                     \r"
     ]
    },
    {
     "name": "stdout",
     "output_type": "stream",
     "text": [
      "Tuned Inertia Weight: 0.4\n"
     ]
    },
    {
     "name": "stderr",
     "output_type": "stream",
     "text": [
      "                                                                     "
     ]
    },
    {
     "name": "stdout",
     "output_type": "stream",
     "text": [
      "Average Performance: 0.958653353814644\n"
     ]
    },
    {
     "name": "stderr",
     "output_type": "stream",
     "text": [
      "\r"
     ]
    }
   ],
   "source": [
    "cancer_PSO_0_parameters = cancer_PSO_0.tune()\n",
    "cancer_PSO_0_score = cancer_PSO_0.train_test(tuning_flag=False)\n",
    "print(f\"Average Performance: {np.mean(cancer_PSO_0_score)}\")"
   ]
  },
  {
   "cell_type": "code",
   "execution_count": 45,
   "metadata": {},
   "outputs": [
    {
     "name": "stderr",
     "output_type": "stream",
     "text": [
      "                                                                      \r"
     ]
    },
    {
     "name": "stdout",
     "output_type": "stream",
     "text": [
      "Tuned Population Size: 100\n"
     ]
    },
    {
     "name": "stderr",
     "output_type": "stream",
     "text": [
      "                                                             \r"
     ]
    },
    {
     "name": "stdout",
     "output_type": "stream",
     "text": [
      "Tuned Epochs: 100\n"
     ]
    },
    {
     "name": "stderr",
     "output_type": "stream",
     "text": [
      "                                                                              \r"
     ]
    },
    {
     "name": "stdout",
     "output_type": "stream",
     "text": [
      "Tuned Cognitive Coefficient: 0.5\n"
     ]
    },
    {
     "name": "stderr",
     "output_type": "stream",
     "text": [
      "                                                                           \r"
     ]
    },
    {
     "name": "stdout",
     "output_type": "stream",
     "text": [
      "Tuned Social Coefficient: 1.5\n"
     ]
    },
    {
     "name": "stderr",
     "output_type": "stream",
     "text": [
      "                                                                     \r"
     ]
    },
    {
     "name": "stdout",
     "output_type": "stream",
     "text": [
      "Tuned Inertia Weight: 1.0\n"
     ]
    },
    {
     "name": "stderr",
     "output_type": "stream",
     "text": [
      "                                                                     "
     ]
    },
    {
     "name": "stdout",
     "output_type": "stream",
     "text": [
      "Average Performance: 0.9618791602662571\n"
     ]
    },
    {
     "name": "stderr",
     "output_type": "stream",
     "text": [
      "\r"
     ]
    }
   ],
   "source": [
    "cancer_PSO_1_parameters = cancer_PSO_1.tune()\n",
    "cancer_PSO_1_score = cancer_PSO_1.train_test(tuning_flag=False)\n",
    "print(f\"Average Performance: {np.mean(cancer_PSO_1_score)}\")"
   ]
  },
  {
   "cell_type": "code",
   "execution_count": 46,
   "metadata": {},
   "outputs": [
    {
     "name": "stderr",
     "output_type": "stream",
     "text": [
      "                                                                      \r"
     ]
    },
    {
     "name": "stdout",
     "output_type": "stream",
     "text": [
      "Tuned Population Size: 100\n"
     ]
    },
    {
     "name": "stderr",
     "output_type": "stream",
     "text": [
      "                                                             \r"
     ]
    },
    {
     "name": "stdout",
     "output_type": "stream",
     "text": [
      "Tuned Epochs: 200\n"
     ]
    },
    {
     "name": "stderr",
     "output_type": "stream",
     "text": [
      "                                                                                 \r"
     ]
    },
    {
     "name": "stdout",
     "output_type": "stream",
     "text": [
      "Tuned Cognitive Coefficient: 2.5\n"
     ]
    },
    {
     "name": "stderr",
     "output_type": "stream",
     "text": [
      "                                                                              \r"
     ]
    },
    {
     "name": "stdout",
     "output_type": "stream",
     "text": [
      "Tuned Social Coefficient: 2.0\n"
     ]
    },
    {
     "name": "stderr",
     "output_type": "stream",
     "text": [
      "                                                                        \r"
     ]
    },
    {
     "name": "stdout",
     "output_type": "stream",
     "text": [
      "Tuned Inertia Weight: 1.0\n"
     ]
    },
    {
     "name": "stderr",
     "output_type": "stream",
     "text": [
      "                                                                      "
     ]
    },
    {
     "name": "stdout",
     "output_type": "stream",
     "text": [
      "Average Performance: 0.9618279569892472\n"
     ]
    },
    {
     "name": "stderr",
     "output_type": "stream",
     "text": [
      "\r"
     ]
    }
   ],
   "source": [
    "cancer_PSO_2_parameters = cancer_PSO_2.tune()\n",
    "cancer_PSO_2_score = cancer_PSO_2.train_test(tuning_flag=False)\n",
    "print(f\"Average Performance: {np.mean(cancer_PSO_2_score)}\")"
   ]
  },
  {
   "cell_type": "markdown",
   "metadata": {},
   "source": [
    "Glass PSO"
   ]
  },
  {
   "cell_type": "code",
   "execution_count": 47,
   "metadata": {},
   "outputs": [
    {
     "name": "stderr",
     "output_type": "stream",
     "text": [
      "                                                                     \r"
     ]
    },
    {
     "name": "stdout",
     "output_type": "stream",
     "text": [
      "Tuned Population Size: 100\n"
     ]
    },
    {
     "name": "stderr",
     "output_type": "stream",
     "text": [
      "                                                             \r"
     ]
    },
    {
     "name": "stdout",
     "output_type": "stream",
     "text": [
      "Tuned Epochs: 100\n"
     ]
    },
    {
     "name": "stderr",
     "output_type": "stream",
     "text": [
      "                                                                            \r"
     ]
    },
    {
     "name": "stdout",
     "output_type": "stream",
     "text": [
      "Tuned Cognitive Coefficient: 2.5\n"
     ]
    },
    {
     "name": "stderr",
     "output_type": "stream",
     "text": [
      "                                                                         \r"
     ]
    },
    {
     "name": "stdout",
     "output_type": "stream",
     "text": [
      "Tuned Social Coefficient: 1.5\n"
     ]
    },
    {
     "name": "stderr",
     "output_type": "stream",
     "text": [
      "                                                                     \r"
     ]
    },
    {
     "name": "stdout",
     "output_type": "stream",
     "text": [
      "Tuned Inertia Weight: 0.7\n"
     ]
    },
    {
     "name": "stderr",
     "output_type": "stream",
     "text": [
      "                                                                     "
     ]
    },
    {
     "name": "stdout",
     "output_type": "stream",
     "text": [
      "Average Performance: 0.5413157894736843\n"
     ]
    },
    {
     "name": "stderr",
     "output_type": "stream",
     "text": [
      "\r"
     ]
    }
   ],
   "source": [
    "glass_PSO_0_parameters = glass_PSO_0.tune()\n",
    "glass_PSO_0_score = glass_PSO_0.train_test(tuning_flag=False)\n",
    "print(f\"Average Performance: {np.mean(glass_PSO_0_score)}\")"
   ]
  },
  {
   "cell_type": "code",
   "execution_count": 48,
   "metadata": {},
   "outputs": [
    {
     "name": "stderr",
     "output_type": "stream",
     "text": [
      "                                                                     \r"
     ]
    },
    {
     "name": "stdout",
     "output_type": "stream",
     "text": [
      "Tuned Population Size: 100\n"
     ]
    },
    {
     "name": "stderr",
     "output_type": "stream",
     "text": [
      "                                                             \r"
     ]
    },
    {
     "name": "stdout",
     "output_type": "stream",
     "text": [
      "Tuned Epochs: 100\n"
     ]
    },
    {
     "name": "stderr",
     "output_type": "stream",
     "text": [
      "                                                                            \r"
     ]
    },
    {
     "name": "stdout",
     "output_type": "stream",
     "text": [
      "Tuned Cognitive Coefficient: 0.1\n"
     ]
    },
    {
     "name": "stderr",
     "output_type": "stream",
     "text": [
      "                                                                         \r"
     ]
    },
    {
     "name": "stdout",
     "output_type": "stream",
     "text": [
      "Tuned Social Coefficient: 0.5\n"
     ]
    },
    {
     "name": "stderr",
     "output_type": "stream",
     "text": [
      "                                                                     \r"
     ]
    },
    {
     "name": "stdout",
     "output_type": "stream",
     "text": [
      "Tuned Inertia Weight: 1.0\n"
     ]
    },
    {
     "name": "stderr",
     "output_type": "stream",
     "text": [
      "                                                                     "
     ]
    },
    {
     "name": "stdout",
     "output_type": "stream",
     "text": [
      "Average Performance: 0.4734210526315789\n"
     ]
    },
    {
     "name": "stderr",
     "output_type": "stream",
     "text": [
      "\r"
     ]
    }
   ],
   "source": [
    "glass_PSO_1_parameters = glass_PSO_1.tune()\n",
    "glass_PSO_1_score = glass_PSO_1.train_test(tuning_flag=False)\n",
    "print(f\"Average Performance: {np.mean(glass_PSO_1_score)}\")"
   ]
  },
  {
   "cell_type": "code",
   "execution_count": 50,
   "metadata": {},
   "outputs": [
    {
     "name": "stderr",
     "output_type": "stream",
     "text": [
      "                                                                     \r"
     ]
    },
    {
     "name": "stdout",
     "output_type": "stream",
     "text": [
      "Tuned Population Size: 100\n"
     ]
    },
    {
     "name": "stderr",
     "output_type": "stream",
     "text": [
      "                                                             \r"
     ]
    },
    {
     "name": "stdout",
     "output_type": "stream",
     "text": [
      "Tuned Epochs: 100\n"
     ]
    },
    {
     "name": "stderr",
     "output_type": "stream",
     "text": [
      "                                                                            \r"
     ]
    },
    {
     "name": "stdout",
     "output_type": "stream",
     "text": [
      "Tuned Cognitive Coefficient: 2.0\n"
     ]
    },
    {
     "name": "stderr",
     "output_type": "stream",
     "text": [
      "                                                                         \r"
     ]
    },
    {
     "name": "stdout",
     "output_type": "stream",
     "text": [
      "Tuned Social Coefficient: 2.0\n"
     ]
    },
    {
     "name": "stderr",
     "output_type": "stream",
     "text": [
      "                                                                     \r"
     ]
    },
    {
     "name": "stdout",
     "output_type": "stream",
     "text": [
      "Tuned Inertia Weight: 0.4\n"
     ]
    },
    {
     "name": "stderr",
     "output_type": "stream",
     "text": [
      "                                                                     "
     ]
    },
    {
     "name": "stdout",
     "output_type": "stream",
     "text": [
      "Average Performance: 0.5202631578947368\n"
     ]
    },
    {
     "name": "stderr",
     "output_type": "stream",
     "text": [
      "\r"
     ]
    }
   ],
   "source": [
    "glass_PSO_2_parameters = glass_PSO_2.tune()\n",
    "glass_PSO_2_score = glass_PSO_2.train_test(tuning_flag=False)\n",
    "print(f\"Average Performance: {np.mean(glass_PSO_2_score)}\")"
   ]
  },
  {
   "cell_type": "markdown",
   "metadata": {},
   "source": [
    "Abalone PSO"
   ]
  },
  {
   "cell_type": "code",
   "execution_count": 49,
   "metadata": {},
   "outputs": [
    {
     "name": "stderr",
     "output_type": "stream",
     "text": [
      "                                                                      \r"
     ]
    },
    {
     "name": "stdout",
     "output_type": "stream",
     "text": [
      "Tuned Population Size: 100\n"
     ]
    },
    {
     "name": "stderr",
     "output_type": "stream",
     "text": [
      "                                                             \r"
     ]
    },
    {
     "name": "stdout",
     "output_type": "stream",
     "text": [
      "Tuned Epochs: 50\n"
     ]
    },
    {
     "name": "stderr",
     "output_type": "stream",
     "text": [
      "                                                                            \r"
     ]
    },
    {
     "name": "stdout",
     "output_type": "stream",
     "text": [
      "Tuned Cognitive Coefficient: 1.0\n"
     ]
    },
    {
     "name": "stderr",
     "output_type": "stream",
     "text": [
      "                                                                         \r"
     ]
    },
    {
     "name": "stdout",
     "output_type": "stream",
     "text": [
      "Tuned Social Coefficient: 0.1\n"
     ]
    },
    {
     "name": "stderr",
     "output_type": "stream",
     "text": [
      "                                                                     \r"
     ]
    },
    {
     "name": "stdout",
     "output_type": "stream",
     "text": [
      "Tuned Inertia Weight: 1.0\n"
     ]
    },
    {
     "name": "stderr",
     "output_type": "stream",
     "text": [
      "                                                                     "
     ]
    },
    {
     "name": "stdout",
     "output_type": "stream",
     "text": [
      "Average Performance: 0.008180663265052235\n"
     ]
    },
    {
     "name": "stderr",
     "output_type": "stream",
     "text": [
      "\r"
     ]
    }
   ],
   "source": [
    "abalone_PSO_0_parameters = abalone_PSO_0.tune()\n",
    "abalone_PSO_0_score = abalone_PSO_0.train_test(tuning_flag=False)\n",
    "print(f\"Average Performance: {np.mean(abalone_PSO_0_score)}\")"
   ]
  },
  {
   "cell_type": "code",
   "execution_count": 51,
   "metadata": {},
   "outputs": [
    {
     "name": "stderr",
     "output_type": "stream",
     "text": [
      "                                                                      \r"
     ]
    },
    {
     "name": "stdout",
     "output_type": "stream",
     "text": [
      "Tuned Population Size: 100\n"
     ]
    },
    {
     "name": "stderr",
     "output_type": "stream",
     "text": [
      "                                                                \r"
     ]
    },
    {
     "name": "stdout",
     "output_type": "stream",
     "text": [
      "Tuned Epochs: 200\n"
     ]
    },
    {
     "name": "stderr",
     "output_type": "stream",
     "text": [
      "                                                                                 \r"
     ]
    },
    {
     "name": "stdout",
     "output_type": "stream",
     "text": [
      "Tuned Cognitive Coefficient: 0.5\n"
     ]
    },
    {
     "name": "stderr",
     "output_type": "stream",
     "text": [
      "                                                                              \r"
     ]
    },
    {
     "name": "stdout",
     "output_type": "stream",
     "text": [
      "Tuned Social Coefficient: 0.1\n"
     ]
    },
    {
     "name": "stderr",
     "output_type": "stream",
     "text": [
      "                                                                        \r"
     ]
    },
    {
     "name": "stdout",
     "output_type": "stream",
     "text": [
      "Tuned Inertia Weight: 1.0\n"
     ]
    },
    {
     "name": "stderr",
     "output_type": "stream",
     "text": [
      "                                                                      "
     ]
    },
    {
     "name": "stdout",
     "output_type": "stream",
     "text": [
      "Average Performance: 0.007477333183911935\n"
     ]
    },
    {
     "name": "stderr",
     "output_type": "stream",
     "text": [
      "\r"
     ]
    }
   ],
   "source": [
    "abalone_PSO_1_parameters = abalone_PSO_1.tune()\n",
    "abalone_PSO_1_score = abalone_PSO_1.train_test(tuning_flag=False)\n",
    "print(f\"Average Performance: {np.mean(abalone_PSO_1_score)}\")"
   ]
  },
  {
   "cell_type": "code",
   "execution_count": null,
   "metadata": {},
   "outputs": [
    {
     "name": "stderr",
     "output_type": "stream",
     "text": [
      "                                                                      \r"
     ]
    },
    {
     "name": "stdout",
     "output_type": "stream",
     "text": [
      "Tuned Population Size: 50\n"
     ]
    },
    {
     "name": "stderr",
     "output_type": "stream",
     "text": [
      "                                                                \r"
     ]
    },
    {
     "name": "stdout",
     "output_type": "stream",
     "text": [
      "Tuned Epochs: 100\n"
     ]
    },
    {
     "name": "stderr",
     "output_type": "stream",
     "text": [
      "Tuning Cognitive Coefficient:  33%|███▎      | 2/6 [45:37<1:31:14, 1368.70s/it]"
     ]
    }
   ],
   "source": [
    "abalone_PSO_2_parameters = abalone_PSO_2.tune()\n",
    "abalone_PSO_2_score = abalone_PSO_2.train_test(tuning_flag=False)\n",
    "print(f\"Average Performance: {np.mean(abalone_PSO_2_score)}\")"
   ]
  },
  {
   "cell_type": "markdown",
   "metadata": {},
   "source": [
    "Fire PSO"
   ]
  },
  {
   "cell_type": "code",
   "execution_count": 36,
   "metadata": {},
   "outputs": [
    {
     "name": "stderr",
     "output_type": "stream",
     "text": [
      "                                                                     \r"
     ]
    },
    {
     "name": "stdout",
     "output_type": "stream",
     "text": [
      "Tuned Population Size: 100\n"
     ]
    },
    {
     "name": "stderr",
     "output_type": "stream",
     "text": [
      "                                                             \r"
     ]
    },
    {
     "name": "stdout",
     "output_type": "stream",
     "text": [
      "Tuned Epochs: 50\n"
     ]
    },
    {
     "name": "stderr",
     "output_type": "stream",
     "text": [
      "                                                                           \r"
     ]
    },
    {
     "name": "stdout",
     "output_type": "stream",
     "text": [
      "Tuned Cognitive Coefficient: 0.5\n"
     ]
    },
    {
     "name": "stderr",
     "output_type": "stream",
     "text": [
      "                                                                        \r"
     ]
    },
    {
     "name": "stdout",
     "output_type": "stream",
     "text": [
      "Tuned Social Coefficient: 0.1\n"
     ]
    },
    {
     "name": "stderr",
     "output_type": "stream",
     "text": [
      "                                                                    \r"
     ]
    },
    {
     "name": "stdout",
     "output_type": "stream",
     "text": [
      "Tuned Inertia Weight: 0.4\n"
     ]
    },
    {
     "name": "stderr",
     "output_type": "stream",
     "text": [
      "                                                                     "
     ]
    },
    {
     "name": "stdout",
     "output_type": "stream",
     "text": [
      "Average Performance: 0.009014429023071747\n"
     ]
    },
    {
     "name": "stderr",
     "output_type": "stream",
     "text": [
      "\r"
     ]
    }
   ],
   "source": [
    "fire_PSO_0_parameters = fire_PSO_0.tune()\n",
    "fire_PSO_0_score = fire_PSO_0.train_test(tuning_flag=False)\n",
    "print(f\"Average Performance: {np.mean(fire_PSO_0_score)}\")"
   ]
  },
  {
   "cell_type": "code",
   "execution_count": 37,
   "metadata": {},
   "outputs": [
    {
     "name": "stderr",
     "output_type": "stream",
     "text": [
      "                                                                     \r"
     ]
    },
    {
     "name": "stdout",
     "output_type": "stream",
     "text": [
      "Tuned Population Size: 100\n"
     ]
    },
    {
     "name": "stderr",
     "output_type": "stream",
     "text": [
      "                                                             \r"
     ]
    },
    {
     "name": "stdout",
     "output_type": "stream",
     "text": [
      "Tuned Epochs: 10\n"
     ]
    },
    {
     "name": "stderr",
     "output_type": "stream",
     "text": [
      "                                                                           \r"
     ]
    },
    {
     "name": "stdout",
     "output_type": "stream",
     "text": [
      "Tuned Cognitive Coefficient: 1.0\n"
     ]
    },
    {
     "name": "stderr",
     "output_type": "stream",
     "text": [
      "                                                                        \r"
     ]
    },
    {
     "name": "stdout",
     "output_type": "stream",
     "text": [
      "Tuned Social Coefficient: 0.1\n"
     ]
    },
    {
     "name": "stderr",
     "output_type": "stream",
     "text": [
      "                                                                    \r"
     ]
    },
    {
     "name": "stdout",
     "output_type": "stream",
     "text": [
      "Tuned Inertia Weight: 1.0\n"
     ]
    },
    {
     "name": "stderr",
     "output_type": "stream",
     "text": [
      "                                                                     "
     ]
    },
    {
     "name": "stdout",
     "output_type": "stream",
     "text": [
      "Average Performance: 0.0038282541334983674\n"
     ]
    },
    {
     "name": "stderr",
     "output_type": "stream",
     "text": [
      "\r"
     ]
    }
   ],
   "source": [
    "fire_PSO_1_parameters = fire_PSO_1.tune()\n",
    "fire_PSO_1_score = fire_PSO_1.train_test(tuning_flag=False)\n",
    "print(f\"Average Performance: {np.mean(fire_PSO_1_score)}\")"
   ]
  },
  {
   "cell_type": "code",
   "execution_count": 38,
   "metadata": {},
   "outputs": [
    {
     "name": "stderr",
     "output_type": "stream",
     "text": [
      "                                                                      \r"
     ]
    },
    {
     "name": "stdout",
     "output_type": "stream",
     "text": [
      "Tuned Population Size: 10\n"
     ]
    },
    {
     "name": "stderr",
     "output_type": "stream",
     "text": [
      "                                                            \r"
     ]
    },
    {
     "name": "stdout",
     "output_type": "stream",
     "text": [
      "Tuned Epochs: 100\n"
     ]
    },
    {
     "name": "stderr",
     "output_type": "stream",
     "text": [
      "                                                                           \r"
     ]
    },
    {
     "name": "stdout",
     "output_type": "stream",
     "text": [
      "Tuned Cognitive Coefficient: 2.5\n"
     ]
    },
    {
     "name": "stderr",
     "output_type": "stream",
     "text": [
      "                                                                        \r"
     ]
    },
    {
     "name": "stdout",
     "output_type": "stream",
     "text": [
      "Tuned Social Coefficient: 2.0\n"
     ]
    },
    {
     "name": "stderr",
     "output_type": "stream",
     "text": [
      "                                                                    \r"
     ]
    },
    {
     "name": "stdout",
     "output_type": "stream",
     "text": [
      "Tuned Inertia Weight: 0.7\n"
     ]
    },
    {
     "name": "stderr",
     "output_type": "stream",
     "text": [
      "                                                                     "
     ]
    },
    {
     "name": "stdout",
     "output_type": "stream",
     "text": [
      "Average Performance: 0.0036888725171760383\n"
     ]
    },
    {
     "name": "stderr",
     "output_type": "stream",
     "text": [
      "\r"
     ]
    }
   ],
   "source": [
    "fire_PSO_2_parameters = fire_PSO_2.tune()\n",
    "fire_PSO_2_score = fire_PSO_2.train_test(tuning_flag=False)\n",
    "print(f\"Average Performance: {np.mean(fire_PSO_2_score)}\")"
   ]
  },
  {
   "cell_type": "markdown",
   "metadata": {},
   "source": [
    "Machine PSO"
   ]
  },
  {
   "cell_type": "code",
   "execution_count": 39,
   "metadata": {},
   "outputs": [
    {
     "name": "stderr",
     "output_type": "stream",
     "text": [
      "                                                                     \r"
     ]
    },
    {
     "name": "stdout",
     "output_type": "stream",
     "text": [
      "Tuned Population Size: 100\n"
     ]
    },
    {
     "name": "stderr",
     "output_type": "stream",
     "text": [
      "                                                            \r"
     ]
    },
    {
     "name": "stdout",
     "output_type": "stream",
     "text": [
      "Tuned Epochs: 50\n"
     ]
    },
    {
     "name": "stderr",
     "output_type": "stream",
     "text": [
      "                                                                           \r"
     ]
    },
    {
     "name": "stdout",
     "output_type": "stream",
     "text": [
      "Tuned Cognitive Coefficient: 1.0\n"
     ]
    },
    {
     "name": "stderr",
     "output_type": "stream",
     "text": [
      "                                                                        \r"
     ]
    },
    {
     "name": "stdout",
     "output_type": "stream",
     "text": [
      "Tuned Social Coefficient: 0.1\n"
     ]
    },
    {
     "name": "stderr",
     "output_type": "stream",
     "text": [
      "                                                                    \r"
     ]
    },
    {
     "name": "stdout",
     "output_type": "stream",
     "text": [
      "Tuned Inertia Weight: 0.7\n"
     ]
    },
    {
     "name": "stderr",
     "output_type": "stream",
     "text": [
      "                                                                     "
     ]
    },
    {
     "name": "stdout",
     "output_type": "stream",
     "text": [
      "Average Performance: 0.003125933615758644\n"
     ]
    },
    {
     "name": "stderr",
     "output_type": "stream",
     "text": [
      "\r"
     ]
    }
   ],
   "source": [
    "machine_PSO_0_parameters = machine_PSO_0.tune()\n",
    "machine_PSO_0_score = machine_PSO_0.train_test(tuning_flag=False)\n",
    "print(f\"Average Performance: {np.mean(machine_PSO_0_score)}\")"
   ]
  },
  {
   "cell_type": "code",
   "execution_count": 42,
   "metadata": {},
   "outputs": [
    {
     "name": "stderr",
     "output_type": "stream",
     "text": [
      "                                                                     \r"
     ]
    },
    {
     "name": "stdout",
     "output_type": "stream",
     "text": [
      "Tuned Population Size: 100\n"
     ]
    },
    {
     "name": "stderr",
     "output_type": "stream",
     "text": [
      "                                                             \r"
     ]
    },
    {
     "name": "stdout",
     "output_type": "stream",
     "text": [
      "Tuned Epochs: 200\n"
     ]
    },
    {
     "name": "stderr",
     "output_type": "stream",
     "text": [
      "                                                                            \r"
     ]
    },
    {
     "name": "stdout",
     "output_type": "stream",
     "text": [
      "Tuned Cognitive Coefficient: 1.0\n"
     ]
    },
    {
     "name": "stderr",
     "output_type": "stream",
     "text": [
      "                                                                         \r"
     ]
    },
    {
     "name": "stdout",
     "output_type": "stream",
     "text": [
      "Tuned Social Coefficient: 0.5\n"
     ]
    },
    {
     "name": "stderr",
     "output_type": "stream",
     "text": [
      "                                                                     \r"
     ]
    },
    {
     "name": "stdout",
     "output_type": "stream",
     "text": [
      "Tuned Inertia Weight: 0.7\n"
     ]
    },
    {
     "name": "stderr",
     "output_type": "stream",
     "text": [
      "                                                                     "
     ]
    },
    {
     "name": "stdout",
     "output_type": "stream",
     "text": [
      "Average Performance: 0.0003809304106859284\n"
     ]
    },
    {
     "name": "stderr",
     "output_type": "stream",
     "text": [
      "\r"
     ]
    }
   ],
   "source": [
    "machine_PSO_1_parameters = machine_PSO_1.tune()\n",
    "machine_PSO_1_score = machine_PSO_1.train_test(tuning_flag=False)\n",
    "print(f\"Average Performance: {np.mean(machine_PSO_1_score)}\")"
   ]
  },
  {
   "cell_type": "code",
   "execution_count": 43,
   "metadata": {},
   "outputs": [
    {
     "name": "stderr",
     "output_type": "stream",
     "text": [
      "                                                                     \r"
     ]
    },
    {
     "name": "stdout",
     "output_type": "stream",
     "text": [
      "Tuned Population Size: 100\n"
     ]
    },
    {
     "name": "stderr",
     "output_type": "stream",
     "text": [
      "                                                             \r"
     ]
    },
    {
     "name": "stdout",
     "output_type": "stream",
     "text": [
      "Tuned Epochs: 50\n"
     ]
    },
    {
     "name": "stderr",
     "output_type": "stream",
     "text": [
      "                                                                           \r"
     ]
    },
    {
     "name": "stdout",
     "output_type": "stream",
     "text": [
      "Tuned Cognitive Coefficient: 1.5\n"
     ]
    },
    {
     "name": "stderr",
     "output_type": "stream",
     "text": [
      "                                                                        \r"
     ]
    },
    {
     "name": "stdout",
     "output_type": "stream",
     "text": [
      "Tuned Social Coefficient: 0.1\n"
     ]
    },
    {
     "name": "stderr",
     "output_type": "stream",
     "text": [
      "                                                                    \r"
     ]
    },
    {
     "name": "stdout",
     "output_type": "stream",
     "text": [
      "Tuned Inertia Weight: 0.7\n"
     ]
    },
    {
     "name": "stderr",
     "output_type": "stream",
     "text": [
      "                                                                     "
     ]
    },
    {
     "name": "stdout",
     "output_type": "stream",
     "text": [
      "Average Performance: 0.006132718827858501\n"
     ]
    },
    {
     "name": "stderr",
     "output_type": "stream",
     "text": [
      "\r"
     ]
    }
   ],
   "source": [
    "machine_PSO_2_parameters = machine_PSO_2.tune()\n",
    "machine_PSO_2_score = machine_PSO_2.train_test(tuning_flag=False)\n",
    "print(f\"Average Performance: {np.mean(machine_PSO_2_score)}\")"
   ]
  },
  {
   "cell_type": "markdown",
   "metadata": {},
   "source": [
    "Backprop NN Instantiation"
   ]
  },
  {
   "cell_type": "code",
   "execution_count": 5,
   "metadata": {},
   "outputs": [],
   "source": [
    "# Classification Sets\n",
    "cancer_back_0 = backprop_nn(cancer_data, \"classification\", hidden_layer_count=0, epochs=10,momentum=.5,learning_rate=.01,batch_size=16)\n",
    "cancer_back_1 = backprop_nn(cancer_data, \"classification\", hidden_layer_count=1, network_shape=[9,1,2],epochs=50,momentum=.7,learning_rate=.1,batch_size=16)\n",
    "cancer_back_2 = backprop_nn(cancer_data, \"classification\", hidden_layer_count=2, network_shape=[9,1,5,2],epochs=50,momentum=.9,learning_rate=.01,batch_size=16)\n",
    "\n",
    "glass_back_0 = backprop_nn(glass_data, \"classification\", hidden_layer_count=0, epochs=100,momentum=.5,learning_rate=.001,batch_size=16)\n",
    "glass_back_1 = backprop_nn(glass_data, \"classification\", hidden_layer_count=1, network_shape=[9,1,6],epochs=500,momentum=.95,learning_rate=.01,batch_size=32)\n",
    "glass_back_2 = backprop_nn(glass_data, \"classification\", hidden_layer_count=2, network_shape=[9,1,9,6],epochs=500,momentum=.95,learning_rate=.01,batch_size=32)\n",
    "\n",
    "soybean_back_0 = backprop_nn(soybean_data, \"classification\", hidden_layer_count=0, epochs=10,momentum=.99,learning_rate=.01,batch_size=16)\n",
    "soybean_back_1 = backprop_nn(soybean_data, \"classification\", hidden_layer_count=1, network_shape=[35,1,4],epochs=500,momentum=.99,learning_rate=.01,batch_size=16)\n",
    "soybean_back_2 = backprop_nn(soybean_data, \"classification\", hidden_layer_count=2, network_shape=[35,1,9,4],epochs=500,momentum=.95,learning_rate=.1,batch_size=256)\n",
    "\n",
    "\n",
    "# Regression Sets\n",
    "abalone_back_0 = backprop_nn(abalone_data, \"regression\", hidden_layer_count=0, epochs=200,momentum=.9,learning_rate=.01,batch_size=32)\n",
    "abalone_back_1 = backprop_nn(abalone_data, \"regression\", hidden_layer_count=1, network_shape=[8,1,1],epochs=500,momentum=.95,learning_rate=.01,batch_size=16)\n",
    "abalone_back_2 = backprop_nn(abalone_data, \"regression\", hidden_layer_count=2, network_shape=[8,1,9,1],epochs=500,momentum=.99,learning_rate=.001,batch_size=16)\n",
    "\n",
    "fire_back_0 = backprop_nn(fire_data, \"regression\", hidden_layer_count=0, epochs=200,momentum=.9,learning_rate=.01,batch_size=16)\n",
    "fire_back_1 = backprop_nn(fire_data, \"regression\", hidden_layer_count=1, network_shape=[12,1,1],epochs=200,momentum=.95,learning_rate=.01,batch_size=16)\n",
    "fire_back_2 = backprop_nn(fire_data, \"regression\", hidden_layer_count=2, network_shape=[12,1,1,1],epochs=500,momentum=.95,learning_rate=.001,batch_size=16)\n",
    "\n",
    "machine_back_0 = backprop_nn(machine_data, \"regression\", hidden_layer_count=0, epochs=500,momentum=.95,learning_rate=.01,batch_size=16)\n",
    "machine_back_1 = backprop_nn(machine_data, \"regression\", hidden_layer_count=1, network_shape=[9,1,1],epochs=500,momentum=.99,learning_rate=.01,batch_size=16)\n",
    "machine_back_2 = backprop_nn(machine_data, \"regression\", hidden_layer_count=2, network_shape=[9,1,7,1],epochs=500,momentum=.99,learning_rate=.01,batch_size=16)"
   ]
  },
  {
   "cell_type": "markdown",
   "metadata": {},
   "source": [
    "# Differential Evolution NN Instantiation"
   ]
  },
  {
   "cell_type": "code",
   "execution_count": 6,
   "metadata": {},
   "outputs": [],
   "source": [
    "# Classification Sets\n",
    "cancer_DE_0 = DE_nn(cancer_data, \"classification\", network_shape=[9,2])\n",
    "cancer_DE_1 = DE_nn(cancer_data, \"classification\", network_shape=[9,1,2])\n",
    "cancer_DE_2 = DE_nn(cancer_data, \"classification\", network_shape=[9,1,5,2])\n",
    "\n",
    "glass_DE_0 = DE_nn(glass_data, \"classification\", network_shape=[9,6])\n",
    "glass_DE_1 = DE_nn(glass_data, \"classification\", network_shape=[9,1,6])\n",
    "glass_DE_2 = DE_nn(glass_data, \"classification\", network_shape=[9,1,9,6])\n",
    "\n",
    "soybean_DE_0 = DE_nn(soybean_data, \"classification\", network_shape=[35,4])\n",
    "soybean_DE_1 = DE_nn(soybean_data, \"classification\", network_shape=[35,1,4])\n",
    "soybean_DE_2 = DE_nn(soybean_data, \"classification\", network_shape=[35,1,9,4])\n",
    "\n",
    "\n",
    "# Regression Sets\n",
    "abalone_DE_0 = DE_nn(abalone_data, \"regression\", network_shape=[8,1])\n",
    "abalone_DE_1 = DE_nn(abalone_data, \"regression\", network_shape=[8,1,1])\n",
    "abalone_DE_2 = DE_nn(abalone_data, \"regression\", network_shape=[8,1,9,1])\n",
    "\n",
    "fire_DE_0 = DE_nn(fire_data, \"regression\", network_shape=[12,1])\n",
    "fire_DE_1 = DE_nn(fire_data, \"regression\", network_shape=[12,1,1])\n",
    "fire_DE_2 = DE_nn(fire_data, \"regression\", network_shape=[12,1,1,1])\n",
    "\n",
    "machine_DE_0 = DE_nn(machine_data, \"regression\", network_shape=[9,1])\n",
    "machine_DE_1 = DE_nn(machine_data, \"regression\", network_shape=[9,1,1])\n",
    "machine_DE_2 = DE_nn(machine_data, \"regression\", network_shape=[9,1,7,1])"
   ]
  },
  {
   "cell_type": "markdown",
   "metadata": {},
   "source": [
    "# Differential Evolution Testing"
   ]
  },
  {
   "cell_type": "markdown",
   "metadata": {},
   "source": [
    "## Abalone DE"
   ]
  },
  {
   "cell_type": "code",
   "execution_count": null,
   "metadata": {},
   "outputs": [
    {
     "name": "stderr",
     "output_type": "stream",
     "text": [
      "Tuning Epochs:  40%|████      | 2/5 [08:25<14:04, 281.61s/it]"
     ]
    }
   ],
   "source": [
    "abalone_DE_0_parameters = abalone_DE_0.tune()\n",
    "abalone_DE_0_score = abalone_DE_0.train_test(tuning_flag=False)\n",
    "print(f\"Average Performance: {np.mean(abalone_DE_0_score)}\")"
   ]
  },
  {
   "cell_type": "code",
   "execution_count": null,
   "metadata": {},
   "outputs": [],
   "source": [
    "abalone_DE_1_parameters = abalone_DE_1.tune()\n",
    "abalone_DE_1_score = abalone_DE_1.train_test(tuning_flag=False)\n",
    "print(f\"Average Performance: {np.mean(abalone_DE_1_score)}\")"
   ]
  },
  {
   "cell_type": "code",
   "execution_count": null,
   "metadata": {},
   "outputs": [],
   "source": [
    "abalone_DE_2_parameters = abalone_DE_2.tune()\n",
    "abalone_DE_2_score = abalone_DE_2.train_test(tuning_flag=False)\n",
    "print(f\"Average Performance: {np.mean(abalone_DE_2_score)}\")"
   ]
  },
  {
   "cell_type": "markdown",
   "metadata": {},
   "source": [
    "## Fire DE"
   ]
  },
  {
   "cell_type": "code",
   "execution_count": null,
   "metadata": {},
   "outputs": [],
   "source": [
    "fire_DE_0_parameters = fire_DE_0.tune()\n",
    "fire_DE_0_score = fire_DE_0.train_test(tuning_flag=False)\n",
    "print(f\"Average Performance: {np.mean(fire_DE_0_score)}\")"
   ]
  },
  {
   "cell_type": "code",
   "execution_count": null,
   "metadata": {},
   "outputs": [],
   "source": [
    "fire_DE_1_parameters = fire_DE_1.tune()\n",
    "fire_DE_1_score = fire_DE_1.train_test(tuning_flag=False)\n",
    "print(f\"Average Performance: {np.mean(fire_DE_1_score)}\")"
   ]
  },
  {
   "cell_type": "code",
   "execution_count": null,
   "metadata": {},
   "outputs": [],
   "source": [
    "fire_DE_2_parameters = fire_DE_2.tune()\n",
    "fire_DE_2_score = fire_DE_2.train_test(tuning_flag=False)\n",
    "print(f\"Average Performance: {np.mean(fire_DE_2_score)}\")"
   ]
  },
  {
   "cell_type": "markdown",
   "metadata": {},
   "source": [
    "## Machine DE"
   ]
  },
  {
   "cell_type": "code",
   "execution_count": null,
   "metadata": {},
   "outputs": [],
   "source": [
    "machine_DE_0_parameters = machine_DE_0.tune()\n",
    "machine_DE_0_score = machine_DE_0.train_test(tuning_flag=False)\n",
    "print(f\"Average Performance: {np.mean(machine_DE_0_score)}\")"
   ]
  },
  {
   "cell_type": "code",
   "execution_count": null,
   "metadata": {},
   "outputs": [],
   "source": [
    "machine_DE_1_parameters = machine_DE_1.tune()\n",
    "machine_DE_1_score = machine_DE_1.train_test(tuning_flag=False)\n",
    "print(f\"Average Performance: {np.mean(machine_DE_1_score)}\")"
   ]
  },
  {
   "cell_type": "code",
   "execution_count": null,
   "metadata": {},
   "outputs": [],
   "source": [
    "machine_DE_2_parameters = machine_DE_2.tune()\n",
    "machine_DE_2_score = machine_DE_2.train_test(tuning_flag=False)\n",
    "print(f\"Average Performance: {np.mean(machine_DE_2_score)}\")"
   ]
  },
  {
   "cell_type": "markdown",
   "metadata": {},
   "source": [
    "## Cancer DE"
   ]
  },
  {
   "cell_type": "code",
   "execution_count": null,
   "metadata": {},
   "outputs": [],
   "source": [
    "cancer_DE_0_parameters = cancer_DE_0.tune()\n",
    "cancer_DE_0_score = cancer_DE_0.train_test(tuning_flag=False)\n",
    "print(f\"Average Performance: {np.mean(cancer_DE_0_score)}\")"
   ]
  },
  {
   "cell_type": "code",
   "execution_count": null,
   "metadata": {},
   "outputs": [],
   "source": [
    "cancer_DE_0_parameters = cancer_DE_0.tune()\n",
    "cancer_DE_0_score = cancer_DE_0.train_test(tuning_flag=False)\n",
    "print(f\"Average Performance: {np.mean(cancer_DE_0_score)}\")"
   ]
  },
  {
   "cell_type": "code",
   "execution_count": null,
   "metadata": {},
   "outputs": [],
   "source": [
    "cancer_DE_0_parameters = cancer_DE_0.tune()\n",
    "cancer_DE_0_score = cancer_DE_0.train_test(tuning_flag=False)\n",
    "print(f\"Average Performance: {np.mean(cancer_DE_0_score)}\")"
   ]
  },
  {
   "cell_type": "markdown",
   "metadata": {},
   "source": [
    "## Glass DE"
   ]
  },
  {
   "cell_type": "code",
   "execution_count": null,
   "metadata": {},
   "outputs": [],
   "source": [
    "glass_DE_1_parameters = glass_DE_1.tune()\n",
    "glass_DE_1_score = glass_DE_1.train_test(tuning_flag=False)\n",
    "print(f\"Average Performance: {np.mean(glass_DE_1_score)}\")"
   ]
  },
  {
   "cell_type": "code",
   "execution_count": null,
   "metadata": {},
   "outputs": [],
   "source": [
    "glass_DE_2_parameters = glass_DE_2.tune()\n",
    "glass_DE_2_score = glass_DE_2.train_test(tuning_flag=False)\n",
    "print(f\"Average Performance: {np.mean(glass_DE_2_score)}\")"
   ]
  },
  {
   "cell_type": "code",
   "execution_count": null,
   "metadata": {},
   "outputs": [],
   "source": [
    "glass_DE_1_parameters = glass_DE_1.tune()\n",
    "glass_DE_1_score = glass_DE_1.train_test(tuning_flag=False)\n",
    "print(f\"Average Performance: {np.mean(glass_DE_1_score)}\")"
   ]
  },
  {
   "cell_type": "markdown",
   "metadata": {},
   "source": [
    "## Soybean DE"
   ]
  },
  {
   "cell_type": "code",
   "execution_count": null,
   "metadata": {},
   "outputs": [],
   "source": [
    "soybean_DE_2_parameters = soybean_DE_2.tune()\n",
    "soybean_DE_2_score = soybean_DE_2.train_test(tuning_flag=False)\n",
    "print(f\"Average Performance: {np.mean(soybean_DE_2_score)}\")"
   ]
  },
  {
   "cell_type": "code",
   "execution_count": null,
   "metadata": {},
   "outputs": [],
   "source": [
    "soybean_DE_1_parameters = soybean_DE_1.tune()\n",
    "soybean_DE_1_score = soybean_DE_1.train_test(tuning_flag=False)\n",
    "print(f\"Average Performance: {np.mean(soybean_DE_1_score)}\")"
   ]
  },
  {
   "cell_type": "code",
   "execution_count": null,
   "metadata": {},
   "outputs": [],
   "source": [
    "soybean_DE_2_parameters = soybean_DE_2.tune()\n",
    "soybean_DE_2_score = soybean_DE_2.train_test(tuning_flag=False)\n",
    "print(f\"Average Performance: {np.mean(soybean_DE_2_score)}\")"
   ]
  },
  {
   "cell_type": "markdown",
   "metadata": {},
   "source": [
    "# Backpropogation Testing"
   ]
  },
  {
   "cell_type": "markdown",
   "metadata": {},
   "source": [
    "## Abalone Backpropogation"
   ]
  },
  {
   "cell_type": "code",
   "execution_count": null,
   "metadata": {},
   "outputs": [],
   "source": [
    "#abalone_net_0_parameters = abalone_net_0.tune()\n",
    "abalone_back_0_score = abalone_back_0.train_test(tuning_flag=False)\n",
    "print(f\"Average Performance: {np.mean(abalone_back_0_score)}\")"
   ]
  },
  {
   "cell_type": "code",
   "execution_count": null,
   "metadata": {},
   "outputs": [],
   "source": [
    "#abalone_net_1_parameters = abalone_net_1.tune()\n",
    "abalone_back_1_score = abalone_back_1.train_test(tuning_flag=False)\n",
    "print(f\"Average Performance: {np.mean(abalone_back_1_score)}\")"
   ]
  },
  {
   "cell_type": "code",
   "execution_count": null,
   "metadata": {},
   "outputs": [],
   "source": [
    "#abalone_net_2_parameters = abalone_net_2.tune()\n",
    "abalone_back_2_score = abalone_back_2.train_test(tuning_flag=False)\n",
    "print(f\"Average Performance: {np.mean(abalone_back_2_score)}\")"
   ]
  },
  {
   "cell_type": "markdown",
   "metadata": {},
   "source": [
    "## Fire Backpropogation"
   ]
  },
  {
   "cell_type": "code",
   "execution_count": null,
   "metadata": {},
   "outputs": [],
   "source": [
    "#fire_net_0_parameters = fire_net_0.tune()\n",
    "fire_back_0_score = fire_back_0.train_test(tuning_flag=False)\n",
    "print(f\"Average Performance: {np.mean(fire_back_0_score)}\")"
   ]
  },
  {
   "cell_type": "code",
   "execution_count": null,
   "metadata": {},
   "outputs": [],
   "source": [
    "#fire_net_1_parameters = fire_net_1.tune()\n",
    "fire_back_1_score = fire_back_1.train_test(tuning_flag=False)\n",
    "print(f\"Average Performance: {np.mean(fire_back_1_score)}\")"
   ]
  },
  {
   "cell_type": "code",
   "execution_count": null,
   "metadata": {},
   "outputs": [],
   "source": [
    "#fire_net_2_parameters = fire_net_2.tune()\n",
    "fire_back_2_score = fire_back_2.train_test(tuning_flag=False)\n",
    "print(f\"Average Performance: {np.mean(fire_back_2_score)}\")"
   ]
  },
  {
   "cell_type": "markdown",
   "metadata": {},
   "source": [
    "## Machine Backpropogation"
   ]
  },
  {
   "cell_type": "code",
   "execution_count": null,
   "metadata": {},
   "outputs": [],
   "source": [
    "#machine_net_0_parameters = machine_net_0.tune()\n",
    "machine_back_0_score = machine_back_0.train_test(tuning_flag=False)\n",
    "print(f\"Average Performance: {np.mean(machine_back_0_score)}\")"
   ]
  },
  {
   "cell_type": "code",
   "execution_count": null,
   "metadata": {},
   "outputs": [],
   "source": [
    "#machine_net_1_parameters = machine_net_1.tune()\n",
    "machine_back_1_score = machine_back_1.train_test(tuning_flag=False)\n",
    "print(f\"Average Performance: {np.mean(machine_back_1_score)}\")"
   ]
  },
  {
   "cell_type": "code",
   "execution_count": null,
   "metadata": {},
   "outputs": [],
   "source": [
    "#machine_net_2_parameters = machine_net_2.tune()\n",
    "machine_back_2_score = machine_back_2.train_test(tuning_flag=False)\n",
    "print(f\"Average Performance: {np.mean(machine_back_2_score)}\")"
   ]
  },
  {
   "cell_type": "markdown",
   "metadata": {},
   "source": [
    "## Cancer Backpropogation"
   ]
  },
  {
   "cell_type": "code",
   "execution_count": null,
   "metadata": {},
   "outputs": [],
   "source": [
    "#cancer_net_0_parameters = cancer_net_0.tune()\n",
    "cancer_back_0_score = cancer_back_0.train_test(tuning_flag=False)\n",
    "print(f\"Average Performance: {np.mean(cancer_back_0_score)}\")"
   ]
  },
  {
   "cell_type": "code",
   "execution_count": null,
   "metadata": {},
   "outputs": [],
   "source": [
    "#cancer_net_1_parameters = cancer_net_1.tune()\n",
    "cancer_back_1_score = cancer_back_1.train_test(tuning_flag=False)\n",
    "print(f\"Average Performance: {np.mean(cancer_back_1_score)}\")"
   ]
  },
  {
   "cell_type": "code",
   "execution_count": null,
   "metadata": {},
   "outputs": [],
   "source": [
    "#cancer_net_2_parameters = cancer_net_2.tune()\n",
    "cancer_back_2_score = cancer_back_2.train_test(tuning_flag=False)\n",
    "print(f\"Average Performance: {np.mean(cancer_back_2_score)}\")"
   ]
  },
  {
   "cell_type": "markdown",
   "metadata": {},
   "source": [
    "## Glass Backpropogation"
   ]
  },
  {
   "cell_type": "code",
   "execution_count": null,
   "metadata": {},
   "outputs": [],
   "source": [
    "#glass_net_0_parameters = glass_net_0.tune()\n",
    "glass_back_0_score = glass_back_0.train_test(tuning_flag=False)\n",
    "print(f\"Average Performance: {np.mean(glass_back_0_score)}\")"
   ]
  },
  {
   "cell_type": "code",
   "execution_count": null,
   "metadata": {},
   "outputs": [],
   "source": [
    "#glass_net_1_parameters = glass_net_1.tune()\n",
    "glass_back_1_score = glass_back_1.train_test(tuning_flag=False)\n",
    "print(f\"Average Performance: {np.mean(glass_back_1_score)}\")"
   ]
  },
  {
   "cell_type": "code",
   "execution_count": null,
   "metadata": {},
   "outputs": [],
   "source": [
    "#glass_net_2_parameters = glass_net_2.tune()\n",
    "glass_back_2_score = glass_back_2.train_test(tuning_flag=False)\n",
    "print(f\"Average Performance: {np.mean(glass_back_2_score)}\")"
   ]
  },
  {
   "cell_type": "markdown",
   "metadata": {},
   "source": [
    "## Soybean Backpropogation"
   ]
  },
  {
   "cell_type": "code",
   "execution_count": null,
   "metadata": {},
   "outputs": [],
   "source": [
    "#soybean_net_0_parameters = soybean_net_0.tune()\n",
    "soybean_back_0_score = soybean_back_0.train_test(tuning_flag=False)\n",
    "print(f\"Average Performance: {np.mean(soybean_back_0_score)}\")"
   ]
  },
  {
   "cell_type": "code",
   "execution_count": null,
   "metadata": {},
   "outputs": [],
   "source": [
    "#soybean_net_1_parameters = soybean_net_1.tune()\n",
    "soybean_back_1_score = soybean_back_1.train_test(tuning_flag=False)\n",
    "print(f\"Average Performance: {np.mean(soybean_back_1_score)}\")"
   ]
  },
  {
   "cell_type": "code",
   "execution_count": null,
   "metadata": {},
   "outputs": [],
   "source": [
    "#soybean_net_2_parameters = soybean_net_2.tune()\n",
    "soybean_back_2_score = soybean_back_2.train_test(tuning_flag=False)\n",
    "print(f\"Average Performance: {np.mean(soybean_back_2_score)}\")"
   ]
  },
  {
   "cell_type": "markdown",
   "metadata": {},
   "source": [
    "# Plotting Metrics"
   ]
  },
  {
   "cell_type": "code",
   "execution_count": null,
   "metadata": {},
   "outputs": [],
   "source": [
    "#classification_arrays = [cancer_0_score,cancer_1_score,cancer_2_score,\n",
    "#                         glass_0_score,glass_1_score,glass_2_score,\n",
    "#                         soybean_0_score,soybean_1_score,soybean_2_score]\n",
    "#regression_arrays = [abalone_0_score,abalone_1_score,abalone_2_score,\n",
    "#                     fire_0_score,fire_1_score,fire_2_score,\n",
    "#                     machine_0_score,machine_1_score,machine_2_score]\n",
    "#arrays_to_save = []\n",
    "#arrays_to_save.extend(classification_arrays)\n",
    "#arrays_to_save.extend(regression_arrays)\n",
    "#print(arrays_to_save)\n",
    "#save_arrays_to_csv(arrays_to_save, 'results.csv')\n",
    "loaded_arrays = load_arrays_from_csv('results.csv')\n",
    "#loaded_arrays[1] = cancer_1_score\n",
    "classification_arrays = loaded_arrays[:9]\n",
    "regression_arrays = loaded_arrays[9:]\n",
    "#loaded_arrays = classification_arrays\n",
    "#loaded_arrays.extend(regression_arrays)\n",
    "classification_dataset_names = ['Cancer', 'Glass', 'Soybean']\n",
    "regression_dataset_names = ['Abalone', 'Fire', 'Machine']\n",
    "\n",
    "make_plots_2(loaded_arrays, classification_dataset_names, regression_dataset_names, (6, 5), 0, '/home/carlthedog3/CSCI_447/Project_3/Code/Figures/')"
   ]
  },
  {
   "cell_type": "code",
   "execution_count": null,
   "metadata": {},
   "outputs": [],
   "source": [
    "'''\n",
    "cancer_DE_1.init_population(100)\n",
    "print(f\"Population Set Datatype:\\n{type(cancer_DE_1.population)}\")\n",
    "print(f\"Weight Set Datatype:\\n{type(cancer_DE_1.population[0][0])}\")\n",
    "print(f\"Single Candidate:\\n{cancer_DE_1.population[0]}\")\n",
    "print(f\"Single Candidate's Weights:\\n{cancer_DE_1.population[0][0]}\")\n",
    "print(f\"Single Candidate's Biases:\\n{cancer_DE_1.population[0][1]}\")\n",
    "'''"
   ]
  }
 ],
 "metadata": {
  "kernelspec": {
   "display_name": "Python 3",
   "language": "python",
   "name": "python3"
  },
  "language_info": {
   "codemirror_mode": {
    "name": "ipython",
    "version": 3
   },
   "file_extension": ".py",
   "mimetype": "text/x-python",
   "name": "python",
   "nbconvert_exporter": "python",
   "pygments_lexer": "ipython3",
   "version": "3.10.12"
  }
 },
 "nbformat": 4,
 "nbformat_minor": 2
}
